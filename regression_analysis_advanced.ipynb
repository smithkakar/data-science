{
 "cells": [
  {
   "cell_type": "markdown",
   "metadata": {},
   "source": [
    "#### Why Generalized Linear Models?\n",
    "\n",
    "In Regression, we predict a dependent variable from one or more independent variables.\n",
    "\n",
    "The dependent variable is **numeric** and error is assumed to be **normally distributed**.\n",
    "\n",
    "What if our dependent variable is **discrete** (0 or 1) or just **count data** and the error terms do not follow normal distribution?\n",
    "\n",
    "Do we think our prediction would be good with the Linear Model?\n",
    "\n",
    "**Limitations of Linear Models**\n",
    "\n",
    "Linear Models are the most widely used models in Statistics. But they come with their own limitations.\n",
    "\n",
    "- Not proficient in handling binary data.\n",
    "- Not Accurate when count data (number of footfalls, number of pages visited etc.) is involved.\n",
    "- Some variables have a constraint of being only strictly positive.\n",
    "\n",
    "To fix some of these problems, we can go for Transformation.\n",
    "\n",
    "In some scenarios, Transformation **minimises** interpretability, so we have to look for other alternatives.\n",
    "\n",
    "**GLM**\n",
    "\n",
    "To overcome some limitations of Linear Models, we can go for Generalized Linear Models (GLMs).\n",
    "\n",
    "- Modeling is done on the **scale** in which the data was recorded.\n",
    "- Honor the known assumptions of the data.\n",
    "\n",
    "**GLM Components**\n",
    "\n",
    "GLMs comprise of 3 components:\n",
    "\n",
    "- Random Component that explains the data distribution of the response variable which further describes randomness/ errors.\n",
    "$$ Y_i \\sim N(\\mu_i, \\sigma^2) $$\n",
    "- Systematic Component that consists of linear predictors (the covariate and the coefficient).\n",
    "$$ \\eta_i = \\sum_{k=0} ^ {p} {x_k} {\\beta_k} $$\n",
    "- Link function that connects the mean of the response to predictors (in Systematic Component).\n",
    "$$ g(\\mu)= \\eta $$\n",
    "\n",
    "**Types of Generalized Models**\n",
    "\n",
    "- Logistic Regression used for predicting binary outcomes.\n",
    "- Poisson Regression used for predicting count data (# of footfalls, # of hits on a website etc.)"
   ]
  },
  {
   "cell_type": "code",
   "execution_count": 1,
   "metadata": {},
   "outputs": [
    {
     "name": "stdout",
     "output_type": "stream",
     "text": [
      "                 Generalized Linear Model Regression Results                  \n",
      "==============================================================================\n",
      "Dep. Variable:                 Result   No. Observations:                   10\n",
      "Model:                            GLM   Df Residuals:                        9\n",
      "Model Family:                Binomial   Df Model:                            0\n",
      "Link Function:                  logit   Scale:                          1.0000\n",
      "Method:                          IRLS   Log-Likelihood:                -6.6858\n",
      "Date:                Tue, 28 Jul 2020   Deviance:                       13.372\n",
      "Time:                        23:19:16   Pearson chi2:                     9.94\n",
      "No. Iterations:                     4                                         \n",
      "Covariance Type:            nonrobust                                         \n",
      "==============================================================================\n",
      "                 coef    std err          z      P>|z|      [0.025      0.975]\n",
      "------------------------------------------------------------------------------\n",
      "Score          0.0021      0.003      0.688      0.491      -0.004       0.008\n",
      "==============================================================================\n"
     ]
    }
   ],
   "source": [
    "# Statistical Perspective\n",
    "from __future__ import print_function\n",
    "import pandas as pd\n",
    "import statsmodels.api as sm\n",
    "import statsmodels.formula.api as smf\n",
    "\n",
    "# A dataset is created with scores a team got and Won or lost that respective game\n",
    "scores = [(200,1),(100,0),(150,1),(320,1),(270,1),(134,0),(322,1),(140,0),(210,0),(199,0)]\n",
    "labels = ['Score','Result']\n",
    "df = pd.DataFrame.from_records(scores, columns=labels)\n",
    "glm_binom = sm.GLM(df.Result, df.Score, family=sm.families.Binomial())\n",
    "res = glm_binom.fit()\n",
    "print(res.summary())\n",
    "\n",
    "# The value of the score coef tells us to what extent it is able to predict the likelihood of winning a game.\n",
    "# The rest of the values are a standard outcome of a regression equation."
   ]
  },
  {
   "cell_type": "code",
   "execution_count": 2,
   "metadata": {},
   "outputs": [],
   "source": [
    "# ML Perspective\n",
    "from sklearn.datasets import make_classification\n",
    "X, y = make_classification(n_samples=100, n_features=2,\n",
    "                           n_informative=2, n_redundant=0,\n",
    "                           n_clusters_per_class=1,\n",
    "                           class_sep = 2.0, random_state=101)"
   ]
  },
  {
   "cell_type": "code",
   "execution_count": 3,
   "metadata": {},
   "outputs": [
    {
     "data": {
      "image/png": "[encoded data removed]",
      "text/plain": [
       "<Figure size 432x288 with 1 Axes>"
      ]
     },
     "metadata": {
      "needs_background": "light"
     },
     "output_type": "display_data"
    }
   ],
   "source": [
    "%matplotlib inline\n",
    "import matplotlib.pyplot as plt\n",
    "plt.scatter(X[:, 0], X[:, 1], marker='o', c=y,\n",
    "            linewidth=0, edgecolor=None)\n",
    "plt.xlabel('Feature 1')\n",
    "plt.ylabel('Feature 2')\n",
    "plt.show()"
   ]
  },
  {
   "cell_type": "code",
   "execution_count": 4,
   "metadata": {},
   "outputs": [
    {
     "name": "stdout",
     "output_type": "stream",
     "text": [
      "              precision    recall  f1-score   support\n",
      "\n",
      "         0.0       1.00      0.93      0.97        15\n",
      "         1.0       0.95      1.00      0.97        18\n",
      "\n",
      "    accuracy                           0.97        33\n",
      "   macro avg       0.97      0.97      0.97        33\n",
      "weighted avg       0.97      0.97      0.97        33\n",
      "\n"
     ]
    }
   ],
   "source": [
    "from sklearn.model_selection import train_test_split\n",
    "from sklearn.linear_model import LogisticRegression\n",
    "from sklearn.metrics import classification_report\n",
    "\n",
    "X_train, X_test, y_train, y_test = train_test_split(X, y.astype(float),test_size=0.33, random_state=101)\n",
    "\n",
    "clf = LogisticRegression()\n",
    "clf.fit(X_train, y_train.astype(int))\n",
    "y_clf = clf.predict(X_test)\n",
    "print(classification_report(y_test, y_clf))"
   ]
  },
  {
   "cell_type": "code",
   "execution_count": 5,
   "metadata": {},
   "outputs": [
    {
     "data": {
      "text/plain": [
       "<matplotlib.legend.Legend at 0x7fda05adb790>"
      ]
     },
     "execution_count": 5,
     "metadata": {},
     "output_type": "execute_result"
    },
    {
     "data": {
      "image/png": "[encoded data removed]",
      "text/plain": [
       "<Figure size 432x288 with 1 Axes>"
      ]
     },
     "metadata": {
      "needs_background": "light"
     },
     "output_type": "display_data"
    }
   ],
   "source": [
    "from sklearn.metrics import roc_curve\n",
    "from sklearn.metrics import auc\n",
    "# Compute fpr, tpr, thresholds and roc auc\n",
    "fpr, tpr, thresholds = roc_curve(y_test, y_clf)\n",
    "roc_auc = auc(fpr, tpr)\n",
    "# Plot ROC curve\n",
    "plt.plot(fpr, tpr, label='ROC curve (area = %0.3f)' % roc_auc)\n",
    "plt.plot([0, 1], [0, 1], 'k--')  # random predictions curve\n",
    "plt.xlim([0.0, 1.0])\n",
    "plt.ylim([0.0, 1.0])\n",
    "plt.xlabel('False Positive Rate or (1 - Specificity)')\n",
    "plt.ylabel('True Positive Rate or (Sensitivity)')\n",
    "plt.title('Receiver Operating Characteristic')\n",
    "plt.legend(loc=\"lower right\")"
   ]
  },
  {
   "cell_type": "code",
   "execution_count": 6,
   "metadata": {},
   "outputs": [
    {
     "data": {
      "text/plain": [
       "array([[14,  1],\n",
       "       [ 0, 18]])"
      ]
     },
     "execution_count": 6,
     "metadata": {},
     "output_type": "execute_result"
    }
   ],
   "source": [
    "from sklearn.metrics import confusion_matrix\n",
    "confusion_matrix(y_test, y_clf)"
   ]
  },
  {
   "cell_type": "markdown",
   "metadata": {},
   "source": [
    "**Why Poisson Regression ?**\n",
    "\n",
    "One of the underlying assumptions of Linear Regression is that the error terms follow a normal distribution.\n",
    "\n",
    "When the error terms do not follow normal distribution, we go for other types of Regression.\n",
    "\n",
    "When we try to model count data (number of footfalls, traffic in a website etc.), we can go for Poisson Regression. \n",
    "\n",
    "In mathematical terms, Poisson Regression is used to model the **logarithm** of the count data."
   ]
  },
  {
   "cell_type": "code",
   "execution_count": 7,
   "metadata": {},
   "outputs": [],
   "source": [
    "import numpy as np\n",
    "import pandas as pd\n",
    "import statsmodels.api as sm"
   ]
  },
  {
   "cell_type": "code",
   "execution_count": 8,
   "metadata": {},
   "outputs": [],
   "source": [
    "dataset = pd.DataFrame({'A':np.random.rand(100)*1000, \n",
    "                        'B':np.random.rand(100)*100,  \n",
    "                        'C':np.random.rand(100)*10, \n",
    "                        'target':np.random.randint(0, 5, 100)})\n",
    "X = dataset[['A','B','C']]\n",
    "X['constant'] = 1\n",
    "y = dataset['target']\n",
    "size = 1e5\n",
    "nbeta = 3"
   ]
  },
  {
   "cell_type": "code",
   "execution_count": 9,
   "metadata": {},
   "outputs": [
    {
     "data": {
      "text/html": [
       "<table class=\"simpletable\">\n",
       "<caption>Generalized Linear Model Regression Results</caption>\n",
       "<tr>\n",
       "  <th>Dep. Variable:</th>        <td>target</td>      <th>  No. Observations:  </th>  <td>   100</td> \n",
       "</tr>\n",
       "<tr>\n",
       "  <th>Model:</th>                  <td>GLM</td>       <th>  Df Residuals:      </th>  <td>    96</td> \n",
       "</tr>\n",
       "<tr>\n",
       "  <th>Model Family:</th>         <td>Poisson</td>     <th>  Df Model:          </th>  <td>     3</td> \n",
       "</tr>\n",
       "<tr>\n",
       "  <th>Link Function:</th>          <td>log</td>       <th>  Scale:             </th> <td>  1.0000</td>\n",
       "</tr>\n",
       "<tr>\n",
       "  <th>Method:</th>                <td>IRLS</td>       <th>  Log-Likelihood:    </th> <td> -155.72</td>\n",
       "</tr>\n",
       "<tr>\n",
       "  <th>Date:</th>            <td>Tue, 28 Jul 2020</td> <th>  Deviance:          </th> <td>  104.68</td>\n",
       "</tr>\n",
       "<tr>\n",
       "  <th>Time:</th>                <td>23:19:17</td>     <th>  Pearson chi2:      </th>  <td>  82.5</td> \n",
       "</tr>\n",
       "<tr>\n",
       "  <th>No. Iterations:</th>          <td>4</td>        <th>                     </th>     <td> </td>   \n",
       "</tr>\n",
       "<tr>\n",
       "  <th>Covariance Type:</th>     <td>nonrobust</td>    <th>                     </th>     <td> </td>   \n",
       "</tr>\n",
       "</table>\n",
       "<table class=\"simpletable\">\n",
       "<tr>\n",
       "      <td></td>        <th>coef</th>     <th>std err</th>      <th>z</th>      <th>P>|z|</th>  <th>[0.025</th>    <th>0.975]</th>  \n",
       "</tr>\n",
       "<tr>\n",
       "  <th>A</th>        <td>    0.0002</td> <td>    0.000</td> <td>    0.625</td> <td> 0.532</td> <td>   -0.000</td> <td>    0.001</td>\n",
       "</tr>\n",
       "<tr>\n",
       "  <th>B</th>        <td>    0.0032</td> <td>    0.003</td> <td>    1.173</td> <td> 0.241</td> <td>   -0.002</td> <td>    0.009</td>\n",
       "</tr>\n",
       "<tr>\n",
       "  <th>C</th>        <td>   -0.0728</td> <td>    0.028</td> <td>   -2.613</td> <td> 0.009</td> <td>   -0.127</td> <td>   -0.018</td>\n",
       "</tr>\n",
       "<tr>\n",
       "  <th>constant</th> <td>    0.6405</td> <td>    0.241</td> <td>    2.662</td> <td> 0.008</td> <td>    0.169</td> <td>    1.112</td>\n",
       "</tr>\n",
       "</table>"
      ],
      "text/plain": [
       "<class 'statsmodels.iolib.summary.Summary'>\n",
       "\"\"\"\n",
       "                 Generalized Linear Model Regression Results                  \n",
       "==============================================================================\n",
       "Dep. Variable:                 target   No. Observations:                  100\n",
       "Model:                            GLM   Df Residuals:                       96\n",
       "Model Family:                 Poisson   Df Model:                            3\n",
       "Link Function:                    log   Scale:                          1.0000\n",
       "Method:                          IRLS   Log-Likelihood:                -155.72\n",
       "Date:                Tue, 28 Jul 2020   Deviance:                       104.68\n",
       "Time:                        23:19:17   Pearson chi2:                     82.5\n",
       "No. Iterations:                     4                                         \n",
       "Covariance Type:            nonrobust                                         \n",
       "==============================================================================\n",
       "                 coef    std err          z      P>|z|      [0.025      0.975]\n",
       "------------------------------------------------------------------------------\n",
       "A              0.0002      0.000      0.625      0.532      -0.000       0.001\n",
       "B              0.0032      0.003      1.173      0.241      -0.002       0.009\n",
       "C             -0.0728      0.028     -2.613      0.009      -0.127      -0.018\n",
       "constant       0.6405      0.241      2.662      0.008       0.169       1.112\n",
       "==============================================================================\n",
       "\"\"\""
      ]
     },
     "execution_count": 9,
     "metadata": {},
     "output_type": "execute_result"
    }
   ],
   "source": [
    "pois_glm = sm.GLM(y, X, family=sm.families.Poisson())\n",
    "pois_res = pois_glm.fit()\n",
    "pois_res.summary()"
   ]
  },
  {
   "cell_type": "markdown",
   "metadata": {},
   "source": [
    "On viewing the results and the coefficient values, we can say to what extent each coef is explaining the log of count data i.e the dependent variable.\n",
    "\n",
    "The rest of the values are what a regression output shows."
   ]
  },
  {
   "cell_type": "markdown",
   "metadata": {},
   "source": [
    "### Bayesian vs Linear Regression\n",
    "\n",
    "Bayesian Regression is similar to Linear Regression in many ways.\n",
    "\n",
    "- In Linear Regression, the output is number/ value.\n",
    "- In Bayesian Regression, the output is also a value but it also returns the entire probability distribution.\n",
    "\n",
    "**How is the Probability Distribution constructed in Bayesian Regression?**\n",
    "\n",
    "Here, the predicted value and variance value are returned as an output. Therefore, with mean value and the variance value (as the standard deviation), the probability distribution can be constructed.\n",
    "\n",
    "**Pros of Bayesian Regression**\n",
    "\n",
    "- Robust to Gaussian Noise.\n",
    "- Works well if the number of features and observations in the dataset are comparable.\n",
    "\n",
    "**Cons of Bayesian Regression**\n",
    "\n",
    "- Time-consuming."
   ]
  },
  {
   "cell_type": "code",
   "execution_count": 10,
   "metadata": {},
   "outputs": [
    {
     "data": {
      "text/plain": [
       "BayesianRidge(compute_score=True)"
      ]
     },
     "execution_count": 10,
     "metadata": {},
     "output_type": "execute_result"
    }
   ],
   "source": [
    "from sklearn.linear_model import BayesianRidge\n",
    "regr = BayesianRidge(compute_score=True)\n",
    "regr.fit(X, y)\n",
    "regr"
   ]
  },
  {
   "cell_type": "markdown",
   "metadata": {},
   "source": [
    "### Ranking Problem\n",
    "\n",
    "Consider a dataset with some features related to a car along with a price.\n",
    "\n",
    "Insurance companies would want to assess if the car is riskier or not to sell/ buy on a given scale.\n",
    "\n",
    "How should we design this problem?\n",
    "\n",
    "**Approach**\n",
    "\n",
    "The above problem can be modeled as a regression problem where we are predicting the risk on a scale.\n",
    "\n",
    "The methodology to assess the prediction will be different.\n",
    "\n",
    "In this scenario, we can go for **label ranking loss**, a metric that indicates the strength ranking.\n",
    "\n",
    "Mean Absolute and Mean Standard Errors are not applicable in this scenario.\n",
    "\n",
    "Another way to measure the prediction accuracy is by **Label Ranking Average Precision**."
   ]
  },
  {
   "cell_type": "markdown",
   "metadata": {},
   "source": [
    "### Examples: Basic Regression"
   ]
  },
  {
   "cell_type": "code",
   "execution_count": 11,
   "metadata": {},
   "outputs": [],
   "source": [
    "import pandas as pd\n",
    "\n",
    "price = [160,180,200,220,240,260,280,300]\n",
    "sale = [126,103,82,75,82,40,20, 15]\n",
    "priceDF = pd.DataFrame(price, columns=list('x'))\n",
    "saleDF = pd.DataFrame(sale, columns=list('y'))\n",
    "houseDf = pd.concat((priceDF, saleDF), axis=1)"
   ]
  },
  {
   "cell_type": "code",
   "execution_count": 12,
   "metadata": {},
   "outputs": [
    {
     "name": "stdout",
     "output_type": "stream",
     "text": [
      "                            OLS Regression Results                            \n",
      "==============================================================================\n",
      "Dep. Variable:                      y   R-squared:                       0.936\n",
      "Model:                            OLS   Adj. R-squared:                  0.926\n",
      "Method:                 Least Squares   F-statistic:                     88.14\n",
      "Date:                Tue, 28 Jul 2020   Prob (F-statistic):           8.29e-05\n",
      "Time:                        23:19:17   Log-Likelihood:                -29.217\n",
      "No. Observations:                   8   AIC:                             62.43\n",
      "Df Residuals:                       6   BIC:                             62.59\n",
      "Df Model:                           1                                         \n",
      "Covariance Type:            nonrobust                                         \n",
      "==============================================================================\n",
      "                 coef    std err          t      P>|t|      [0.025      0.975]\n",
      "------------------------------------------------------------------------------\n",
      "Intercept    247.3571     19.493     12.690      0.000     199.660     295.055\n",
      "x             -0.7804      0.083     -9.389      0.000      -0.984      -0.577\n",
      "==============================================================================\n",
      "Omnibus:                        9.020   Durbin-Watson:                   2.150\n",
      "Prob(Omnibus):                  0.011   Jarque-Bera (JB):                2.898\n",
      "Skew:                           1.377   Prob(JB):                        0.235\n",
      "Kurtosis:                       4.052   Cond. No.                     1.20e+03\n",
      "==============================================================================\n",
      "\n",
      "Warnings:\n",
      "[1] Standard Errors assume that the covariance matrix of the errors is correctly specified.\n",
      "[2] The condition number is large, 1.2e+03. This might indicate that there are\n",
      "strong multicollinearity or other numerical problems.\n"
     ]
    },
    {
     "name": "stderr",
     "output_type": "stream",
     "text": [
      "/Users/smithkakar/anaconda3/envs/ds/lib/python3.7/site-packages/scipy/stats/stats.py:1604: UserWarning: kurtosistest only valid for n>=20 ... continuing anyway, n=8\n",
      "  \"anyway, n=%i\" % int(n))\n"
     ]
    }
   ],
   "source": [
    "import statsmodels.api as sm\n",
    "import statsmodels.formula.api as smf\n",
    "\n",
    "smfModel = smf.ols('y~x', data=houseDf).fit()\n",
    "print(smfModel.summary())"
   ]
  },
  {
   "cell_type": "markdown",
   "metadata": {},
   "source": [
    "- **DF Residuals:** The degrees of freedom of the residuals (difference between the number of observations and parameters).\n",
    "- **DF Model:** The degrees of freedom of the model (number of parameters estimated in the model excluding the constant term).\n",
    "- **R-squared:** Measure that says how well the model has performed with respect to the baseline model."
   ]
  },
  {
   "cell_type": "code",
   "execution_count": 13,
   "metadata": {},
   "outputs": [
    {
     "name": "stdout",
     "output_type": "stream",
     "text": [
      "      CRIM    ZN  INDUS  CHAS    NOX     RM   AGE     DIS  RAD    TAX  \\\n",
      "0  0.00632  18.0   2.31   0.0  0.538  6.575  65.2  4.0900  1.0  296.0   \n",
      "1  0.02731   0.0   7.07   0.0  0.469  6.421  78.9  4.9671  2.0  242.0   \n",
      "2  0.02729   0.0   7.07   0.0  0.469  7.185  61.1  4.9671  2.0  242.0   \n",
      "3  0.03237   0.0   2.18   0.0  0.458  6.998  45.8  6.0622  3.0  222.0   \n",
      "4  0.06905   0.0   2.18   0.0  0.458  7.147  54.2  6.0622  3.0  222.0   \n",
      "\n",
      "   PTRATIO       B  LSTAT  target  \n",
      "0     15.3  396.90   4.98    24.0  \n",
      "1     17.8  396.90   9.14    21.6  \n",
      "2     17.8  392.83   4.03    34.7  \n",
      "3     18.7  394.63   2.94    33.4  \n",
      "4     18.7  396.90   5.33    36.2  \n"
     ]
    }
   ],
   "source": [
    "from sklearn.datasets import fetch_california_housing\n",
    "from sklearn.datasets import load_boston\n",
    "import pandas as pd \n",
    "boston = load_boston()\n",
    "california = fetch_california_housing()\n",
    "dataset = pd.DataFrame(boston.data, columns=boston.feature_names)\n",
    "dataset['target'] = boston.target\n",
    "print(dataset.head()) "
   ]
  },
  {
   "cell_type": "markdown",
   "metadata": {},
   "source": [
    "**Multiple Linear Regression**"
   ]
  },
  {
   "cell_type": "code",
   "execution_count": 14,
   "metadata": {},
   "outputs": [],
   "source": [
    "import pandas as pd\n",
    "price = [160,180,200,220,240,260,280]\n",
    "sale = [126,103,82,75,82,40,20]\n",
    "cars = [0,9,19,5,25,1,20]\n",
    "priceDF = pd.DataFrame(price, columns=list('x'))\n",
    "saleDF = pd.DataFrame(sale, columns=list('y'))\n",
    "carsDf = pd.DataFrame(cars, columns=list('z'))\n",
    "houseDf = pd.concat([priceDF, saleDF, carsDf],axis=1)"
   ]
  },
  {
   "cell_type": "code",
   "execution_count": 15,
   "metadata": {},
   "outputs": [
    {
     "name": "stderr",
     "output_type": "stream",
     "text": [
      "/Users/smithkakar/anaconda3/envs/ds/lib/python3.7/site-packages/statsmodels/stats/stattools.py:71: ValueWarning: omni_normtest is not valid with less than 8 observations; 7 samples were given.\n",
      "  \"samples were given.\" % int(n), ValueWarning)\n"
     ]
    },
    {
     "data": {
      "text/html": [
       "<table class=\"simpletable\">\n",
       "<caption>OLS Regression Results</caption>\n",
       "<tr>\n",
       "  <th>Dep. Variable:</th>            <td>y</td>        <th>  R-squared:         </th> <td>   0.919</td>\n",
       "</tr>\n",
       "<tr>\n",
       "  <th>Model:</th>                   <td>OLS</td>       <th>  Adj. R-squared:    </th> <td>   0.879</td>\n",
       "</tr>\n",
       "<tr>\n",
       "  <th>Method:</th>             <td>Least Squares</td>  <th>  F-statistic:       </th> <td>   22.74</td>\n",
       "</tr>\n",
       "<tr>\n",
       "  <th>Date:</th>             <td>Tue, 28 Jul 2020</td> <th>  Prob (F-statistic):</th>  <td>0.00654</td>\n",
       "</tr>\n",
       "<tr>\n",
       "  <th>Time:</th>                 <td>23:19:19</td>     <th>  Log-Likelihood:    </th> <td> -25.654</td>\n",
       "</tr>\n",
       "<tr>\n",
       "  <th>No. Observations:</th>      <td>     7</td>      <th>  AIC:               </th> <td>   57.31</td>\n",
       "</tr>\n",
       "<tr>\n",
       "  <th>Df Residuals:</th>          <td>     4</td>      <th>  BIC:               </th> <td>   57.15</td>\n",
       "</tr>\n",
       "<tr>\n",
       "  <th>Df Model:</th>              <td>     2</td>      <th>                     </th>     <td> </td>   \n",
       "</tr>\n",
       "<tr>\n",
       "  <th>Covariance Type:</th>      <td>nonrobust</td>    <th>                     </th>     <td> </td>   \n",
       "</tr>\n",
       "</table>\n",
       "<table class=\"simpletable\">\n",
       "<tr>\n",
       "    <td></td>       <th>coef</th>     <th>std err</th>      <th>t</th>      <th>P>|t|</th>  <th>[0.025</th>    <th>0.975]</th>  \n",
       "</tr>\n",
       "<tr>\n",
       "  <th>const</th> <td>  252.8597</td> <td>   26.812</td> <td>    9.431</td> <td> 0.001</td> <td>  178.417</td> <td>  327.302</td>\n",
       "</tr>\n",
       "<tr>\n",
       "  <th>x</th>     <td>   -0.8249</td> <td>    0.128</td> <td>   -6.445</td> <td> 0.003</td> <td>   -1.180</td> <td>   -0.470</td>\n",
       "</tr>\n",
       "<tr>\n",
       "  <th>z</th>     <td>    0.3593</td> <td>    0.552</td> <td>    0.650</td> <td> 0.551</td> <td>   -1.174</td> <td>    1.893</td>\n",
       "</tr>\n",
       "</table>\n",
       "<table class=\"simpletable\">\n",
       "<tr>\n",
       "  <th>Omnibus:</th>       <td>   nan</td> <th>  Durbin-Watson:     </th> <td>   1.646</td>\n",
       "</tr>\n",
       "<tr>\n",
       "  <th>Prob(Omnibus):</th> <td>   nan</td> <th>  Jarque-Bera (JB):  </th> <td>   0.407</td>\n",
       "</tr>\n",
       "<tr>\n",
       "  <th>Skew:</th>          <td> 0.546</td> <th>  Prob(JB):          </th> <td>   0.816</td>\n",
       "</tr>\n",
       "<tr>\n",
       "  <th>Kurtosis:</th>      <td> 2.549</td> <th>  Cond. No.          </th> <td>1.27e+03</td>\n",
       "</tr>\n",
       "</table><br/><br/>Warnings:<br/>[1] Standard Errors assume that the covariance matrix of the errors is correctly specified.<br/>[2] The condition number is large, 1.27e+03. This might indicate that there are<br/>strong multicollinearity or other numerical problems."
      ],
      "text/plain": [
       "<class 'statsmodels.iolib.summary.Summary'>\n",
       "\"\"\"\n",
       "                            OLS Regression Results                            \n",
       "==============================================================================\n",
       "Dep. Variable:                      y   R-squared:                       0.919\n",
       "Model:                            OLS   Adj. R-squared:                  0.879\n",
       "Method:                 Least Squares   F-statistic:                     22.74\n",
       "Date:                Tue, 28 Jul 2020   Prob (F-statistic):            0.00654\n",
       "Time:                        23:19:19   Log-Likelihood:                -25.654\n",
       "No. Observations:                   7   AIC:                             57.31\n",
       "Df Residuals:                       4   BIC:                             57.15\n",
       "Df Model:                           2                                         \n",
       "Covariance Type:            nonrobust                                         \n",
       "==============================================================================\n",
       "                 coef    std err          t      P>|t|      [0.025      0.975]\n",
       "------------------------------------------------------------------------------\n",
       "const        252.8597     26.812      9.431      0.001     178.417     327.302\n",
       "x             -0.8249      0.128     -6.445      0.003      -1.180      -0.470\n",
       "z              0.3593      0.552      0.650      0.551      -1.174       1.893\n",
       "==============================================================================\n",
       "Omnibus:                          nan   Durbin-Watson:                   1.646\n",
       "Prob(Omnibus):                    nan   Jarque-Bera (JB):                0.407\n",
       "Skew:                           0.546   Prob(JB):                        0.816\n",
       "Kurtosis:                       2.549   Cond. No.                     1.27e+03\n",
       "==============================================================================\n",
       "\n",
       "Warnings:\n",
       "[1] Standard Errors assume that the covariance matrix of the errors is correctly specified.\n",
       "[2] The condition number is large, 1.27e+03. This might indicate that there are\n",
       "strong multicollinearity or other numerical problems.\n",
       "\"\"\""
      ]
     },
     "execution_count": 15,
     "metadata": {},
     "output_type": "execute_result"
    }
   ],
   "source": [
    "X = houseDf.drop(['y'], axis=1)\n",
    "y = houseDf.y\n",
    "Xc = sm.add_constant(X)\n",
    "linear_regression = sm.OLS(y,Xc)\n",
    "fitted_model = linear_regression.fit()\n",
    "fitted_model.summary()"
   ]
  },
  {
   "cell_type": "markdown",
   "metadata": {},
   "source": [
    "**Note:**\n",
    "- If the coef is zero, then that independent variable does not predict the dependent variable correctly.\n",
    "- Std err denotes how much each coefficient varies from the estimated value.\n",
    "- t-value = Estimated coef/ stderr\n",
    "- P(>|t|) is how likely the estimated value is zero\n",
    "\n",
    "    - This value also indicates how significant a variable is to a model.\n",
    "    - The smaller the value, the more significant a given variable is to the model.\n",
    "    - it is better to remove variables with higher values of `P(>|t|)`"
   ]
  }
 ],
 "metadata": {
  "kernelspec": {
   "display_name": "Python 3",
   "language": "python",
   "name": "python3"
  },
  "language_info": {
   "codemirror_mode": {
    "name": "ipython",
    "version": 3
   },
   "file_extension": ".py",
   "mimetype": "text/x-python",
   "name": "python",
   "nbconvert_exporter": "python",
   "pygments_lexer": "ipython3",
   "version": "3.7.7"
  }
 },
 "nbformat": 4,
 "nbformat_minor": 4
}
