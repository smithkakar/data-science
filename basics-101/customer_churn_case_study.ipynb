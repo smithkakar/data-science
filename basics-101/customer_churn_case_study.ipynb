{
 "cells": [
  {
   "cell_type": "code",
   "execution_count": 1,
   "metadata": {},
   "outputs": [],
   "source": [
    "import numpy as np\n",
    "import pandas as pd\n",
    "pd.set_option(\"display.max.columns\", None)"
   ]
  },
  {
   "cell_type": "code",
   "execution_count": 2,
   "metadata": {},
   "outputs": [],
   "source": [
    "churn = pd.read_csv('../data/mini-case-studies/churn.csv', sep=',')"
   ]
  },
  {
   "cell_type": "code",
   "execution_count": 3,
   "metadata": {},
   "outputs": [
    {
     "data": {
      "text/html": [
       "<div>\n",
       "<style scoped>\n",
       "    .dataframe tbody tr th:only-of-type {\n",
       "        vertical-align: middle;\n",
       "    }\n",
       "\n",
       "    .dataframe tbody tr th {\n",
       "        vertical-align: top;\n",
       "    }\n",
       "\n",
       "    .dataframe thead th {\n",
       "        text-align: right;\n",
       "    }\n",
       "</style>\n",
       "<table border=\"1\" class=\"dataframe\">\n",
       "  <thead>\n",
       "    <tr style=\"text-align: right;\">\n",
       "      <th></th>\n",
       "      <th>State</th>\n",
       "      <th>Account Length</th>\n",
       "      <th>Area Code</th>\n",
       "      <th>Phone</th>\n",
       "      <th>Int'l Plan</th>\n",
       "      <th>VMail Plan</th>\n",
       "      <th>VMail Message</th>\n",
       "      <th>Day Mins</th>\n",
       "      <th>Day Calls</th>\n",
       "      <th>Day Charge</th>\n",
       "      <th>Eve Mins</th>\n",
       "      <th>Eve Calls</th>\n",
       "      <th>Eve Charge</th>\n",
       "      <th>Night Mins</th>\n",
       "      <th>Night Calls</th>\n",
       "      <th>Night Charge</th>\n",
       "      <th>Intl Mins</th>\n",
       "      <th>Intl Calls</th>\n",
       "      <th>Intl Charge</th>\n",
       "      <th>CustServ Calls</th>\n",
       "      <th>Churn?</th>\n",
       "    </tr>\n",
       "  </thead>\n",
       "  <tbody>\n",
       "    <tr>\n",
       "      <th>0</th>\n",
       "      <td>KS</td>\n",
       "      <td>128</td>\n",
       "      <td>415</td>\n",
       "      <td>382-4657</td>\n",
       "      <td>no</td>\n",
       "      <td>yes</td>\n",
       "      <td>25</td>\n",
       "      <td>265.1</td>\n",
       "      <td>110</td>\n",
       "      <td>45.07</td>\n",
       "      <td>197.4</td>\n",
       "      <td>99</td>\n",
       "      <td>16.78</td>\n",
       "      <td>244.7</td>\n",
       "      <td>91</td>\n",
       "      <td>11.01</td>\n",
       "      <td>10.0</td>\n",
       "      <td>3</td>\n",
       "      <td>2.70</td>\n",
       "      <td>1</td>\n",
       "      <td>False.</td>\n",
       "    </tr>\n",
       "    <tr>\n",
       "      <th>1</th>\n",
       "      <td>OH</td>\n",
       "      <td>107</td>\n",
       "      <td>415</td>\n",
       "      <td>371-7191</td>\n",
       "      <td>no</td>\n",
       "      <td>yes</td>\n",
       "      <td>26</td>\n",
       "      <td>161.6</td>\n",
       "      <td>123</td>\n",
       "      <td>27.47</td>\n",
       "      <td>195.5</td>\n",
       "      <td>103</td>\n",
       "      <td>16.62</td>\n",
       "      <td>254.4</td>\n",
       "      <td>103</td>\n",
       "      <td>11.45</td>\n",
       "      <td>13.7</td>\n",
       "      <td>3</td>\n",
       "      <td>3.70</td>\n",
       "      <td>1</td>\n",
       "      <td>False.</td>\n",
       "    </tr>\n",
       "    <tr>\n",
       "      <th>2</th>\n",
       "      <td>NJ</td>\n",
       "      <td>137</td>\n",
       "      <td>415</td>\n",
       "      <td>358-1921</td>\n",
       "      <td>no</td>\n",
       "      <td>no</td>\n",
       "      <td>0</td>\n",
       "      <td>243.4</td>\n",
       "      <td>114</td>\n",
       "      <td>41.38</td>\n",
       "      <td>121.2</td>\n",
       "      <td>110</td>\n",
       "      <td>10.30</td>\n",
       "      <td>162.6</td>\n",
       "      <td>104</td>\n",
       "      <td>7.32</td>\n",
       "      <td>12.2</td>\n",
       "      <td>5</td>\n",
       "      <td>3.29</td>\n",
       "      <td>0</td>\n",
       "      <td>False.</td>\n",
       "    </tr>\n",
       "    <tr>\n",
       "      <th>3</th>\n",
       "      <td>OH</td>\n",
       "      <td>84</td>\n",
       "      <td>408</td>\n",
       "      <td>375-9999</td>\n",
       "      <td>yes</td>\n",
       "      <td>no</td>\n",
       "      <td>0</td>\n",
       "      <td>299.4</td>\n",
       "      <td>71</td>\n",
       "      <td>50.90</td>\n",
       "      <td>61.9</td>\n",
       "      <td>88</td>\n",
       "      <td>5.26</td>\n",
       "      <td>196.9</td>\n",
       "      <td>89</td>\n",
       "      <td>8.86</td>\n",
       "      <td>6.6</td>\n",
       "      <td>7</td>\n",
       "      <td>1.78</td>\n",
       "      <td>2</td>\n",
       "      <td>False.</td>\n",
       "    </tr>\n",
       "    <tr>\n",
       "      <th>4</th>\n",
       "      <td>OK</td>\n",
       "      <td>75</td>\n",
       "      <td>415</td>\n",
       "      <td>330-6626</td>\n",
       "      <td>yes</td>\n",
       "      <td>no</td>\n",
       "      <td>0</td>\n",
       "      <td>166.7</td>\n",
       "      <td>113</td>\n",
       "      <td>28.34</td>\n",
       "      <td>148.3</td>\n",
       "      <td>122</td>\n",
       "      <td>12.61</td>\n",
       "      <td>186.9</td>\n",
       "      <td>121</td>\n",
       "      <td>8.41</td>\n",
       "      <td>10.1</td>\n",
       "      <td>3</td>\n",
       "      <td>2.73</td>\n",
       "      <td>3</td>\n",
       "      <td>False.</td>\n",
       "    </tr>\n",
       "  </tbody>\n",
       "</table>\n",
       "</div>"
      ],
      "text/plain": [
       "  State  Account Length  Area Code     Phone Int'l Plan VMail Plan  \\\n",
       "0    KS             128        415  382-4657         no        yes   \n",
       "1    OH             107        415  371-7191         no        yes   \n",
       "2    NJ             137        415  358-1921         no         no   \n",
       "3    OH              84        408  375-9999        yes         no   \n",
       "4    OK              75        415  330-6626        yes         no   \n",
       "\n",
       "   VMail Message  Day Mins  Day Calls  Day Charge  Eve Mins  Eve Calls  \\\n",
       "0             25     265.1        110       45.07     197.4         99   \n",
       "1             26     161.6        123       27.47     195.5        103   \n",
       "2              0     243.4        114       41.38     121.2        110   \n",
       "3              0     299.4         71       50.90      61.9         88   \n",
       "4              0     166.7        113       28.34     148.3        122   \n",
       "\n",
       "   Eve Charge  Night Mins  Night Calls  Night Charge  Intl Mins  Intl Calls  \\\n",
       "0       16.78       244.7           91         11.01       10.0           3   \n",
       "1       16.62       254.4          103         11.45       13.7           3   \n",
       "2       10.30       162.6          104          7.32       12.2           5   \n",
       "3        5.26       196.9           89          8.86        6.6           7   \n",
       "4       12.61       186.9          121          8.41       10.1           3   \n",
       "\n",
       "   Intl Charge  CustServ Calls  Churn?  \n",
       "0         2.70               1  False.  \n",
       "1         3.70               1  False.  \n",
       "2         3.29               0  False.  \n",
       "3         1.78               2  False.  \n",
       "4         2.73               3  False.  "
      ]
     },
     "execution_count": 3,
     "metadata": {},
     "output_type": "execute_result"
    }
   ],
   "source": [
    "churn.head()"
   ]
  },
  {
   "cell_type": "code",
   "execution_count": 4,
   "metadata": {},
   "outputs": [
    {
     "name": "stdout",
     "output_type": "stream",
     "text": [
      "(3333, 21)\n"
     ]
    }
   ],
   "source": [
    "data_size = churn.shape\n",
    "print(data_size)"
   ]
  },
  {
   "cell_type": "code",
   "execution_count": 5,
   "metadata": {},
   "outputs": [
    {
     "name": "stdout",
     "output_type": "stream",
     "text": [
      "['State', 'Account Length', 'Area Code', 'Phone', \"Int'l Plan\", 'VMail Plan', 'VMail Message', 'Day Mins', 'Day Calls', 'Day Charge', 'Eve Mins', 'Eve Calls', 'Eve Charge', 'Night Mins', 'Night Calls', 'Night Charge', 'Intl Mins', 'Intl Calls', 'Intl Charge', 'CustServ Calls', 'Churn?']\n"
     ]
    }
   ],
   "source": [
    "churn_col_names = list(churn.columns)\n",
    "print(churn_col_names)"
   ]
  },
  {
   "cell_type": "code",
   "execution_count": 6,
   "metadata": {},
   "outputs": [
    {
     "name": "stdout",
     "output_type": "stream",
     "text": [
      "       Account Length    Area Code  VMail Message     Day Mins    Day Calls  \\\n",
      "count     3333.000000  3333.000000    3333.000000  3333.000000  3333.000000   \n",
      "mean       101.064806   437.182418       8.099010   179.775098   100.435644   \n",
      "std         39.822106    42.371290      13.688365    54.467389    20.069084   \n",
      "min          1.000000   408.000000       0.000000     0.000000     0.000000   \n",
      "25%         74.000000   408.000000       0.000000   143.700000    87.000000   \n",
      "50%        101.000000   415.000000       0.000000   179.400000   101.000000   \n",
      "75%        127.000000   510.000000      20.000000   216.400000   114.000000   \n",
      "max        243.000000   510.000000      51.000000   350.800000   165.000000   \n",
      "\n",
      "        Day Charge     Eve Mins    Eve Calls   Eve Charge   Night Mins  \\\n",
      "count  3333.000000  3333.000000  3333.000000  3333.000000  3333.000000   \n",
      "mean     30.562307   200.980348   100.114311    17.083540   200.872037   \n",
      "std       9.259435    50.713844    19.922625     4.310668    50.573847   \n",
      "min       0.000000     0.000000     0.000000     0.000000    23.200000   \n",
      "25%      24.430000   166.600000    87.000000    14.160000   167.000000   \n",
      "50%      30.500000   201.400000   100.000000    17.120000   201.200000   \n",
      "75%      36.790000   235.300000   114.000000    20.000000   235.300000   \n",
      "max      59.640000   363.700000   170.000000    30.910000   395.000000   \n",
      "\n",
      "       Night Calls  Night Charge    Intl Mins   Intl Calls  Intl Charge  \\\n",
      "count  3333.000000   3333.000000  3333.000000  3333.000000  3333.000000   \n",
      "mean    100.107711      9.039325    10.237294     4.479448     2.764581   \n",
      "std      19.568609      2.275873     2.791840     2.461214     0.753773   \n",
      "min      33.000000      1.040000     0.000000     0.000000     0.000000   \n",
      "25%      87.000000      7.520000     8.500000     3.000000     2.300000   \n",
      "50%     100.000000      9.050000    10.300000     4.000000     2.780000   \n",
      "75%     113.000000     10.590000    12.100000     6.000000     3.270000   \n",
      "max     175.000000     17.770000    20.000000    20.000000     5.400000   \n",
      "\n",
      "       CustServ Calls  \n",
      "count     3333.000000  \n",
      "mean         1.562856  \n",
      "std          1.315491  \n",
      "min          0.000000  \n",
      "25%          1.000000  \n",
      "50%          1.000000  \n",
      "75%          2.000000  \n",
      "max          9.000000  \n"
     ]
    }
   ],
   "source": [
    "print(churn.describe())"
   ]
  },
  {
   "cell_type": "code",
   "execution_count": 7,
   "metadata": {},
   "outputs": [
    {
     "data": {
      "text/plain": [
       "array(['KS', 'OH', 'NJ', 'OK', 'AL', 'MA', 'MO', 'LA', 'WV', 'IN', 'RI',\n",
       "       'IA', 'MT', 'NY', 'ID', 'VT', 'VA', 'TX', 'FL', 'CO', 'AZ', 'SC',\n",
       "       'NE', 'WY', 'HI', 'IL', 'NH', 'GA', 'AK', 'MD', 'AR', 'WI', 'OR',\n",
       "       'MI', 'DE', 'UT', 'CA', 'MN', 'SD', 'NC', 'WA', 'NM', 'NV', 'DC',\n",
       "       'KY', 'ME', 'MS', 'TN', 'PA', 'CT', 'ND'], dtype=object)"
      ]
     },
     "execution_count": 7,
     "metadata": {},
     "output_type": "execute_result"
    }
   ],
   "source": [
    "churn['State'].unique()"
   ]
  },
  {
   "cell_type": "code",
   "execution_count": 8,
   "metadata": {},
   "outputs": [
    {
     "name": "stdout",
     "output_type": "stream",
     "text": [
      "0       False.\n",
      "1       False.\n",
      "2       False.\n",
      "3       False.\n",
      "4       False.\n",
      "         ...  \n",
      "3328    False.\n",
      "3329    False.\n",
      "3330    False.\n",
      "3331    False.\n",
      "3332    False.\n",
      "Name: Churn?, Length: 3333, dtype: object\n"
     ]
    }
   ],
   "source": [
    "# Identifying the outcome/target variable:\n",
    "# Churn = True means customer will churn. \n",
    "churn_target = churn['Churn?'] \n",
    "print(churn_target)"
   ]
  },
  {
   "cell_type": "code",
   "execution_count": 9,
   "metadata": {},
   "outputs": [
    {
     "name": "stdout",
     "output_type": "stream",
     "text": [
      "     State  Account Length  Area Code Int'l Plan VMail Plan  VMail Message  \\\n",
      "0       KS             128        415         no        yes             25   \n",
      "1       OH             107        415         no        yes             26   \n",
      "2       NJ             137        415         no         no              0   \n",
      "3       OH              84        408        yes         no              0   \n",
      "4       OK              75        415        yes         no              0   \n",
      "...    ...             ...        ...        ...        ...            ...   \n",
      "3328    AZ             192        415         no        yes             36   \n",
      "3329    WV              68        415         no         no              0   \n",
      "3330    RI              28        510         no         no              0   \n",
      "3331    CT             184        510        yes         no              0   \n",
      "3332    TN              74        415         no        yes             25   \n",
      "\n",
      "      Day Mins  Day Calls  Day Charge  Eve Mins  Eve Calls  Eve Charge  \\\n",
      "0        265.1        110       45.07     197.4         99       16.78   \n",
      "1        161.6        123       27.47     195.5        103       16.62   \n",
      "2        243.4        114       41.38     121.2        110       10.30   \n",
      "3        299.4         71       50.90      61.9         88        5.26   \n",
      "4        166.7        113       28.34     148.3        122       12.61   \n",
      "...        ...        ...         ...       ...        ...         ...   \n",
      "3328     156.2         77       26.55     215.5        126       18.32   \n",
      "3329     231.1         57       39.29     153.4         55       13.04   \n",
      "3330     180.8        109       30.74     288.8         58       24.55   \n",
      "3331     213.8        105       36.35     159.6         84       13.57   \n",
      "3332     234.4        113       39.85     265.9         82       22.60   \n",
      "\n",
      "      Night Mins  Night Calls  Night Charge  Intl Mins  Intl Calls  \\\n",
      "0          244.7           91         11.01       10.0           3   \n",
      "1          254.4          103         11.45       13.7           3   \n",
      "2          162.6          104          7.32       12.2           5   \n",
      "3          196.9           89          8.86        6.6           7   \n",
      "4          186.9          121          8.41       10.1           3   \n",
      "...          ...          ...           ...        ...         ...   \n",
      "3328       279.1           83         12.56        9.9           6   \n",
      "3329       191.3          123          8.61        9.6           4   \n",
      "3330       191.9           91          8.64       14.1           6   \n",
      "3331       139.2          137          6.26        5.0          10   \n",
      "3332       241.4           77         10.86       13.7           4   \n",
      "\n",
      "      Intl Charge  CustServ Calls  \n",
      "0            2.70               1  \n",
      "1            3.70               1  \n",
      "2            3.29               0  \n",
      "3            1.78               2  \n",
      "4            2.73               3  \n",
      "...           ...             ...  \n",
      "3328         2.67               2  \n",
      "3329         2.59               3  \n",
      "3330         3.81               2  \n",
      "3331         1.35               2  \n",
      "3332         3.70               0  \n",
      "\n",
      "[3333 rows x 19 columns]\n"
     ]
    }
   ],
   "source": [
    "# Phone number : unique number (might not influence prediction)\n",
    "# Churn? : target variable (not required in feature set)\n",
    "cols_to_drop = ['Phone', 'Churn?']\n",
    "# axis=1 depicts drop along columns\n",
    "churn_feature = churn.drop(cols_to_drop, axis=1)\n",
    "print(churn_feature)"
   ]
  },
  {
   "cell_type": "code",
   "execution_count": 10,
   "metadata": {},
   "outputs": [
    {
     "name": "stdout",
     "output_type": "stream",
     "text": [
      "     State     Phone Int'l Plan VMail Plan  Churn?\n",
      "0       KS  382-4657         no        yes  False.\n",
      "1       OH  371-7191         no        yes  False.\n",
      "2       NJ  358-1921         no         no  False.\n",
      "3       OH  375-9999        yes         no  False.\n",
      "4       OK  330-6626        yes         no  False.\n",
      "...    ...       ...        ...        ...     ...\n",
      "3328    AZ  414-4276         no        yes  False.\n",
      "3329    WV  370-3271         no         no  False.\n",
      "3330    RI  328-8230         no         no  False.\n",
      "3331    CT  364-6381        yes         no  False.\n",
      "3332    TN  400-4344         no        yes  False.\n",
      "\n",
      "[3333 rows x 5 columns]\n"
     ]
    }
   ],
   "source": [
    "churn_categorical = churn.select_dtypes(include=[object])\n",
    "print(churn_categorical)"
   ]
  },
  {
   "cell_type": "code",
   "execution_count": 11,
   "metadata": {},
   "outputs": [
    {
     "name": "stdout",
     "output_type": "stream",
     "text": [
      "     State  Account Length  Area Code  Int'l Plan  VMail Plan  VMail Message  \\\n",
      "0       KS             128        415       False        True             25   \n",
      "1       OH             107        415       False        True             26   \n",
      "2       NJ             137        415       False       False              0   \n",
      "3       OH              84        408        True       False              0   \n",
      "4       OK              75        415        True       False              0   \n",
      "...    ...             ...        ...         ...         ...            ...   \n",
      "3328    AZ             192        415       False        True             36   \n",
      "3329    WV              68        415       False       False              0   \n",
      "3330    RI              28        510       False       False              0   \n",
      "3331    CT             184        510        True       False              0   \n",
      "3332    TN              74        415       False        True             25   \n",
      "\n",
      "      Day Mins  Day Calls  Day Charge  Eve Mins  Eve Calls  Eve Charge  \\\n",
      "0        265.1        110       45.07     197.4         99       16.78   \n",
      "1        161.6        123       27.47     195.5        103       16.62   \n",
      "2        243.4        114       41.38     121.2        110       10.30   \n",
      "3        299.4         71       50.90      61.9         88        5.26   \n",
      "4        166.7        113       28.34     148.3        122       12.61   \n",
      "...        ...        ...         ...       ...        ...         ...   \n",
      "3328     156.2         77       26.55     215.5        126       18.32   \n",
      "3329     231.1         57       39.29     153.4         55       13.04   \n",
      "3330     180.8        109       30.74     288.8         58       24.55   \n",
      "3331     213.8        105       36.35     159.6         84       13.57   \n",
      "3332     234.4        113       39.85     265.9         82       22.60   \n",
      "\n",
      "      Night Mins  Night Calls  Night Charge  Intl Mins  Intl Calls  \\\n",
      "0          244.7           91         11.01       10.0           3   \n",
      "1          254.4          103         11.45       13.7           3   \n",
      "2          162.6          104          7.32       12.2           5   \n",
      "3          196.9           89          8.86        6.6           7   \n",
      "4          186.9          121          8.41       10.1           3   \n",
      "...          ...          ...           ...        ...         ...   \n",
      "3328       279.1           83         12.56        9.9           6   \n",
      "3329       191.3          123          8.61        9.6           4   \n",
      "3330       191.9           91          8.64       14.1           6   \n",
      "3331       139.2          137          6.26        5.0          10   \n",
      "3332       241.4           77         10.86       13.7           4   \n",
      "\n",
      "      Intl Charge  CustServ Calls  \n",
      "0            2.70               1  \n",
      "1            3.70               1  \n",
      "2            3.29               0  \n",
      "3            1.78               2  \n",
      "4            2.73               3  \n",
      "...           ...             ...  \n",
      "3328         2.67               2  \n",
      "3329         2.59               3  \n",
      "3330         3.81               2  \n",
      "3331         1.35               2  \n",
      "3332         3.70               0  \n",
      "\n",
      "[3333 rows x 19 columns]\n"
     ]
    }
   ],
   "source": [
    "yes_no_cols = [\"Int'l Plan\",\"VMail Plan\"]\n",
    "churn_feature[yes_no_cols] = churn_feature[yes_no_cols] == 'yes'\n",
    "print(churn_feature)"
   ]
  },
  {
   "cell_type": "code",
   "execution_count": 12,
   "metadata": {},
   "outputs": [
    {
     "name": "stdout",
     "output_type": "stream",
     "text": [
      "     State  Account Length  Area Code  Int'l Plan  VMail Plan  VMail Message  \\\n",
      "0       KS             128          1       False        True             25   \n",
      "1       OH             107          1       False        True             26   \n",
      "2       NJ             137          1       False       False              0   \n",
      "3       OH              84          0        True       False              0   \n",
      "4       OK              75          1        True       False              0   \n",
      "...    ...             ...        ...         ...         ...            ...   \n",
      "3328    AZ             192          1       False        True             36   \n",
      "3329    WV              68          1       False       False              0   \n",
      "3330    RI              28          2       False       False              0   \n",
      "3331    CT             184          2        True       False              0   \n",
      "3332    TN              74          1       False        True             25   \n",
      "\n",
      "      Day Mins  Day Calls  Day Charge  Eve Mins  Eve Calls  Eve Charge  \\\n",
      "0        265.1        110       45.07     197.4         99       16.78   \n",
      "1        161.6        123       27.47     195.5        103       16.62   \n",
      "2        243.4        114       41.38     121.2        110       10.30   \n",
      "3        299.4         71       50.90      61.9         88        5.26   \n",
      "4        166.7        113       28.34     148.3        122       12.61   \n",
      "...        ...        ...         ...       ...        ...         ...   \n",
      "3328     156.2         77       26.55     215.5        126       18.32   \n",
      "3329     231.1         57       39.29     153.4         55       13.04   \n",
      "3330     180.8        109       30.74     288.8         58       24.55   \n",
      "3331     213.8        105       36.35     159.6         84       13.57   \n",
      "3332     234.4        113       39.85     265.9         82       22.60   \n",
      "\n",
      "      Night Mins  Night Calls  Night Charge  Intl Mins  Intl Calls  \\\n",
      "0          244.7           91         11.01       10.0           3   \n",
      "1          254.4          103         11.45       13.7           3   \n",
      "2          162.6          104          7.32       12.2           5   \n",
      "3          196.9           89          8.86        6.6           7   \n",
      "4          186.9          121          8.41       10.1           3   \n",
      "...          ...          ...           ...        ...         ...   \n",
      "3328       279.1           83         12.56        9.9           6   \n",
      "3329       191.3          123          8.61        9.6           4   \n",
      "3330       191.9           91          8.64       14.1           6   \n",
      "3331       139.2          137          6.26        5.0          10   \n",
      "3332       241.4           77         10.86       13.7           4   \n",
      "\n",
      "      Intl Charge  CustServ Calls  \n",
      "0            2.70               1  \n",
      "1            3.70               1  \n",
      "2            3.29               0  \n",
      "3            1.78               2  \n",
      "4            2.73               3  \n",
      "...           ...             ...  \n",
      "3328         2.67               2  \n",
      "3329         2.59               3  \n",
      "3330         3.81               2  \n",
      "3331         1.35               2  \n",
      "3332         3.70               0  \n",
      "\n",
      "[3333 rows x 19 columns]\n"
     ]
    }
   ],
   "source": [
    "from sklearn import preprocessing\n",
    "label_encoder = preprocessing.LabelEncoder()\n",
    "churn_feature['Area Code'] = label_encoder.fit_transform(churn_feature['Area Code'])\n",
    "print(churn_feature)"
   ]
  },
  {
   "cell_type": "code",
   "execution_count": 13,
   "metadata": {},
   "outputs": [
    {
     "name": "stdout",
     "output_type": "stream",
     "text": [
      "Churn data size before one hot encoding (3333, 19)\n",
      "No of unique states 51\n",
      "Churn data size after one hot encoding (3333, 69)\n"
     ]
    }
   ],
   "source": [
    "print('Churn data size before one hot encoding', churn_feature.shape)\n",
    "print('No of unique states', len(churn_feature['State'].unique()))\n",
    "# Give the feature and columns to one hot encode in 'columns' and column rename prefix in 'prefix'\n",
    "churn_dumm = pd.get_dummies(churn_feature, columns=[\"State\"], prefix=[\"State\"])\n",
    "print('Churn data size after one hot encoding',churn_dumm.shape)\n",
    "# converting to numpy matrix\n",
    "churn_matrix = churn_dumm.values.astype(np.float)"
   ]
  },
  {
   "cell_type": "code",
   "execution_count": 14,
   "metadata": {},
   "outputs": [],
   "source": [
    "from sklearn.impute import SimpleImputer\n",
    "# Missing values replaced by mean\n",
    "imp = SimpleImputer(missing_values=np.nan, strategy='mean', fill_value=None, verbose=0, copy=True)\n",
    "# Fit to data, then transform it\n",
    "churn_matrix = imp.fit_transform(churn_matrix)"
   ]
  },
  {
   "cell_type": "code",
   "execution_count": 15,
   "metadata": {},
   "outputs": [],
   "source": [
    "from sklearn.preprocessing import StandardScaler\n",
    "# Standardize the data by removing the mean and scaling to unit variance\n",
    "scaler = StandardScaler()\n",
    "# Fit to data, then transform it.\n",
    "churn_matrix = scaler.fit_transform(churn_matrix)"
   ]
  },
  {
   "cell_type": "code",
   "execution_count": 16,
   "metadata": {},
   "outputs": [],
   "source": [
    "seed=7 # To generate same sequence of random numbers\n",
    "from sklearn.model_selection import train_test_split\n",
    "# Splitting the data for training and testing (90% train, 10% test)\n",
    "train_data, test_data, train_label, test_label = train_test_split(churn_matrix, churn_target, test_size=.1, random_state=seed)"
   ]
  },
  {
   "cell_type": "code",
   "execution_count": 17,
   "metadata": {},
   "outputs": [
    {
     "name": "stdout",
     "output_type": "stream",
     "text": [
      "Decision Tree Classifier :  0.9101796407185628\n"
     ]
    }
   ],
   "source": [
    "from sklearn.tree import DecisionTreeClassifier\n",
    "# Initializing decision tree classifier\n",
    "classifier = DecisionTreeClassifier(random_state=seed)\n",
    "# Model training\n",
    "classifier = classifier.fit(train_data, train_label)\n",
    "# After being fitted, the model can then be used to predict the output.\n",
    "churn_predicted_target = classifier.predict(test_data)\n",
    "# Evaluating the classifier\n",
    "score = classifier.score(test_data, test_label)\n",
    "print('Decision Tree Classifier : ', score)"
   ]
  },
  {
   "cell_type": "code",
   "execution_count": 18,
   "metadata": {},
   "outputs": [
    {
     "name": "stdout",
     "output_type": "stream",
     "text": [
      "Naive Bayes :  0.5748502994011976\n"
     ]
    }
   ],
   "source": [
    "from sklearn.naive_bayes import GaussianNB\n",
    "classifier = GaussianNB()\n",
    "classifier = classifier.fit(train_data, train_label)\n",
    "churn_predicted_target = classifier.predict(test_data)\n",
    "score = classifier.score(test_data, test_label)\n",
    "print('Naive Bayes : ', score)"
   ]
  },
  {
   "cell_type": "code",
   "execution_count": 19,
   "metadata": {},
   "outputs": [
    {
     "name": "stdout",
     "output_type": "stream",
     "text": [
      "SGD classifier :  0.781437125748503\n"
     ]
    }
   ],
   "source": [
    "from sklearn.linear_model import SGDClassifier\n",
    "classifier = SGDClassifier(loss='modified_huber', shuffle=True, random_state=seed)\n",
    "classifier = classifier.fit(train_data, train_label)\n",
    "churn_predicted_target = classifier.predict(test_data)\n",
    "score = classifier.score(test_data, test_label)\n",
    "print('SGD classifier : ', score)"
   ]
  },
  {
   "cell_type": "code",
   "execution_count": 20,
   "metadata": {},
   "outputs": [
    {
     "name": "stdout",
     "output_type": "stream",
     "text": [
      "SVM Classifier :  0.8473053892215568\n"
     ]
    }
   ],
   "source": [
    "from sklearn.svm import SVC\n",
    "classifier = SVC(kernel=\"linear\", C=0.025, random_state=seed)\n",
    "classifier = classifier.fit(train_data, train_label)\n",
    "churn_predicted_target = classifier.predict(test_data)\n",
    "score = classifier.score(test_data, test_label)\n",
    "print('SVM Classifier : ', score)"
   ]
  },
  {
   "cell_type": "code",
   "execution_count": 21,
   "metadata": {},
   "outputs": [
    {
     "name": "stdout",
     "output_type": "stream",
     "text": [
      "Random Forest Classifier :  0.8682634730538922\n"
     ]
    }
   ],
   "source": [
    "from sklearn.ensemble import RandomForestClassifier\n",
    "classifier = RandomForestClassifier(max_depth=5, n_estimators=10, max_features=10, random_state=seed)\n",
    "classifier = classifier.fit(train_data, train_label)\n",
    "churn_predicted_target = classifier.predict(test_data)\n",
    "score = classifier.score(test_data, test_label)\n",
    "print('Random Forest Classifier : ', score)"
   ]
  },
  {
   "cell_type": "code",
   "execution_count": 22,
   "metadata": {},
   "outputs": [
    {
     "name": "stdout",
     "output_type": "stream",
     "text": [
      "Random Forest classification after model tuning :  0.937125748502994\n"
     ]
    }
   ],
   "source": [
    "from sklearn.ensemble import RandomForestClassifier\n",
    "classifier = RandomForestClassifier(max_depth=5, n_estimators=15, max_features=60, random_state=seed)\n",
    "classifier = classifier.fit(train_data, train_label)\n",
    "score = classifier.score(test_data, test_label)\n",
    "print('Random Forest classification after model tuning : ', score)"
   ]
  },
  {
   "cell_type": "code",
   "execution_count": 23,
   "metadata": {},
   "outputs": [
    {
     "name": "stdout",
     "output_type": "stream",
     "text": [
      "1\n",
      "StratifiedShuffleSplit(n_splits=1, random_state=7, test_size=0.1,\n",
      "            train_size=None)\n"
     ]
    }
   ],
   "source": [
    "from sklearn.model_selection import StratifiedShuffleSplit\n",
    "sss = StratifiedShuffleSplit(n_splits=1, test_size=0.1, random_state=7)\n",
    "sss.get_n_splits(churn_matrix,churn_target)\n",
    "print(sss.get_n_splits(churn_matrix,churn_target))\n",
    "print(sss)"
   ]
  },
  {
   "cell_type": "code",
   "execution_count": 24,
   "metadata": {},
   "outputs": [
    {
     "name": "stdout",
     "output_type": "stream",
     "text": [
      "0.9041916167664671\n",
      "0.6137724550898204\n",
      "0.7934131736526946\n",
      "0.8562874251497006\n",
      "0.8652694610778443\n"
     ]
    },
    {
     "name": "stderr",
     "output_type": "stream",
     "text": [
      "/Users/smithkakar/.conda/envs/ds/lib/python3.7/site-packages/sklearn/svm/_base.py:986: ConvergenceWarning: Liblinear failed to converge, increase the number of iterations.\n",
      "  \"the number of iterations.\", ConvergenceWarning)\n"
     ]
    },
    {
     "name": "stdout",
     "output_type": "stream",
     "text": [
      "0.8652694610778443\n",
      "0.8772455089820359\n",
      "0.8832335329341318\n"
     ]
    }
   ],
   "source": [
    "from sklearn.neighbors import KNeighborsClassifier\n",
    "from sklearn.multiclass import OneVsRestClassifier\n",
    "from sklearn.ensemble import AdaBoostClassifier\n",
    "from sklearn import svm\n",
    "classifiers = [\n",
    "    DecisionTreeClassifier(),\n",
    "    GaussianNB(),\n",
    "    SGDClassifier(loss='modified_huber', shuffle=True),\n",
    "    SVC(kernel=\"linear\", C=0.025),\n",
    "    KNeighborsClassifier(),\n",
    "    OneVsRestClassifier(svm.LinearSVC()),\n",
    "    RandomForestClassifier(max_depth=5, n_estimators=10, max_features=10),\n",
    "    AdaBoostClassifier(),\n",
    "   ]\n",
    "for clf in classifiers:\n",
    "    score=0\n",
    "    for train_index, test_index in sss.split(churn_matrix, churn_target):\n",
    "        X_train, X_test = churn_matrix[train_index], churn_matrix[test_index]\n",
    "        y_train, y_test = churn_target[train_index], churn_target[test_index]\n",
    "        clf.fit(X_train, y_train)\n",
    "        score = score + clf.score(X_test, y_test)\n",
    "    print(score)"
   ]
  },
  {
   "cell_type": "code",
   "execution_count": 25,
   "metadata": {},
   "outputs": [
    {
     "name": "stdout",
     "output_type": "stream",
     "text": [
      "Accuracy Score 0.8682634730538922\n"
     ]
    }
   ],
   "source": [
    "from sklearn.metrics import accuracy_score\n",
    "print('Accuracy Score', accuracy_score(test_label, churn_predicted_target))  "
   ]
  },
  {
   "cell_type": "code",
   "execution_count": 26,
   "metadata": {},
   "outputs": [
    {
     "name": "stdout",
     "output_type": "stream",
     "text": [
      "Confusion Matrix [[282   1]\n",
      " [ 43   8]]\n"
     ]
    }
   ],
   "source": [
    "from sklearn.metrics import confusion_matrix\n",
    "print('Confusion Matrix', confusion_matrix(test_label, churn_predicted_target))"
   ]
  },
  {
   "cell_type": "code",
   "execution_count": 27,
   "metadata": {},
   "outputs": [
    {
     "name": "stdout",
     "output_type": "stream",
     "text": [
      "              precision    recall  f1-score   support\n",
      "\n",
      "       False       0.87      1.00      0.93       283\n",
      "        True       0.89      0.16      0.27        51\n",
      "\n",
      "    accuracy                           0.87       334\n",
      "   macro avg       0.88      0.58      0.60       334\n",
      "weighted avg       0.87      0.87      0.83       334\n",
      "\n"
     ]
    }
   ],
   "source": [
    "from sklearn.metrics import classification_report\n",
    "target_names = ['False', 'True']\n",
    "print(classification_report(test_label, churn_predicted_target, target_names=target_names))"
   ]
  },
  {
   "cell_type": "markdown",
   "metadata": {},
   "source": [
    "## END"
   ]
  }
 ],
 "metadata": {
  "kernelspec": {
   "display_name": "Python 3",
   "language": "python",
   "name": "python3"
  },
  "language_info": {
   "codemirror_mode": {
    "name": "ipython",
    "version": 3
   },
   "file_extension": ".py",
   "mimetype": "text/x-python",
   "name": "python",
   "nbconvert_exporter": "python",
   "pygments_lexer": "ipython3",
   "version": "3.7.10"
  }
 },
 "nbformat": 4,
 "nbformat_minor": 4
}
