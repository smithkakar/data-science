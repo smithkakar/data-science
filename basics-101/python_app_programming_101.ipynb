{
 "cells": [
  {
   "cell_type": "markdown",
   "metadata": {},
   "source": [
    "### Database Connectivity"
   ]
  },
  {
   "cell_type": "code",
   "execution_count": 1,
   "metadata": {},
   "outputs": [],
   "source": [
    "import sqlite3\n",
    "# establishing  a database connection\n",
    "con = sqlite3.connect('./TEST.db')\n",
    "# preparing a cursor object\n",
    "cursor = con.cursor()\n",
    "# preparing sql statements\n",
    "sql1 = 'DROP TABLE IF EXISTS EMPLOYEE'"
   ]
  },
  {
   "cell_type": "code",
   "execution_count": 2,
   "metadata": {},
   "outputs": [],
   "source": [
    "sql2 = '''\n",
    "       CREATE TABLE EMPLOYEE (\n",
    "       EMPID INT(6) NOT NULL,\n",
    "       NAME CHAR(20) NOT NULL,\n",
    "       AGE INT,\n",
    "       SEX CHAR(1),\n",
    "       INCOME FLOAT\n",
    "       )\n",
    "      '''\n",
    "# executing sql statements\n",
    "cursor.execute(sql1)\n",
    "cursor.execute(sql2)\n",
    "\n",
    "# closing the connection\n",
    "con.close()"
   ]
  },
  {
   "cell_type": "code",
   "execution_count": 3,
   "metadata": {},
   "outputs": [],
   "source": [
    "con = sqlite3.connect('./TEST.db')\n",
    "cursor = con.cursor()\n",
    "# preparing sql statement\n",
    "rec = (456789, 'Frodo', 45, 'M', 100000.00)\n",
    "sql = '''\n",
    "      INSERT INTO EMPLOYEE VALUES ( ?, ?, ?, ?, ?)\n",
    "      '''"
   ]
  },
  {
   "cell_type": "code",
   "execution_count": 4,
   "metadata": {},
   "outputs": [],
   "source": [
    "# executing sql statement using try ... except blocks\n",
    "try:\n",
    "    cursor.execute(sql, rec)\n",
    "    con.commit()\n",
    "except Exception as e:\n",
    "    print(\"Error Message :\", str(e))\n",
    "    con.rollback()\n",
    "\n",
    "# closing the database connection\n",
    "con.close()"
   ]
  },
  {
   "cell_type": "code",
   "execution_count": 5,
   "metadata": {},
   "outputs": [],
   "source": [
    "con = sqlite3.connect('./TEST.db')\n",
    "cursor = con.cursor()\n",
    "# preparing sql statement\n",
    "records = [\n",
    "    (123456, 'John', 25, 'M', 50000.00),\n",
    "    (234651, 'Juli', 35, 'F', 75000.00),\n",
    "    (345121, 'Fred', 48, 'M', 125000.00),\n",
    "    (562412, 'Rosy', 28, 'F', 52000.00)\n",
    "    ]\n",
    "\n",
    "sql = '''\n",
    "       INSERT INTO EMPLOYEE VALUES ( ?, ?, ?, ?, ?)\n",
    "      '''"
   ]
  },
  {
   "cell_type": "code",
   "execution_count": 6,
   "metadata": {},
   "outputs": [],
   "source": [
    "# executing sql statement using try ... except blocks\n",
    "try:\n",
    "    cursor.executemany(sql, records)\n",
    "    con.commit()\n",
    "except Exception as e:\n",
    "    print(\"Error Message :\", str(e))\n",
    "    con.rollback()\n",
    "# closing the database connection\n",
    "con.close()"
   ]
  },
  {
   "cell_type": "code",
   "execution_count": 7,
   "metadata": {},
   "outputs": [],
   "source": [
    "con = sqlite3.connect('./TEST.db')\n",
    "cursor = con.cursor()\n",
    "sql = '''\n",
    "       SELECT * FROM EMPLOYEE\n",
    "      '''\n",
    "try:\n",
    "    cursor.execute(sql)\n",
    "except:\n",
    "    print('Unable to fetch data.')"
   ]
  },
  {
   "cell_type": "code",
   "execution_count": 8,
   "metadata": {},
   "outputs": [
    {
     "name": "stdout",
     "output_type": "stream",
     "text": [
      "(456789, 'Frodo', 45, 'M', 100000.0)\n",
      "(123456, 'John', 25, 'M', 50000.0)\n",
      "(234651, 'Juli', 35, 'F', 75000.0)\n",
      "(345121, 'Fred', 48, 'M', 125000.0)\n",
      "(562412, 'Rosy', 28, 'F', 52000.0)\n"
     ]
    }
   ],
   "source": [
    "# fetching the records\n",
    "records = cursor.fetchall()\n",
    "# Displaying the records\n",
    "for record in records:\n",
    "    print(record)\n",
    "# closing the connection\n",
    "con.close()"
   ]
  },
  {
   "cell_type": "markdown",
   "metadata": {},
   "source": [
    "**Object Relational Mappers**\n",
    "\n",
    "An object-relational mapper (ORM) is a library that automates the transfer of data stored in relational database tables into objects that are adopted in application code.\n",
    "\n",
    "ORMs offer a high-level abstraction upon a relational database, which permits a developer to write Python code rather than SQL to create, read, update and delete data and schemas in their database.\n",
    "\n",
    "**Sample ORM Query**\n",
    "\n",
    "Consider the sample SQL statement used to retrieve employees whose income is 10,000.00.\n",
    "\n",
    "    SELECT * FROM EMPLOYEE WHERE INCOME=10000.00\n",
    "\n",
    "**The equivalent Django ORM query is:**\n",
    "\n",
    "    emps = Employee.objects.filter(income=10000.00)\n",
    "\n",
    "The above code is written in Python and easy to read. Such an ability to write Python code instead of SQL speeds up web application development."
   ]
  },
  {
   "cell_type": "markdown",
   "metadata": {},
   "source": []
  },
  {
   "cell_type": "markdown",
   "metadata": {},
   "source": [
    "### Higher Order function\n",
    "\n",
    "A Higher Order function is a function, which is capable of doing any one of the following things:\n",
    "\n",
    "- It can be functioned as a data and be assigned to a variable.\n",
    "- It can accept any other function as an argument.\n",
    "- It can return a function as its result.\n",
    "\n",
    "The ability to build Higher order functions, allows a programmer to create Closures, which in turn are used to create Decorators."
   ]
  },
  {
   "cell_type": "markdown",
   "metadata": {},
   "source": [
    "**Function as a Data**"
   ]
  },
  {
   "cell_type": "code",
   "execution_count": 9,
   "metadata": {},
   "outputs": [
    {
     "name": "stdout",
     "output_type": "stream",
     "text": [
      "Hello Everyone!\n",
      "<class 'function'>\n",
      "Hello Everyone!\n"
     ]
    }
   ],
   "source": [
    "def greet():\n",
    "    return 'Hello Everyone!'\n",
    "print(greet())\n",
    "wish = greet        # 'greet' function assigned to variable 'wish'\n",
    "print(type(wish))   \n",
    "print(wish())     "
   ]
  },
  {
   "cell_type": "markdown",
   "metadata": {},
   "source": [
    "**Function as an Argument**"
   ]
  },
  {
   "cell_type": "code",
   "execution_count": 10,
   "metadata": {},
   "outputs": [
    {
     "name": "stdout",
     "output_type": "stream",
     "text": [
      "16\n",
      "8\n",
      "48\n"
     ]
    }
   ],
   "source": [
    "def add(x, y):\n",
    "    return x + y\n",
    "\n",
    "def sub(x, y):\n",
    "   return x - y\n",
    "\n",
    "def prod(x, y):\n",
    "    return x * y\n",
    "\n",
    "def do(func, x, y):\n",
    "   return func(x, y)\n",
    "\n",
    "print(do(add, 12, 4))  # 'add' as arg\n",
    "print(do(sub, 12, 4))  # 'sub' as arg\n",
    "print(do(prod, 12, 4))  # 'prod' as arg"
   ]
  },
  {
   "cell_type": "markdown",
   "metadata": {},
   "source": [
    "**Returning a Function**"
   ]
  },
  {
   "cell_type": "code",
   "execution_count": 11,
   "metadata": {},
   "outputs": [
    {
     "name": "stdout",
     "output_type": "stream",
     "text": [
      "Hello world!\n"
     ]
    }
   ],
   "source": [
    "def outer():\n",
    "    def inner():\n",
    "        s = 'Hello world!'\n",
    "        return s            \n",
    "    return inner()    \n",
    "\n",
    "print(outer())"
   ]
  },
  {
   "cell_type": "code",
   "execution_count": 12,
   "metadata": {},
   "outputs": [
    {
     "name": "stdout",
     "output_type": "stream",
     "text": [
      "<function outer.<locals>.inner at 0x7fabde1ad680>\n",
      "<class 'function'>\n",
      "Hello world!\n"
     ]
    }
   ],
   "source": [
    "def outer():\n",
    "    def inner():\n",
    "        s = 'Hello world!'\n",
    "        return s            \n",
    "    return inner   # Removed '()' to return 'inner' function itself\n",
    "\n",
    "print(outer()) #returns 'inner' function\n",
    "\n",
    "func = outer() \n",
    "print(type(func))\n",
    "print(func()) # calling 'inner' function"
   ]
  },
  {
   "cell_type": "markdown",
   "metadata": {},
   "source": [
    "### Closures\n",
    "\n",
    "In simplest terms, a Closure is a function returned by a higher order function, whose return value depends on the data associated with the higher order function."
   ]
  },
  {
   "cell_type": "code",
   "execution_count": 13,
   "metadata": {},
   "outputs": [
    {
     "name": "stdout",
     "output_type": "stream",
     "text": [
      "20\n",
      "24\n"
     ]
    }
   ],
   "source": [
    "def multiple_of(x):\n",
    "    def multiple(y):\n",
    "        return x*y\n",
    "    return multiple\n",
    "\n",
    "c1 = multiple_of(5)  # 'c1' is a closure\n",
    "c2 = multiple_of(6)  # 'c2' is a closure\n",
    "print(c1(4))\n",
    "print(c2(4))"
   ]
  },
  {
   "cell_type": "markdown",
   "metadata": {},
   "source": [
    "### Decorators\n",
    "\n",
    "- Decorators are evolved from the concept of closures.\n",
    "- A decorator function is a higher order function that takes a function as an argument and returns the inner function.\n",
    "- The function is capable of adding extra functionality to an existing function, without altering it.\n",
    "- This function is prefixed with @ symbol and written above the function definition."
   ]
  },
  {
   "cell_type": "code",
   "execution_count": 14,
   "metadata": {},
   "outputs": [
    {
     "ename": "TypeError",
     "evalue": "outer() takes 0 positional arguments but 1 was given",
     "output_type": "error",
     "traceback": [
      "\u001b[0;31m---------------------------------------------------------------------------\u001b[0m",
      "\u001b[0;31mTypeError\u001b[0m                                 Traceback (most recent call last)",
      "\u001b[0;32m<ipython-input-14-372cbdf74f3f>\u001b[0m in \u001b[0;36m<module>\u001b[0;34m\u001b[0m\n\u001b[0;32m----> 1\u001b[0;31m \u001b[0;34m@\u001b[0m\u001b[0mouter\u001b[0m\u001b[0;34m\u001b[0m\u001b[0;34m\u001b[0m\u001b[0m\n\u001b[0m\u001b[1;32m      2\u001b[0m \u001b[0;32mdef\u001b[0m \u001b[0mgreet\u001b[0m\u001b[0;34m(\u001b[0m\u001b[0;34m)\u001b[0m\u001b[0;34m:\u001b[0m\u001b[0;34m\u001b[0m\u001b[0;34m\u001b[0m\u001b[0m\n\u001b[1;32m      3\u001b[0m     \u001b[0;32mpass\u001b[0m\u001b[0;34m\u001b[0m\u001b[0;34m\u001b[0m\u001b[0m\n",
      "\u001b[0;31mTypeError\u001b[0m: outer() takes 0 positional arguments but 1 was given"
     ]
    }
   ],
   "source": [
    "# TO-DO\n",
    "@outer\n",
    "def greet():\n",
    "    pass"
   ]
  },
  {
   "cell_type": "code",
   "execution_count": 15,
   "metadata": {},
   "outputs": [
    {
     "name": "stdout",
     "output_type": "stream",
     "text": [
      "Accessing : greet\n",
      "Hello!\n"
     ]
    }
   ],
   "source": [
    "def outer(func):\n",
    "    \n",
    "    def inner():\n",
    "        print(\"Accessing :\", \n",
    "                  func.__name__)\n",
    "        return func()\n",
    "    return inner\n",
    "\n",
    "def greet():\n",
    "   print('Hello!')\n",
    "\n",
    "wish = outer(greet) # Closure function - nothing will be printed as an output\n",
    "wish()\n"
   ]
  },
  {
   "cell_type": "code",
   "execution_count": 16,
   "metadata": {},
   "outputs": [
    {
     "name": "stdout",
     "output_type": "stream",
     "text": [
      "Accessing : inner\n",
      "Accessing : greet\n",
      "Hello!\n"
     ]
    }
   ],
   "source": [
    "def outer(func):\n",
    "    \n",
    "    def inner():\n",
    "        print(\"Accessing :\", \n",
    "                  func.__name__)\n",
    "        return func()\n",
    "    return inner\n",
    "\n",
    "@outer\n",
    "def greet():\n",
    "   print('Hello!')\n",
    "\n",
    "wish = outer(greet) # Closure function - nothing will be printed as an output\n",
    "wish()\n"
   ]
  },
  {
   "cell_type": "code",
   "execution_count": 17,
   "metadata": {},
   "outputs": [
    {
     "name": "stdout",
     "output_type": "stream",
     "text": [
      "Accessing : greet\n"
     ]
    },
    {
     "data": {
      "text/plain": [
       "'Hello!'"
      ]
     },
     "execution_count": 17,
     "metadata": {},
     "output_type": "execute_result"
    }
   ],
   "source": [
    "def outer(func):\n",
    "    def inner():\n",
    "        print(\"Accessing :\", \n",
    "                  func.__name__)\n",
    "        return func()\n",
    "    return inner\n",
    "\n",
    "def greet():\n",
    "    return 'Hello!'\n",
    "\n",
    "greet = outer(greet) # decorating 'greet'\n",
    "greet()  # calling new 'greet'\n",
    "\n",
    "# The function returned by outer is assigned to greet i.e the function name passed as argument to outer.\n",
    "# This makes outer a decorator to greet."
   ]
  },
  {
   "cell_type": "code",
   "execution_count": 18,
   "metadata": {},
   "outputs": [
    {
     "name": "stdout",
     "output_type": "stream",
     "text": [
      "Accessing : greet\n"
     ]
    },
    {
     "data": {
      "text/plain": [
       "'Hello!'"
      ]
     },
     "execution_count": 18,
     "metadata": {},
     "output_type": "execute_result"
    }
   ],
   "source": [
    "# Alternative to above scenario using @ prefix notation\n",
    "def outer(func):\n",
    "    \n",
    "    def inner():\n",
    "        print(\"Accessing :\", \n",
    "                func.__name__)\n",
    "        return func()\n",
    "    return inner\n",
    "\n",
    "@outer\n",
    "def greet():\n",
    "    return 'Hello!'\n",
    "\n",
    "greet()"
   ]
  },
  {
   "cell_type": "markdown",
   "metadata": {},
   "source": [
    "### Descriptors \n",
    "\n",
    "Python descriptors allow a programmer to create managed attributes.\n",
    "\n",
    "In other object-oriented languages, you will find getter and setter methods to manage attributes.\n",
    "\n",
    "However, Python allows a programmer to manage the attributes simply with the attribute name, without losing their protection.\n",
    "\n",
    "This is achieved by defining a descriptor class, that implements any of \"_get_\", \"_set_\", \"_delete_\" (with double underscores) methods."
   ]
  },
  {
   "cell_type": "code",
   "execution_count": 19,
   "metadata": {},
   "outputs": [],
   "source": [
    "# The descriptor, EmpNameDescriptor is defined to manage empname attribute.\n",
    "# It checks if the value of empname attribute is a string or not.\n",
    "\n",
    "class EmpNameDescriptor:\n",
    "    \n",
    "    def __get__(self, obj, owner):\n",
    "        # __empname is a private attribute\n",
    "        return self.__empname\n",
    "    \n",
    "    def __set__(self, obj, value):\n",
    "        if not isinstance(value, str):\n",
    "            raise TypeError(\"'empname' must be a string.\")\n",
    "        self.__empname = value"
   ]
  },
  {
   "cell_type": "code",
   "execution_count": 20,
   "metadata": {},
   "outputs": [],
   "source": [
    "# The descriptor, EmpIdDescriptor is defined to manage empid attribute.\n",
    "\n",
    "class EmpIdDescriptor:\n",
    "    \n",
    "    def __get__(self, obj, owner):\n",
    "        return self.__empid\n",
    "    \n",
    "    def __set__(self, obj, value):\n",
    "        if hasattr(obj, 'empid'):\n",
    "            raise ValueError(\"'empid' is read only attribute\")\n",
    "        if not isinstance(value, int):\n",
    "            raise TypeError(\"'empid' must be an integer.\")\n",
    "        self.__empid = value"
   ]
  },
  {
   "cell_type": "code",
   "execution_count": 21,
   "metadata": {},
   "outputs": [],
   "source": [
    "# Employee class is defined such that, it creates empid and empname attributes \n",
    "# from descriptors EmpIdDescriptor and EmpNameDescriptor.\n",
    "class Employee:\n",
    "    \n",
    "    empid = EmpIdDescriptor()           \n",
    "    empname = EmpNameDescriptor()       \n",
    "    \n",
    "    def __init__(self, emp_id, emp_name):\n",
    "        self.empid = emp_id\n",
    "        self.empname = emp_name"
   ]
  },
  {
   "cell_type": "code",
   "execution_count": 22,
   "metadata": {},
   "outputs": [
    {
     "name": "stdout",
     "output_type": "stream",
     "text": [
      "123456 - John\n",
      "123456 - Williams\n"
     ]
    },
    {
     "ename": "ValueError",
     "evalue": "'empid' is read only attribute",
     "output_type": "error",
     "traceback": [
      "\u001b[0;31m---------------------------------------------------------------------------\u001b[0m",
      "\u001b[0;31mValueError\u001b[0m                                Traceback (most recent call last)",
      "\u001b[0;32m<ipython-input-22-4de180e7040e>\u001b[0m in \u001b[0;36m<module>\u001b[0;34m\u001b[0m\n\u001b[1;32m      3\u001b[0m \u001b[0me1\u001b[0m\u001b[0;34m.\u001b[0m\u001b[0mempname\u001b[0m \u001b[0;34m=\u001b[0m \u001b[0;34m'Williams'\u001b[0m\u001b[0;34m\u001b[0m\u001b[0;34m\u001b[0m\u001b[0m\n\u001b[1;32m      4\u001b[0m \u001b[0mprint\u001b[0m\u001b[0;34m(\u001b[0m\u001b[0me1\u001b[0m\u001b[0;34m.\u001b[0m\u001b[0mempid\u001b[0m\u001b[0;34m,\u001b[0m \u001b[0;34m'-'\u001b[0m\u001b[0;34m,\u001b[0m \u001b[0me1\u001b[0m\u001b[0;34m.\u001b[0m\u001b[0mempname\u001b[0m\u001b[0;34m)\u001b[0m\u001b[0;34m\u001b[0m\u001b[0;34m\u001b[0m\u001b[0m\n\u001b[0;32m----> 5\u001b[0;31m \u001b[0me1\u001b[0m\u001b[0;34m.\u001b[0m\u001b[0mempid\u001b[0m \u001b[0;34m=\u001b[0m \u001b[0;36m76347322\u001b[0m\u001b[0;34m\u001b[0m\u001b[0;34m\u001b[0m\u001b[0m\n\u001b[0m",
      "\u001b[0;32m<ipython-input-20-c8e4be55f53b>\u001b[0m in \u001b[0;36m__set__\u001b[0;34m(self, obj, value)\u001b[0m\n\u001b[1;32m      8\u001b[0m     \u001b[0;32mdef\u001b[0m \u001b[0m__set__\u001b[0m\u001b[0;34m(\u001b[0m\u001b[0mself\u001b[0m\u001b[0;34m,\u001b[0m \u001b[0mobj\u001b[0m\u001b[0;34m,\u001b[0m \u001b[0mvalue\u001b[0m\u001b[0;34m)\u001b[0m\u001b[0;34m:\u001b[0m\u001b[0;34m\u001b[0m\u001b[0;34m\u001b[0m\u001b[0m\n\u001b[1;32m      9\u001b[0m         \u001b[0;32mif\u001b[0m \u001b[0mhasattr\u001b[0m\u001b[0;34m(\u001b[0m\u001b[0mobj\u001b[0m\u001b[0;34m,\u001b[0m \u001b[0;34m'empid'\u001b[0m\u001b[0;34m)\u001b[0m\u001b[0;34m:\u001b[0m\u001b[0;34m\u001b[0m\u001b[0;34m\u001b[0m\u001b[0m\n\u001b[0;32m---> 10\u001b[0;31m             \u001b[0;32mraise\u001b[0m \u001b[0mValueError\u001b[0m\u001b[0;34m(\u001b[0m\u001b[0;34m\"'empid' is read only attribute\"\u001b[0m\u001b[0;34m)\u001b[0m\u001b[0;34m\u001b[0m\u001b[0;34m\u001b[0m\u001b[0m\n\u001b[0m\u001b[1;32m     11\u001b[0m         \u001b[0;32mif\u001b[0m \u001b[0;32mnot\u001b[0m \u001b[0misinstance\u001b[0m\u001b[0;34m(\u001b[0m\u001b[0mvalue\u001b[0m\u001b[0;34m,\u001b[0m \u001b[0mint\u001b[0m\u001b[0;34m)\u001b[0m\u001b[0;34m:\u001b[0m\u001b[0;34m\u001b[0m\u001b[0;34m\u001b[0m\u001b[0m\n\u001b[1;32m     12\u001b[0m             \u001b[0;32mraise\u001b[0m \u001b[0mTypeError\u001b[0m\u001b[0;34m(\u001b[0m\u001b[0;34m\"'empid' must be an integer.\"\u001b[0m\u001b[0;34m)\u001b[0m\u001b[0;34m\u001b[0m\u001b[0;34m\u001b[0m\u001b[0m\n",
      "\u001b[0;31mValueError\u001b[0m: 'empid' is read only attribute"
     ]
    }
   ],
   "source": [
    "e1 = Employee(123456, 'John')\n",
    "print(e1.empid, '-', e1.empname)  \n",
    "e1.empname = 'Williams'\n",
    "print(e1.empid, '-', e1.empname)\n",
    "e1.empid = 76347322  "
   ]
  },
  {
   "cell_type": "markdown",
   "metadata": {},
   "source": [
    "**Properties**\n",
    "\n",
    "Descriptors can also be created using property() type. It is easy to create a descriptor for any attribute using property().\n",
    "\n",
    "**Syntax of defining a Property**\n",
    "\n",
    "    property(fget=None, fset=None, fdel=None, doc=None)\n",
    "\n",
    "    where,\n",
    "\n",
    "    fget : attribute get method\n",
    "    fset : attribute set method\n",
    "    fdel : attribute delete method\n",
    "    doc : docstring"
   ]
  },
  {
   "cell_type": "code",
   "execution_count": 23,
   "metadata": {},
   "outputs": [],
   "source": [
    "class Employee:\n",
    "    \n",
    "    def __init__(self, emp_id, emp_name):\n",
    "        self.empid = emp_id\n",
    "        self.empname = emp_name\n",
    "    \n",
    "    def getEmpID(self):\n",
    "        return self.__empid\n",
    "    \n",
    "    def setEmpID(self, value):\n",
    "        if not isinstance(value, int):\n",
    "            raise TypeError(\"'empid' must be an integer.\")\n",
    "        self.__empid = value\n",
    "        \n",
    "    def getEmpName(self):\n",
    "        return self.__empname\n",
    "\n",
    "    def setEmpName(self, value):\n",
    "        if not isinstance(value, str):\n",
    "            raise TypeError(\"empname' must be a string.\")\n",
    "\n",
    "        self.__empname = value\n",
    "\n",
    "    def delEmpName(self):\n",
    "        del self.__empname\n",
    "        \n",
    "    # empid attribute created using property.    \n",
    "    empid = property(getEmpID, setEmpID)\n",
    "    \n",
    "    # empname attribute created using property. \n",
    "    # It is deleted when delEmpName method is called.\n",
    "    empname = property(getEmpName, setEmpName, delEmpName)"
   ]
  },
  {
   "cell_type": "code",
   "execution_count": 24,
   "metadata": {},
   "outputs": [
    {
     "name": "stdout",
     "output_type": "stream",
     "text": [
      "123456 - John\n"
     ]
    },
    {
     "ename": "AttributeError",
     "evalue": "'Employee' object has no attribute '_Employee__empname'",
     "output_type": "error",
     "traceback": [
      "\u001b[0;31m---------------------------------------------------------------------------\u001b[0m",
      "\u001b[0;31mAttributeError\u001b[0m                            Traceback (most recent call last)",
      "\u001b[0;32m<ipython-input-24-eb8ec481fa47>\u001b[0m in \u001b[0;36m<module>\u001b[0;34m\u001b[0m\n\u001b[1;32m      2\u001b[0m \u001b[0mprint\u001b[0m\u001b[0;34m(\u001b[0m\u001b[0me1\u001b[0m\u001b[0;34m.\u001b[0m\u001b[0mempid\u001b[0m\u001b[0;34m,\u001b[0m \u001b[0;34m'-'\u001b[0m\u001b[0;34m,\u001b[0m \u001b[0me1\u001b[0m\u001b[0;34m.\u001b[0m\u001b[0mempname\u001b[0m\u001b[0;34m)\u001b[0m    \u001b[0;31m# -> '123456 - John'\u001b[0m\u001b[0;34m\u001b[0m\u001b[0;34m\u001b[0m\u001b[0m\n\u001b[1;32m      3\u001b[0m \u001b[0;32mdel\u001b[0m \u001b[0me1\u001b[0m\u001b[0;34m.\u001b[0m\u001b[0mempname\u001b[0m    \u001b[0;31m# Calls delEmpName(...) and deletes 'empname'\u001b[0m\u001b[0;34m\u001b[0m\u001b[0;34m\u001b[0m\u001b[0m\n\u001b[0;32m----> 4\u001b[0;31m \u001b[0mprint\u001b[0m\u001b[0;34m(\u001b[0m\u001b[0me1\u001b[0m\u001b[0;34m.\u001b[0m\u001b[0mempname\u001b[0m\u001b[0;34m)\u001b[0m \u001b[0;31m#Raises 'AttributeError'\u001b[0m\u001b[0;34m\u001b[0m\u001b[0;34m\u001b[0m\u001b[0m\n\u001b[0m",
      "\u001b[0;32m<ipython-input-23-2ad9888740f9>\u001b[0m in \u001b[0;36mgetEmpName\u001b[0;34m(self)\u001b[0m\n\u001b[1;32m     14\u001b[0m \u001b[0;34m\u001b[0m\u001b[0m\n\u001b[1;32m     15\u001b[0m     \u001b[0;32mdef\u001b[0m \u001b[0mgetEmpName\u001b[0m\u001b[0;34m(\u001b[0m\u001b[0mself\u001b[0m\u001b[0;34m)\u001b[0m\u001b[0;34m:\u001b[0m\u001b[0;34m\u001b[0m\u001b[0;34m\u001b[0m\u001b[0m\n\u001b[0;32m---> 16\u001b[0;31m         \u001b[0;32mreturn\u001b[0m \u001b[0mself\u001b[0m\u001b[0;34m.\u001b[0m\u001b[0m__empname\u001b[0m\u001b[0;34m\u001b[0m\u001b[0;34m\u001b[0m\u001b[0m\n\u001b[0m\u001b[1;32m     17\u001b[0m \u001b[0;34m\u001b[0m\u001b[0m\n\u001b[1;32m     18\u001b[0m     \u001b[0;32mdef\u001b[0m \u001b[0msetEmpName\u001b[0m\u001b[0;34m(\u001b[0m\u001b[0mself\u001b[0m\u001b[0;34m,\u001b[0m \u001b[0mvalue\u001b[0m\u001b[0;34m)\u001b[0m\u001b[0;34m:\u001b[0m\u001b[0;34m\u001b[0m\u001b[0;34m\u001b[0m\u001b[0m\n",
      "\u001b[0;31mAttributeError\u001b[0m: 'Employee' object has no attribute '_Employee__empname'"
     ]
    }
   ],
   "source": [
    "e1 = Employee(123456, 'John')\n",
    "print(e1.empid, '-', e1.empname)    # -> '123456 - John'\n",
    "del e1.empname    # Calls delEmpName(...) and deletes 'empname'\n",
    "print(e1.empname) #Raises 'AttributeError'"
   ]
  },
  {
   "cell_type": "markdown",
   "metadata": {},
   "source": [
    "**Property Decorators**\n",
    "\n",
    "Descriptors can also be created with property decorators.\n",
    "\n",
    "While using property decorators, an attribute's get method will be same as its name and will be decorated with property.\n",
    "\n",
    "In a case of defining any set or delete methods, they will be decorated with respective setter and deleter methods."
   ]
  },
  {
   "cell_type": "code",
   "execution_count": 25,
   "metadata": {},
   "outputs": [],
   "source": [
    "class Employee:\n",
    "    \n",
    "    def __init__(self, emp_id, emp_name):\n",
    "        self.empid = emp_id\n",
    "        self.empname = emp_name\n",
    "    \n",
    "    @property\n",
    "    def empid(self):\n",
    "        return self.__empid\n",
    "    \n",
    "    @empid.setter\n",
    "    def empid(self, value):\n",
    "        if not isinstance(value, int):\n",
    "            raise TypeError(\"'empid' must be an integer.\")\n",
    "        self.__empid = value\n",
    "        \n",
    "    @property\n",
    "    def empname(self):\n",
    "        return self.__empname\n",
    "    \n",
    "    @empname.setter\n",
    "    def empname(self, value):\n",
    "        if not isinstance(value, str):\n",
    "            raise TypeError(\"'empname' must be a string.\")\n",
    "        self.__empname = value\n",
    "    \n",
    "    @empname.deleter\n",
    "    def empname(self):\n",
    "        del self.__empname"
   ]
  },
  {
   "cell_type": "code",
   "execution_count": 26,
   "metadata": {},
   "outputs": [
    {
     "name": "stdout",
     "output_type": "stream",
     "text": [
      "123456 - John\n"
     ]
    },
    {
     "ename": "AttributeError",
     "evalue": "'Employee' object has no attribute '_Employee__empname'",
     "output_type": "error",
     "traceback": [
      "\u001b[0;31m---------------------------------------------------------------------------\u001b[0m",
      "\u001b[0;31mAttributeError\u001b[0m                            Traceback (most recent call last)",
      "\u001b[0;32m<ipython-input-26-e471072ff3f1>\u001b[0m in \u001b[0;36m<module>\u001b[0;34m\u001b[0m\n\u001b[1;32m      2\u001b[0m \u001b[0mprint\u001b[0m\u001b[0;34m(\u001b[0m\u001b[0me1\u001b[0m\u001b[0;34m.\u001b[0m\u001b[0mempid\u001b[0m\u001b[0;34m,\u001b[0m \u001b[0;34m'-'\u001b[0m\u001b[0;34m,\u001b[0m \u001b[0me1\u001b[0m\u001b[0;34m.\u001b[0m\u001b[0mempname\u001b[0m\u001b[0;34m)\u001b[0m    \u001b[0;31m# -> '123456 - John'\u001b[0m\u001b[0;34m\u001b[0m\u001b[0;34m\u001b[0m\u001b[0m\n\u001b[1;32m      3\u001b[0m \u001b[0;32mdel\u001b[0m \u001b[0me1\u001b[0m\u001b[0;34m.\u001b[0m\u001b[0mempname\u001b[0m    \u001b[0;31m# Deletes 'empname'\u001b[0m\u001b[0;34m\u001b[0m\u001b[0;34m\u001b[0m\u001b[0m\n\u001b[0;32m----> 4\u001b[0;31m \u001b[0mprint\u001b[0m\u001b[0;34m(\u001b[0m\u001b[0me1\u001b[0m\u001b[0;34m.\u001b[0m\u001b[0mempname\u001b[0m\u001b[0;34m)\u001b[0m \u001b[0;31m#Raises 'AttributeError'\u001b[0m\u001b[0;34m\u001b[0m\u001b[0;34m\u001b[0m\u001b[0m\n\u001b[0m",
      "\u001b[0;32m<ipython-input-25-6c93db391245>\u001b[0m in \u001b[0;36mempname\u001b[0;34m(self)\u001b[0m\n\u001b[1;32m     17\u001b[0m     \u001b[0;34m@\u001b[0m\u001b[0mproperty\u001b[0m\u001b[0;34m\u001b[0m\u001b[0;34m\u001b[0m\u001b[0m\n\u001b[1;32m     18\u001b[0m     \u001b[0;32mdef\u001b[0m \u001b[0mempname\u001b[0m\u001b[0;34m(\u001b[0m\u001b[0mself\u001b[0m\u001b[0;34m)\u001b[0m\u001b[0;34m:\u001b[0m\u001b[0;34m\u001b[0m\u001b[0;34m\u001b[0m\u001b[0m\n\u001b[0;32m---> 19\u001b[0;31m         \u001b[0;32mreturn\u001b[0m \u001b[0mself\u001b[0m\u001b[0;34m.\u001b[0m\u001b[0m__empname\u001b[0m\u001b[0;34m\u001b[0m\u001b[0;34m\u001b[0m\u001b[0m\n\u001b[0m\u001b[1;32m     20\u001b[0m \u001b[0;34m\u001b[0m\u001b[0m\n\u001b[1;32m     21\u001b[0m     \u001b[0;34m@\u001b[0m\u001b[0mempname\u001b[0m\u001b[0;34m.\u001b[0m\u001b[0msetter\u001b[0m\u001b[0;34m\u001b[0m\u001b[0;34m\u001b[0m\u001b[0m\n",
      "\u001b[0;31mAttributeError\u001b[0m: 'Employee' object has no attribute '_Employee__empname'"
     ]
    }
   ],
   "source": [
    "e1 = Employee(123456, 'John')\n",
    "print(e1.empid, '-', e1.empname)    # -> '123456 - John'\n",
    "del e1.empname    # Deletes 'empname'\n",
    "print(e1.empname) #Raises 'AttributeError'"
   ]
  },
  {
   "cell_type": "markdown",
   "metadata": {},
   "source": [
    "### Abstract Classes"
   ]
  },
  {
   "cell_type": "code",
   "execution_count": 27,
   "metadata": {},
   "outputs": [],
   "source": [
    "from abc import ABC, abstractmethod\n",
    "\n",
    "class Shape(ABC):\n",
    "    \n",
    "    @abstractmethod\n",
    "    def area(self):\n",
    "        pass\n",
    "    \n",
    "    @abstractmethod\n",
    "    def perimeter(self):\n",
    "        pass"
   ]
  },
  {
   "cell_type": "code",
   "execution_count": 28,
   "metadata": {},
   "outputs": [
    {
     "ename": "TypeError",
     "evalue": "Can't instantiate abstract class Shape with abstract methods area, perimeter",
     "output_type": "error",
     "traceback": [
      "\u001b[0;31m---------------------------------------------------------------------------\u001b[0m",
      "\u001b[0;31mTypeError\u001b[0m                                 Traceback (most recent call last)",
      "\u001b[0;32m<ipython-input-28-6dece774b18e>\u001b[0m in \u001b[0;36m<module>\u001b[0;34m\u001b[0m\n\u001b[0;32m----> 1\u001b[0;31m \u001b[0ms1\u001b[0m \u001b[0;34m=\u001b[0m \u001b[0mShape\u001b[0m\u001b[0;34m(\u001b[0m\u001b[0;34m)\u001b[0m\u001b[0;34m\u001b[0m\u001b[0;34m\u001b[0m\u001b[0m\n\u001b[0m",
      "\u001b[0;31mTypeError\u001b[0m: Can't instantiate abstract class Shape with abstract methods area, perimeter"
     ]
    }
   ],
   "source": [
    "s1 = Shape()"
   ]
  },
  {
   "cell_type": "code",
   "execution_count": 29,
   "metadata": {},
   "outputs": [
    {
     "ename": "TypeError",
     "evalue": "Can't instantiate abstract class Circle with abstract methods perimeter",
     "output_type": "error",
     "traceback": [
      "\u001b[0;31m---------------------------------------------------------------------------\u001b[0m",
      "\u001b[0;31mTypeError\u001b[0m                                 Traceback (most recent call last)",
      "\u001b[0;32m<ipython-input-29-60c3002d90ad>\u001b[0m in \u001b[0;36m<module>\u001b[0;34m\u001b[0m\n\u001b[1;32m     11\u001b[0m         \u001b[0;32mreturn\u001b[0m \u001b[0;36m3.14\u001b[0m\u001b[0;34m*\u001b[0m\u001b[0mself\u001b[0m\u001b[0;34m.\u001b[0m\u001b[0msquare\u001b[0m\u001b[0;34m(\u001b[0m\u001b[0mself\u001b[0m\u001b[0;34m.\u001b[0m\u001b[0m__radius\u001b[0m\u001b[0;34m)\u001b[0m\u001b[0;34m\u001b[0m\u001b[0;34m\u001b[0m\u001b[0m\n\u001b[1;32m     12\u001b[0m \u001b[0;34m\u001b[0m\u001b[0m\n\u001b[0;32m---> 13\u001b[0;31m \u001b[0mc1\u001b[0m \u001b[0;34m=\u001b[0m \u001b[0mCircle\u001b[0m\u001b[0;34m(\u001b[0m\u001b[0;36m3.9\u001b[0m\u001b[0;34m)\u001b[0m\u001b[0;34m\u001b[0m\u001b[0;34m\u001b[0m\u001b[0m\n\u001b[0m",
      "\u001b[0;31mTypeError\u001b[0m: Can't instantiate abstract class Circle with abstract methods perimeter"
     ]
    }
   ],
   "source": [
    "class Circle(Shape):\n",
    "    \n",
    "    def __init__(self, radius):\n",
    "        self.__radius = radius\n",
    "    \n",
    "    @staticmethod\n",
    "    def square(x):\n",
    "        return x**2\n",
    "    \n",
    "    def area(self):\n",
    "        return 3.14*self.square(self.__radius)\n",
    "\n",
    "c1 = Circle(3.9)"
   ]
  },
  {
   "cell_type": "code",
   "execution_count": 30,
   "metadata": {},
   "outputs": [
    {
     "name": "stdout",
     "output_type": "stream",
     "text": [
      "47.7594\n"
     ]
    }
   ],
   "source": [
    "class Circle(Shape):\n",
    "    \n",
    "    def __init__(self, radius):\n",
    "        self.__radius = radius\n",
    "    \n",
    "    @staticmethod\n",
    "    def square(x):\n",
    "        return x**2\n",
    "    \n",
    "    def area(self):\n",
    "        return 3.14*self.square(self.__radius)\n",
    "    \n",
    "    def perimeter(self):\n",
    "        return 2*3.14*self.__radius\n",
    "    \n",
    "c1 = Circle(3.9)\n",
    "print(c1.area())"
   ]
  },
  {
   "cell_type": "markdown",
   "metadata": {},
   "source": [
    "### Coroutines\n",
    "\n",
    "A Coroutine is generator which is capable of constantly receiving input data, process input data and may or may not return any output.\n",
    "\n",
    "Coroutines are majorly used to build better Data Processing Pipelines.\n",
    "\n",
    "Similar to a generator, execution of a coroutine stops when it reaches yield statement.\n",
    "\n",
    "A Coroutine uses send method to send any input value, which is captured by yield expression."
   ]
  },
  {
   "cell_type": "code",
   "execution_count": 31,
   "metadata": {},
   "outputs": [
    {
     "name": "stdout",
     "output_type": "stream",
     "text": [
      "Token number of George : 1\n",
      "Token number of Rosy : 2\n",
      "Token number of Smith : 3\n"
     ]
    }
   ],
   "source": [
    "# Execution of coroutine function begins only when next is called on coroutine t.\n",
    "# This results in the execution of all the statements till a yield statement is encountered.\n",
    "# Further execution of function resumes when an input is passed using send, \n",
    "# and processes all statements till next yield statement.\n",
    "\n",
    "def TokenIssuer():\n",
    "    tokenId = 0\n",
    "    while True:\n",
    "        name = yield\n",
    "        tokenId += 1\n",
    "        print('Token number of', name, ':', tokenId)\n",
    "\n",
    "t = TokenIssuer()\n",
    "next(t) # if not executed, then TypeError: can't send non-None value to a just-started generator\n",
    "t.send('George')\n",
    "t.send('Rosy')\n",
    "t.send('Smith')"
   ]
  },
  {
   "cell_type": "code",
   "execution_count": 32,
   "metadata": {},
   "outputs": [
    {
     "name": "stdout",
     "output_type": "stream",
     "text": [
      "Token number of George : 101\n",
      "Token number of Rosy : 102\n",
      "Token number of Smith : 103\n",
      "Last issued Token is : 103\n"
     ]
    }
   ],
   "source": [
    "def TokenIssuer(tokenId=0):\n",
    "    try:\n",
    "        while True:\n",
    "            name = yield\n",
    "            tokenId += 1\n",
    "            print('Token number of', name, ':', tokenId)\n",
    "    except GeneratorExit:\n",
    "        print('Last issued Token is :', tokenId)\n",
    "\n",
    "t = TokenIssuer(100)\n",
    "next(t)\n",
    "t.send('George')\n",
    "t.send('Rosy')\n",
    "t.send('Smith')\n",
    "t.close()"
   ]
  },
  {
   "cell_type": "markdown",
   "metadata": {},
   "source": [
    "Passing input to coroutine is possible only after the first **next** function call.\n",
    "\n",
    "We as programmers may forget to do so, which results in error.\n",
    "\n",
    "Solution: Use decorator"
   ]
  },
  {
   "cell_type": "code",
   "execution_count": 33,
   "metadata": {},
   "outputs": [],
   "source": [
    "def coroutine_decorator(func):\n",
    "    def wrapper(*args, **kwdargs):\n",
    "        c = func(*args, **kwdargs)\n",
    "        next(c)\n",
    "        return c\n",
    "    return wrapper"
   ]
  },
  {
   "cell_type": "code",
   "execution_count": 34,
   "metadata": {},
   "outputs": [
    {
     "name": "stdout",
     "output_type": "stream",
     "text": [
      "Token number of George : 101\n",
      "Token number of Rosy : 102\n",
      "Token number of Smith : 103\n",
      "Last issued Token is : 103\n"
     ]
    }
   ],
   "source": [
    "@coroutine_decorator\n",
    "def TokenIssuer(tokenId=0):\n",
    "    try:\n",
    "        while True:\n",
    "            name = yield\n",
    "            tokenId += 1\n",
    "            print('Token number of', name, ':', tokenId)\n",
    "    except GeneratorExit:\n",
    "        print('Last issued Token is :', tokenId)\n",
    "\n",
    "t = TokenIssuer(100)\n",
    "t.send('George')\n",
    "t.send('Rosy')\n",
    "t.send('Smith')\n",
    "t.close()"
   ]
  },
  {
   "cell_type": "code",
   "execution_count": 35,
   "metadata": {},
   "outputs": [
    {
     "name": "stdout",
     "output_type": "stream",
     "text": [
      "In class B, Method m1.\n"
     ]
    }
   ],
   "source": [
    "from abc import ABC, abstractmethod\n",
    "\n",
    "class A(ABC):\n",
    "\n",
    "    @abstractmethod\n",
    "    def m1(self):\n",
    "        print('In class A, Method m1.')\n",
    "\n",
    "class B(A):\n",
    "\n",
    "    @staticmethod\n",
    "    def m1(self):\n",
    "        print('In class B, Method m1.')\n",
    "\n",
    "b = B()\n",
    "B.m1(b)"
   ]
  },
  {
   "cell_type": "code",
   "execution_count": 36,
   "metadata": {},
   "outputs": [
    {
     "name": "stdout",
     "output_type": "stream",
     "text": [
      "Entering Context\n",
      "In Context\n",
      "Exiting Context\n"
     ]
    }
   ],
   "source": [
    "from contextlib import contextmanager\n",
    "\n",
    "@contextmanager\n",
    "def context():\n",
    "    print('Entering Context')\n",
    "    yield \n",
    "    print(\"Exiting Context\")\n",
    "\n",
    "with context():\n",
    "    print('In Context')"
   ]
  },
  {
   "cell_type": "markdown",
   "metadata": {},
   "source": [
    "### Examples"
   ]
  },
  {
   "cell_type": "code",
   "execution_count": 37,
   "metadata": {},
   "outputs": [
    {
     "name": "stdout",
     "output_type": "stream",
     "text": [
      "Hi!!Hi!!Hi!!\n"
     ]
    }
   ],
   "source": [
    "def stringDisplay():\n",
    "    while True:\n",
    "        s = yield\n",
    "        print(s*3)\n",
    "\n",
    "\n",
    "c = stringDisplay()\n",
    "next(c)\n",
    "c.send('Hi!!')"
   ]
  },
  {
   "cell_type": "code",
   "execution_count": 38,
   "metadata": {},
   "outputs": [
    {
     "name": "stdout",
     "output_type": "stream",
     "text": [
      "50\n"
     ]
    }
   ],
   "source": [
    "def outer(x, y):\n",
    "\n",
    "    def inner1():\n",
    "        return x+y\n",
    "\n",
    "    def inner2(z):\n",
    "        return inner1() + z\n",
    "\n",
    "    return inner2\n",
    "\n",
    "f = outer(10, 25)\n",
    "print(f(15))"
   ]
  },
  {
   "cell_type": "code",
   "execution_count": 39,
   "metadata": {},
   "outputs": [
    {
     "ename": "TypeError",
     "evalue": "'classmethod' object is not callable",
     "output_type": "error",
     "traceback": [
      "\u001b[0;31m---------------------------------------------------------------------------\u001b[0m",
      "\u001b[0;31mTypeError\u001b[0m                                 Traceback (most recent call last)",
      "\u001b[0;32m<ipython-input-39-5494b4af60b9>\u001b[0m in \u001b[0;36m<module>\u001b[0;34m\u001b[0m\n\u001b[1;32m      6\u001b[0m         \u001b[0mprint\u001b[0m\u001b[0;34m(\u001b[0m\u001b[0;34m'Hello'\u001b[0m\u001b[0;34m)\u001b[0m\u001b[0;34m\u001b[0m\u001b[0;34m\u001b[0m\u001b[0m\n\u001b[1;32m      7\u001b[0m \u001b[0;34m\u001b[0m\u001b[0m\n\u001b[0;32m----> 8\u001b[0;31m \u001b[0mA\u001b[0m\u001b[0;34m.\u001b[0m\u001b[0mm1\u001b[0m\u001b[0;34m(\u001b[0m\u001b[0;36m5\u001b[0m\u001b[0;34m)\u001b[0m\u001b[0;34m\u001b[0m\u001b[0;34m\u001b[0m\u001b[0m\n\u001b[0m",
      "\u001b[0;31mTypeError\u001b[0m: 'classmethod' object is not callable"
     ]
    }
   ],
   "source": [
    "class A:\n",
    "    \n",
    "    @staticmethod\n",
    "    @classmethod\n",
    "    def m1(self):\n",
    "        print('Hello')\n",
    "\n",
    "A.m1(5)"
   ]
  },
  {
   "cell_type": "code",
   "execution_count": 40,
   "metadata": {},
   "outputs": [
    {
     "name": "stdout",
     "output_type": "stream",
     "text": [
      "Class Method\n"
     ]
    }
   ],
   "source": [
    "class A:\n",
    "\n",
    "    @staticmethod\n",
    "    def m1(self):\n",
    "        print('Static Method')\n",
    "\n",
    "    @classmethod\n",
    "    def m1(self):\n",
    "        print('Class Method')\n",
    "\n",
    "A.m1()"
   ]
  },
  {
   "cell_type": "code",
   "execution_count": 41,
   "metadata": {},
   "outputs": [
    {
     "ename": "AttributeError",
     "evalue": "'A' object has no attribute '_A__x'",
     "output_type": "error",
     "traceback": [
      "\u001b[0;31m---------------------------------------------------------------------------\u001b[0m",
      "\u001b[0;31mAttributeError\u001b[0m                            Traceback (most recent call last)",
      "\u001b[0;32m<ipython-input-41-ce4d995a5163>\u001b[0m in \u001b[0;36m<module>\u001b[0;34m\u001b[0m\n\u001b[1;32m     18\u001b[0m \u001b[0ma\u001b[0m \u001b[0;34m=\u001b[0m \u001b[0mA\u001b[0m\u001b[0;34m(\u001b[0m\u001b[0;36m7\u001b[0m\u001b[0;34m)\u001b[0m\u001b[0;34m\u001b[0m\u001b[0;34m\u001b[0m\u001b[0m\n\u001b[1;32m     19\u001b[0m \u001b[0;32mdel\u001b[0m \u001b[0ma\u001b[0m\u001b[0;34m.\u001b[0m\u001b[0mx\u001b[0m\u001b[0;34m\u001b[0m\u001b[0;34m\u001b[0m\u001b[0m\n\u001b[0;32m---> 20\u001b[0;31m \u001b[0mprint\u001b[0m\u001b[0;34m(\u001b[0m\u001b[0ma\u001b[0m\u001b[0;34m.\u001b[0m\u001b[0mx\u001b[0m\u001b[0;34m)\u001b[0m\u001b[0;34m\u001b[0m\u001b[0;34m\u001b[0m\u001b[0m\n\u001b[0m",
      "\u001b[0;32m<ipython-input-41-ce4d995a5163>\u001b[0m in \u001b[0;36mx\u001b[0;34m(self)\u001b[0m\n\u001b[1;32m      6\u001b[0m     \u001b[0;34m@\u001b[0m\u001b[0mproperty\u001b[0m\u001b[0;34m\u001b[0m\u001b[0;34m\u001b[0m\u001b[0m\n\u001b[1;32m      7\u001b[0m     \u001b[0;32mdef\u001b[0m \u001b[0mx\u001b[0m\u001b[0;34m(\u001b[0m\u001b[0mself\u001b[0m\u001b[0;34m)\u001b[0m\u001b[0;34m:\u001b[0m\u001b[0;34m\u001b[0m\u001b[0;34m\u001b[0m\u001b[0m\n\u001b[0;32m----> 8\u001b[0;31m         \u001b[0;32mreturn\u001b[0m \u001b[0mself\u001b[0m\u001b[0;34m.\u001b[0m\u001b[0m__x\u001b[0m\u001b[0;34m\u001b[0m\u001b[0;34m\u001b[0m\u001b[0m\n\u001b[0m\u001b[1;32m      9\u001b[0m \u001b[0;34m\u001b[0m\u001b[0m\n\u001b[1;32m     10\u001b[0m     \u001b[0;34m@\u001b[0m\u001b[0mx\u001b[0m\u001b[0;34m.\u001b[0m\u001b[0msetter\u001b[0m\u001b[0;34m\u001b[0m\u001b[0;34m\u001b[0m\u001b[0m\n",
      "\u001b[0;31mAttributeError\u001b[0m: 'A' object has no attribute '_A__x'"
     ]
    }
   ],
   "source": [
    "class A:\n",
    "\n",
    "    def __init__(self, val):\n",
    "        self.x = val\n",
    "\n",
    "    @property\n",
    "    def x(self):\n",
    "        return self.__x\n",
    "\n",
    "    @x.setter\n",
    "    def x(self, val):\n",
    "        self.__x = val\n",
    "        \n",
    "    @x.deleter\n",
    "    def x(self):\n",
    "        del self.__x\n",
    "\n",
    "a = A(7)\n",
    "del a.x\n",
    "print(a.x)"
   ]
  },
  {
   "cell_type": "markdown",
   "metadata": {},
   "source": [
    "## END"
   ]
  }
 ],
 "metadata": {
  "kernelspec": {
   "display_name": "Python 3",
   "language": "python",
   "name": "python3"
  },
  "language_info": {
   "codemirror_mode": {
    "name": "ipython",
    "version": 3
   },
   "file_extension": ".py",
   "mimetype": "text/x-python",
   "name": "python",
   "nbconvert_exporter": "python",
   "pygments_lexer": "ipython3",
   "version": "3.7.10"
  }
 },
 "nbformat": 4,
 "nbformat_minor": 4
}
