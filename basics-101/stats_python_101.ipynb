{
 "cells": [
  {
   "cell_type": "markdown",
   "metadata": {},
   "source": [
    "### Stats with Python\n",
    "\n",
    "- Centrality Measures\n",
    "- Measures of Dispersion\n",
    "- Random Numbers & Sampling\n",
    "- Probability Distributions\n",
    "- Random Distributions\n",
    "- Hypothesis Testing\n",
    "- Statistical Models\n",
    "    - Linear Models\n",
    "    - Non-linear Models\n",
    "    - Design Matrices with **patsy**\n",
    "    - Statistical Modeling with **statsmodels**\n",
    "- Discrete Regression Models\n",
    "    - Logit\n",
    "    - MNLogit\n",
    "    - Poission\n",
    "- ANOVA Test of Fitted Regression Model"
   ]
  },
  {
   "cell_type": "code",
   "execution_count": 1,
   "metadata": {},
   "outputs": [],
   "source": [
    "import numpy as np\n",
    "from scipy import stats"
   ]
  },
  {
   "cell_type": "markdown",
   "metadata": {},
   "source": [
    "**Centrality Measures**\n",
    "- mean, median, mode"
   ]
  },
  {
   "cell_type": "code",
   "execution_count": 2,
   "metadata": {},
   "outputs": [
    {
     "name": "stdout",
     "output_type": "stream",
     "text": [
      "53.0\n",
      "47.0\n",
      "ModeResult(mode=array([47]), count=array([2]))\n",
      "47\n"
     ]
    }
   ],
   "source": [
    "s1 = np.array([86, 47, 45, 47, 40])\n",
    "print(np.mean(s1))\n",
    "print(np.median(s1))\n",
    "# If there are more than a single value, then only the first one is returned by mode function.\n",
    "print(stats.mode(s1))\n",
    "print(stats.mode(s1)[0][0])"
   ]
  },
  {
   "cell_type": "markdown",
   "metadata": {},
   "source": [
    "**Measures of Dispersion** - These measures provide insights on the spread of a given dataset.\n",
    "\n",
    "Major measures of dispersion are: \n",
    "- range, percentile, inter-quartile range, standard deviation, variance, skewness, and kurtosis.\n"
   ]
  },
  {
   "cell_type": "code",
   "execution_count": 3,
   "metadata": {},
   "outputs": [
    {
     "name": "stdout",
     "output_type": "stream",
     "text": [
      "Range: 46\n",
      "Percentile: 65\n",
      "Quartiles: [47 65 83]\n",
      "IQR: 36\n",
      "Variance: 454.21000000000004\n",
      "Standard Deviation: 21.312203077110542\n",
      "Sample Variance: 504.6777777777778\n",
      "Sample Standard Deviation: 22.46503455990615\n",
      "Skewness: 0.04321019390325423\n",
      "Kurtosis: -1.5694354898634155\n"
     ]
    }
   ],
   "source": [
    "print(\"Range: {}\".format(np.ptp(s1)))\n",
    "s2 = np.array([86, 47, 45, 47, 40, 97, 98, 75, 65, 83])\n",
    "# 45th percentile refers to a value below which 45% of data points are found.\n",
    "print(\"Percentile: {}\".format(np.percentile(s2, 45, interpolation='lower')))\n",
    "print(\"Quartiles: {}\".format(np.percentile(s2, [25, 50, 75], interpolation='lower')))\n",
    "print(\"IQR: {}\".format(stats.iqr(s2, rng=(25, 75), interpolation='lower')))\n",
    "print(\"Variance: {}\".format(np.var(s2)))\n",
    "print(\"Standard Deviation: {}\".format(np.std(s2)))\n",
    "# s2 representing a population's sample (i.e. sample derived from a population)\n",
    "print(\"Sample Variance: {}\".format(np.var(s2, ddof=1)))\n",
    "print(\"Sample Standard Deviation: {}\".format(np.std(s2, ddof=1)))\n",
    "# Positive: right-skewed; Negative: left-skewed; Zero: Unskewed\n",
    "print(\"Skewness: {}\".format(stats.skew(s2)))\n",
    "# Kurtosis indicates how much of data is concentrated around mean or shape of the probability distribution.\n",
    "# Default: Fisher’s definition. Change to Pearson by setting fisher parameter to False.\n",
    "print(\"Kurtosis: {}\".format(stats.kurtosis(s2)))"
   ]
  },
  {
   "cell_type": "markdown",
   "metadata": {},
   "source": [
    "**Random Numbers & Sampling**"
   ]
  },
  {
   "cell_type": "code",
   "execution_count": 4,
   "metadata": {},
   "outputs": [
    {
     "name": "stdout",
     "output_type": "stream",
     "text": [
      "0.4882053338415546\n",
      "[[0.87317956 0.2490897  0.76373767]\n",
      " [0.10786928 0.45116403 0.54780722]]\n",
      "[11 22]\n",
      "0.5434049417909654\n",
      "0.5434049417909654\n"
     ]
    }
   ],
   "source": [
    "# A random number is a number, chosen by chance from a distribution.\n",
    "# rand function generates uniformly distributed numbers from range [0, 1)\n",
    "print(np.random.rand())\n",
    "# generates a 2*3 array\n",
    "print(np.random.rand(2,3))\n",
    "# Select two samples w/o replacement\n",
    "print(np.random.choice([11, 22, 33], 2, replace=False))\n",
    "# seed is a number that sets the initial state of random number generator.\n",
    "np.random.seed(100)\n",
    "print(np.random.rand())\n",
    "np.random.seed(100)\n",
    "print(np.random.rand())"
   ]
  },
  {
   "cell_type": "markdown",
   "metadata": {},
   "source": [
    "### Probability Distributions\n",
    "\n",
    "There are two types of probability distributions namely **discrete** and **continuous** that take **integer** and **real** values, respectively.\n",
    "\n",
    "**scipy.stats** module provides classes that represent random variables, corresponding to a large number of probability distributions.\n",
    "\n",
    "**Example:** the class **norm** represents normal continuous random variable, and **binom** represents binomial discrete random variable.\n",
    "\n",
    "### Random Distributions\n",
    "\n",
    "**scipy.stats** module provide a lot of methods for created discrete and continuous random variables.\n",
    "\n",
    "Commonly used methods are described below.\n",
    "\n",
    "    pdf/ pmf: Probability distribution function (continuous) or probability mass function (discrete).\n",
    "    cdf: Cumulative distribution function.\n",
    "    sf: Survival function (1 – cdf).\n",
    "    rvs: Creating random samples from a defined distribution.\n",
    "\n"
   ]
  },
  {
   "cell_type": "code",
   "execution_count": 5,
   "metadata": {},
   "outputs": [
    {
     "name": "stdout",
     "output_type": "stream",
     "text": [
      "<scipy.stats._distn_infrastructure.rv_frozen object at 0x7fe914d77f50>\n",
      "[0.11587662 0.14730806 0.15957691]\n",
      "[0.2118554  0.34457826 0.5       ]\n",
      "Random Numbers: \n",
      " [[-0.40409689 -3.12269376  1.88668613]\n",
      " [-0.96516083  0.42031951  1.5199392 ]]\n",
      "Sample Mean: 0.7768877525594577\n",
      "Distribution Mean: 1.0\n"
     ]
    }
   ],
   "source": [
    "# A normal continuous random variable of mean 1.0 and std 2.5.\n",
    "x = stats.norm(loc=1.0, scale=2.5)\n",
    "print(x)\n",
    "# Estimates probabilities and cumulative probabilities at -1, 0 and 1.\n",
    "print(x.pdf([-1, 0, 1]))\n",
    "print(x.cdf([-1, 0, 1]))\n",
    "# Generates six random numbers from defined normal distribution.\n",
    "print(\"Random Numbers: \\n {}\".format(x.rvs((2,3))))\n",
    "# Sample mean\n",
    "print(\"Sample Mean: {}\".format(np.mean(x.rvs((2,3)))))\n",
    "# Distribution mean\n",
    "print(\"Distribution Mean: {}\".format(x.mean()))"
   ]
  },
  {
   "cell_type": "markdown",
   "metadata": {},
   "source": [
    "**Problem**\n",
    "\n",
    "Simulate a random experiment of tossing a coin 10,000 times, and determine the count of Heads returned?"
   ]
  },
  {
   "cell_type": "code",
   "execution_count": 6,
   "metadata": {},
   "outputs": [
    {
     "name": "stdout",
     "output_type": "stream",
     "text": [
      "[0 1 0 ... 0 0 1]\n",
      "[4990 5010]\n"
     ]
    }
   ],
   "source": [
    "np.random.seed(1)\n",
    "re = stats.binom(n=1, p=0.5)\n",
    "binom_vars = re.rvs(size=10000)\n",
    "print(binom_vars)\n",
    "print(np.bincount(binom_vars))"
   ]
  },
  {
   "cell_type": "markdown",
   "metadata": {},
   "source": [
    "### Hypothesis Testing\n",
    "\n",
    " - Define the null hypothesis and the alternative hypothesis.\n",
    " - Select a test statistics whose probability distribution function can be found under the null hypothesis.\n",
    " - Collect data.\n",
    " - Compute the test statistics from the data and calculate its p-value under the null hypothesis.\n",
    " - Null hypothesis is rejected if the p-value is lower than predetermined significance value.\n",
    " \n",
    "In hypothesis testing, selecting a test statistics is the most difficult part.\n",
    "\n",
    "The methods used for performing **t-test** are shown below:\n",
    "\n",
    "    stats.ttest_1samp: Tests if the mean of a population is a given value.\n",
    "    stats.ttest_ind: Tests if the means of two independent samples are equal.\n",
    "    stats.ttest_rel: Tests if the means of two paired samples are equal.\n",
    "    \n",
    "Let's consider a common hypothesis: Mean of a population is equal to certain value.\n",
    "\n",
    "In reality, we estimate mean and variance of a sample and calculate the test statistic.\n",
    "- If population variance is identified, then it is reasonable to consider that test statistic is normally distributed.\n",
    "- If population variance is unknown, then sample variance is used, and test statistic follows t-distribution.\n",
    "    \n",
    "    "
   ]
  },
  {
   "cell_type": "code",
   "execution_count": 7,
   "metadata": {},
   "outputs": [
    {
     "name": "stdout",
     "output_type": "stream",
     "text": [
      "-2.9673196734975202 0.0037666655277120245\n"
     ]
    }
   ],
   "source": [
    "# Consider a normal population with mean 0.8 and standard deviation 0.5.\n",
    "# Define the null hypothesis as Mean of the population is 1.0.\n",
    "# Let's calculate t-statistic and p-value.\n",
    "\n",
    "mu, sigma = 0.8, 0.5\n",
    "X = stats.norm(mu, sigma)\n",
    "\n",
    "# Deriving a sample\n",
    "n = 100\n",
    "X_sample = X.rvs(n)\n",
    "\n",
    "# Computing test statistic\n",
    "t, p = stats.ttest_1samp(X_sample, 1.0)\n",
    "print(t, p)\n",
    "\n",
    "# Conclusion: Since p-value is very low and less than the significance level 0.05, \n",
    "# we can reject the null hypothesis and infer that the mean of the population is not 1.\n"
   ]
  },
  {
   "cell_type": "code",
   "execution_count": 8,
   "metadata": {},
   "outputs": [
    {
     "name": "stdout",
     "output_type": "stream",
     "text": [
      "-2.6036006833310372 0.00992383762438619\n"
     ]
    }
   ],
   "source": [
    "# Let's consider another problem, where the null hypothesis states that the population means of two random variables are equal.\n",
    "\n",
    "# Get two samples from different populations\n",
    "X1 = stats.norm(0.25, 1.0)\n",
    "X2 = stats.norm(0.50, 1.0)\n",
    "\n",
    "X1_sample = X1.rvs(100)\n",
    "X2_sample = X2.rvs(100)\n",
    "\n",
    "t, p = stats.ttest_ind(X1_sample, X2_sample)\n",
    "print(t, p)\n",
    "\n",
    "# Conclusion: Since p-value is greater than the significance level 0.05, we can accept the null hypothesis and state that population means of both samples are equal.\n"
   ]
  },
  {
   "cell_type": "markdown",
   "metadata": {},
   "source": [
    "**Examples**"
   ]
  },
  {
   "cell_type": "code",
   "execution_count": 9,
   "metadata": {},
   "outputs": [
    {
     "name": "stdout",
     "output_type": "stream",
     "text": [
      "4.257546665558161 0.0004736633119019225\n"
     ]
    }
   ],
   "source": [
    "import numpy as np\n",
    "from scipy import stats\n",
    "s1 = [45, 38, 52, 48, 25, 39, 51, 46, 55, 46]\n",
    "s2 = [34, 22, 15, 27, 37, 41, 24, 19, 26, 36]\n",
    "t, p = stats.ttest_ind(s1, s2)\n",
    "print(t, p)"
   ]
  },
  {
   "cell_type": "code",
   "execution_count": 10,
   "metadata": {},
   "outputs": [
    {
     "name": "stdout",
     "output_type": "stream",
     "text": [
      "1.315587028960544 0.2208380130273219\n"
     ]
    }
   ],
   "source": [
    "import numpy as np\n",
    "from scipy import stats\n",
    "s1 = [12, 7, 3, 11, 8, 5, 14, 7, 9, 10]\n",
    "s2 = [8, 7, 4, 14, 6, 7, 12, 5, 5, 8]\n",
    "t, p = stats.ttest_rel(s1, s2)\n",
    "print(t, p)"
   ]
  },
  {
   "cell_type": "markdown",
   "metadata": {},
   "source": [
    "### Statistical Model\n",
    "\n",
    "A statistical model is a mathematical equation, which explains the relationship between dependent variables (Y) and independent variables (X).\n",
    "\n",
    "In general, a model is written as\n",
    "\n",
    "$$ Y = f(X) $$\n",
    "\n",
    "However, in reality, an element of uncertainty is expected due to factors such as measurement noise. Hence the aforementioned equation can be rewritten as\n",
    "\n",
    "$$ Y = f(X) + e $$ \n",
    "\n",
    "where 'e' is residual error.\n",
    "    \n",
    "#### Statistical Modeling\n",
    "    \n",
    "Statistical Modeling deals with creating models that attempt to explain the data best.\n",
    "\n",
    "#### Linear Models\n",
    "\n",
    "The simplest model is a **linear** model represented as $$ Y = B_0 + B_1 * X + e $$ where the coefficients, B0 and B1 are the parameters of the model and e is normally distributed residual error.\n",
    "\n",
    " - A linear regression model assumes that residuals are independent and normally distributed.\n",
    " - The model is fitted to data using ordinary least squares approach.\n",
    " \n",
    "In most of the linear regression models, a dependent variable Y is written as:\n",
    "\n",
    "    a linear combination of the response variables X i.e \n",
    "$$ Y = B_0 + B_1 * X_1 + ... + B_n * X_n $$, or\n",
    "    \n",
    "    functions of the response variables i.e \n",
    "\n",
    "$$ Y = B_0 + B_1 * X^1 + B_2 * X^2 + ... + B_n * X^n $$, or\n",
    "    \n",
    "    models that have a linear component i.e \n",
    "    \n",
    "$$ Y = B_0 + B_1 * sin(X_1) + B_2 * cos(X_2) $$\n",
    "    \n",
    "#### Non-Linear Models\n",
    "\n",
    "Other than linear regression models, statistical modeling can be used to build non-linear models.\n",
    "\n",
    "- Errors of dependent variable follow a distribution other than normal distribution.\n",
    "- Examples of non-linear models are: **Binomial Regression** and **Poisson Regression**.\n",
    "- In most of the cases, the non-linear models are generalized to linear models.\n",
    "\n",
    "#### Design Matrices\n",
    "\n",
    "In reality, we choose a model and fit the available data to it.\n",
    "\n",
    "Once a model is chosen, design matrices y and X are constructed, and the regression problem is written, in matrix form, as: $$ y = XB + e $$\n",
    "\n",
    "    where y is the vector of dependent variable, X is the vector of observations, B is a vector of coefficients, and e is the residual (error).\n",
    "\n",
    "Thus the obtained design matrices are passed as inputs to the chosen model.\n",
    "\n",
    "#### Statistical Modelling with StatsModels\n",
    "\n",
    "- statsmodels library supports several types of statistical models.\n",
    "- All of them follow a similar usage pattern.\n",
    "- A statistical model is represented by a model class.\n",
    "- A model can be initiated with,\n",
    "    - given design matrices of dependent and independent variables, or with\n",
    "    - given patsy formula and data frame or dictionary-like object.\n",
    "    \n",
    "Step 1: Creating a Model\n",
    "\n",
    "An instance of a model class is created in either of the following ways.\n",
    "\n",
    "    model = sm.MODEL(y, X) or\n",
    "    model = smf.model(patsy_formula, data)\n",
    "\n",
    "    where MODEL and model refer to model names such as OLS, GLM, ols, glm, etc. Uppercase names take design matrices as arguments, and lowercase names take Patsy formulas and data frames as arguments.\n",
    "    \n",
    "**Note**: We need to add bias term (constant) manually while using **statsmodels.api** as **sm** whereas the constant is automatically added with **statsmodels.formula.api** as **smf**.\n",
    "\n",
    "Step 2: Fitting a Model\n",
    "\n",
    "In order to fit the model with data, fit method is invoked on the created model, as shown below.\n",
    "\n",
    "    result = model.fit()\n",
    "\n",
    "The fit method returns a result object, which has methods and attributes for further analysis.\n",
    "\n",
    "Step 3: Viewing Model Summary\n",
    "\n",
    "The summary method of result object produces a summary text that describes the result of the fit, as shown below.\n",
    "\n",
    "    print(result.summary())\n",
    "    \n",
    "The displayed summary text varies for each statistical model and provides information of various statistical parameters.\n",
    "\n",
    "Step 4: Analyzing the Model\n",
    "\n",
    "Other than viewing the summary statistics, we can perform operations like,\n",
    "\n",
    "    Determining fitted values,\n",
    "    Predicting the dependent variable values for new independent variable values.\n",
    "    Checking if residuals of fitted models follow a normal distribution or not.\n"
   ]
  },
  {
   "cell_type": "code",
   "execution_count": 11,
   "metadata": {},
   "outputs": [
    {
     "name": "stdout",
     "output_type": "stream",
     "text": [
      "[1 2 3 4 5]\n",
      "[[  1.   6.  11.  66.]\n",
      " [  1.   7.  12.  84.]\n",
      " [  1.   8.  13. 104.]\n",
      " [  1.   9.  14. 126.]\n",
      " [  1.  10.  15. 150.]]\n"
     ]
    }
   ],
   "source": [
    "y = np.array([1, 2, 3, 4, 5])\n",
    "x1 = np.array([6, 7, 8, 9, 10])\n",
    "x2 = np.array([11, 12, 13, 14, 15])\n",
    "X = np.vstack([np.ones(5), x1, x2, x1*x2]).T\n",
    "print(y)\n",
    "print(X)"
   ]
  },
  {
   "cell_type": "markdown",
   "metadata": {},
   "source": [
    "#### Design Matrices with patsy\n",
    "\n",
    "- patsy, a python library, allows defining a model easily.\n",
    "- It also constructs relevant design matrices, automatically, using **patsy.dmatrices** function.\n",
    "- patsy.dmatrices takes a formula (in string form) as a first argument, and a dictionary-like object with data arrays for the response variables as a second argument.\n",
    "    \n",
    "    **Formulae**\n",
    "    \n",
    "    'y ~ x' : y is linearly dependent on x. ~ symbol separates dependent variable from independent variable terms. This is also equivalent to 'y ~ 1 + x'.\n",
    "\n",
    "    'y ~ x1 + x2' : y is a linear combination of x1 and x2. + sign is used to denote the union of terms.\n",
    "\n",
    "    'y ~ x1 * x2' : x1 * x2 is an interaction term that includes all lower order terms.\n",
    "     \n",
    "    'y ~ np.log(x1)': Often numpy functions can be used to transform terms in the expression.\n",
    "\n",
    "    'y ~ I(x1 + x2)': I is the identify function, used to escape arithmetic expressions and are evaluated.\n",
    "\n",
    "    'y ~ C(x1)': Treats the variable x1 as a categorical variable."
   ]
  },
  {
   "cell_type": "code",
   "execution_count": 12,
   "metadata": {},
   "outputs": [
    {
     "name": "stdout",
     "output_type": "stream",
     "text": [
      "[[1.]\n",
      " [2.]\n",
      " [3.]\n",
      " [4.]\n",
      " [5.]]\n",
      "[[  1.   6.  11.  66.]\n",
      " [  1.   7.  12.  84.]\n",
      " [  1.   8.  13. 104.]\n",
      " [  1.   9.  14. 126.]\n",
      " [  1.  10.  15. 150.]]\n"
     ]
    }
   ],
   "source": [
    "import patsy\n",
    "y = np.array([1, 2, 3, 4, 5])\n",
    "x1 = np.array([6, 7, 8, 9, 10])\n",
    "x2 = np.array([11, 12, 13, 14, 15])\n",
    "data = {'y':y, 'x1':x1, 'x2':x2}\n",
    "\n",
    "y, X = patsy.dmatrices('y ~ 1 + x1 + x2 + x1*x2', data)\n",
    "\n",
    "print(y)\n",
    "print(X)"
   ]
  },
  {
   "cell_type": "markdown",
   "metadata": {},
   "source": [
    "#### Example Datasets\n",
    "\n",
    "statsmodels contain few popular example datasets, which can be used to explore various utilities of the package.\n",
    "\n",
    "The example data sets are available in the datasets module.\n",
    "\n",
    "Each dataset is associated with special variables like SOURCE, DESCSHORT, DESCLONG, that provide more informationa about the dataset.\n",
    "\n",
    "A dataset can be loaded using load function, and its data can be accessed using data attribute in the form of Numpy's recarray."
   ]
  },
  {
   "cell_type": "code",
   "execution_count": 13,
   "metadata": {},
   "outputs": [
    {
     "name": "stdout",
     "output_type": "stream",
     "text": [
      "<class 'numpy.recarray'>\n"
     ]
    }
   ],
   "source": [
    "import statsmodels.api as sm\n",
    "bc_cancer_set = sm.datasets.cancer\n",
    "bc_cancer = bc_cancer_set.load()\n",
    "bc_cancer_data = bc_cancer.data\n",
    "print(type(bc_cancer_data))"
   ]
  },
  {
   "cell_type": "code",
   "execution_count": 14,
   "metadata": {},
   "outputs": [
    {
     "data": {
      "text/plain": [
       "statsmodels.datasets.utils.Dataset"
      ]
     },
     "execution_count": 14,
     "metadata": {},
     "output_type": "execute_result"
    }
   ],
   "source": [
    "# Alternative - load pandas\n",
    "bc_cancer_df = bc_cancer_set.load_pandas()\n",
    "type(bc_cancer_df)"
   ]
  },
  {
   "cell_type": "markdown",
   "metadata": {},
   "source": [
    "### Modeling Experiments"
   ]
  },
  {
   "cell_type": "code",
   "execution_count": 15,
   "metadata": {},
   "outputs": [
    {
     "name": "stdout",
     "output_type": "stream",
     "text": [
      "Index(['cons', 'income', 'price', 'temp'], dtype='object')\n",
      "                            OLS Regression Results                            \n",
      "==============================================================================\n",
      "Dep. Variable:                   cons   R-squared:                       0.633\n",
      "Model:                            OLS   Adj. R-squared:                  0.606\n",
      "Method:                 Least Squares   F-statistic:                     23.27\n",
      "Date:                Tue, 28 Jul 2020   Prob (F-statistic):           1.34e-06\n",
      "Time:                        16:57:12   Log-Likelihood:                 54.607\n",
      "No. Observations:                  30   AIC:                            -103.2\n",
      "Df Residuals:                      27   BIC:                            -99.01\n",
      "Df Model:                           2                                         \n",
      "Covariance Type:            nonrobust                                         \n",
      "==============================================================================\n",
      "                 coef    std err          t      P>|t|      [0.025      0.975]\n",
      "------------------------------------------------------------------------------\n",
      "Intercept      0.5966      0.258      2.309      0.029       0.067       1.127\n",
      "price         -1.4018      0.925     -1.515      0.141      -3.300       0.496\n",
      "temp           0.0030      0.000      6.448      0.000       0.002       0.004\n",
      "==============================================================================\n",
      "Omnibus:                        0.991   Durbin-Watson:                   0.656\n",
      "Prob(Omnibus):                  0.609   Jarque-Bera (JB):                0.220\n",
      "Skew:                          -0.107   Prob(JB):                        0.896\n",
      "Kurtosis:                       3.361   Cond. No.                     6.58e+03\n",
      "==============================================================================\n",
      "\n",
      "Warnings:\n",
      "[1] Standard Errors assume that the covariance matrix of the errors is correctly specified.\n",
      "[2] The condition number is large, 6.58e+03. This might indicate that there are\n",
      "strong multicollinearity or other numerical problems.\n"
     ]
    }
   ],
   "source": [
    "import statsmodels.formula.api as smf\n",
    "icecream = sm.datasets.get_rdataset(\"Icecream\", \"Ecdat\")\n",
    "icecream_data = icecream.data\n",
    "print(icecream_data.columns)\n",
    "\n",
    "linear_model1 = smf.ols('cons ~ price + temp', icecream_data)\n",
    "linear_result1 = linear_model1.fit()\n",
    "print(linear_result1.summary())"
   ]
  },
  {
   "cell_type": "markdown",
   "metadata": {},
   "source": [
    "#### Discrete Regression\n",
    "\n",
    "A discrete dependent variable takes few possible outcome values and is not normally distributed.\n",
    "\n",
    "Hence, linear regression cannot be applied to a discrete variable.\n",
    "\n",
    "#### Discrete Regression models\n",
    "\n",
    "statsmodels provide the following classes to work with discrete regression problems.\n",
    "\n",
    "    Logit: for Logistic Regression\n",
    "    MNLogit: for Multinomial Logistic Regression\n",
    "    Poisson: for Poisson Regression\n",
    "    \n",
    "Error or outcome values are not normally distributed.\n"
   ]
  },
  {
   "cell_type": "code",
   "execution_count": 16,
   "metadata": {},
   "outputs": [
    {
     "name": "stdout",
     "output_type": "stream",
     "text": [
      "<class 'pandas.core.frame.DataFrame'>\n",
      "RangeIndex: 150 entries, 0 to 149\n",
      "Data columns (total 5 columns):\n",
      " #   Column        Non-Null Count  Dtype  \n",
      "---  ------        --------------  -----  \n",
      " 0   Sepal.Length  150 non-null    float64\n",
      " 1   Sepal.Width   150 non-null    float64\n",
      " 2   Petal.Length  150 non-null    float64\n",
      " 3   Petal.Width   150 non-null    float64\n",
      " 4   Species       150 non-null    object \n",
      "dtypes: float64(4), object(1)\n",
      "memory usage: 6.0+ KB\n",
      "None\n",
      "['setosa' 'versicolor' 'virginica']\n",
      "['versicolor' 'virginica']\n",
      "Optimization terminated successfully.\n",
      "         Current function value: 0.102818\n",
      "         Iterations 10\n",
      "Result Summary:\n",
      "                            Logit Regression Results                           \n",
      "==============================================================================\n",
      "Dep. Variable:                Species   No. Observations:                  100\n",
      "Model:                          Logit   Df Residuals:                       97\n",
      "Method:                           MLE   Df Model:                            2\n",
      "Date:                Tue, 28 Jul 2020   Pseudo R-squ.:                  0.8517\n",
      "Time:                        16:57:12   Log-Likelihood:                -10.282\n",
      "converged:                       True   LL-Null:                       -69.315\n",
      "Covariance Type:            nonrobust   LLR p-value:                 2.303e-26\n",
      "================================================================================\n",
      "                   coef    std err          z      P>|z|      [0.025      0.975]\n",
      "--------------------------------------------------------------------------------\n",
      "Intercept       45.2723     13.612      3.326      0.001      18.594      71.951\n",
      "Petal_Length    -5.7545      2.306     -2.496      0.013     -10.274      -1.235\n",
      "Petal_Width    -10.4467      3.756     -2.782      0.005     -17.808      -3.086\n",
      "================================================================================\n",
      "\n",
      "Possibly complete quasi-separation: A fraction 0.34 of observations can be\n",
      "perfectly predicted. This might indicate that there is complete\n",
      "quasi-separation. In this case some parameters will not be identified.\n",
      "0    0.999999\n",
      "1    0.000192\n",
      "2    0.999601\n",
      "Name: P-Species, dtype: float64\n"
     ]
    },
    {
     "data": {
      "text/html": [
       "<div>\n",
       "<style scoped>\n",
       "    .dataframe tbody tr th:only-of-type {\n",
       "        vertical-align: middle;\n",
       "    }\n",
       "\n",
       "    .dataframe tbody tr th {\n",
       "        vertical-align: top;\n",
       "    }\n",
       "\n",
       "    .dataframe thead th {\n",
       "        text-align: right;\n",
       "    }\n",
       "</style>\n",
       "<table border=\"1\" class=\"dataframe\">\n",
       "  <thead>\n",
       "    <tr style=\"text-align: right;\">\n",
       "      <th></th>\n",
       "      <th>Petal_Length</th>\n",
       "      <th>Petal_Width</th>\n",
       "      <th>P-Species</th>\n",
       "      <th>Species</th>\n",
       "    </tr>\n",
       "  </thead>\n",
       "  <tbody>\n",
       "    <tr>\n",
       "      <th>0</th>\n",
       "      <td>3.811639</td>\n",
       "      <td>0.947028</td>\n",
       "      <td>0.999999</td>\n",
       "      <td>1</td>\n",
       "    </tr>\n",
       "    <tr>\n",
       "      <th>1</th>\n",
       "      <td>5.695176</td>\n",
       "      <td>2.015813</td>\n",
       "      <td>0.000192</td>\n",
       "      <td>0</td>\n",
       "    </tr>\n",
       "    <tr>\n",
       "      <th>2</th>\n",
       "      <td>5.245047</td>\n",
       "      <td>0.695395</td>\n",
       "      <td>0.999601</td>\n",
       "      <td>1</td>\n",
       "    </tr>\n",
       "    <tr>\n",
       "      <th>3</th>\n",
       "      <td>4.680638</td>\n",
       "      <td>1.469519</td>\n",
       "      <td>0.951930</td>\n",
       "      <td>1</td>\n",
       "    </tr>\n",
       "    <tr>\n",
       "      <th>4</th>\n",
       "      <td>4.669812</td>\n",
       "      <td>1.611719</td>\n",
       "      <td>0.826729</td>\n",
       "      <td>1</td>\n",
       "    </tr>\n",
       "  </tbody>\n",
       "</table>\n",
       "</div>"
      ],
      "text/plain": [
       "   Petal_Length  Petal_Width  P-Species  Species\n",
       "0      3.811639     0.947028   0.999999        1\n",
       "1      5.695176     2.015813   0.000192        0\n",
       "2      5.245047     0.695395   0.999601        1\n",
       "3      4.680638     1.469519   0.951930        1\n",
       "4      4.669812     1.611719   0.826729        1"
      ]
     },
     "execution_count": 16,
     "metadata": {},
     "output_type": "execute_result"
    }
   ],
   "source": [
    "import statsmodels.api as sm\n",
    "import statsmodels.formula.api as smf\n",
    "import numpy as np\n",
    "import pandas as pd\n",
    "\n",
    "iris = sm.datasets.get_rdataset(\"iris\").data \n",
    "print(iris.info())\n",
    "print(iris.Species.unique())\n",
    "\n",
    "iris_subset = iris[(iris.Species == \"versicolor\") | (iris.Species == \"virginica\")].copy()\n",
    "print(iris_subset.Species.unique())\n",
    "\n",
    "iris_subset.Species = iris_subset.Species.map({\"versicolor\": 1, \"virginica\": 0}) \n",
    "iris_subset.rename(columns={\"Sepal.Length\": \"Sepal_Length\", \"Sepal.Width\": \"Sepal_Width\", \"Petal.Length\": \"Petal_Length\", \"Petal.Width\": \"Petal_Width\"}, inplace=True) \n",
    "model = smf.logit(\"Species ~ Petal_Length + Petal_Width\", data=iris_subset)\n",
    "result = model.fit() \n",
    "print(\"Result Summary:\\n\", result.summary())\n",
    "\n",
    "df_new = pd.DataFrame({\"Petal_Length\": np.random.randn(20) * 0.5 + 5,\n",
    "                       \"Petal_Width\": np.random.randn(20) * 0.5 + 1.7})\n",
    "df_new[\"P-Species\"] = result.predict(df_new)\n",
    "print(df_new[\"P-Species\"].head(3))\n",
    "\n",
    "df_new[\"Species\"] = (df_new[\"P-Species\"] > 0.5).astype(int)\n",
    "df_new.head()"
   ]
  },
  {
   "cell_type": "markdown",
   "metadata": {},
   "source": [
    "- Poisson Model describes a process where dependent variable refers to success count of many attempts and each attempt has a very low probability of success."
   ]
  },
  {
   "cell_type": "code",
   "execution_count": 17,
   "metadata": {},
   "outputs": [
    {
     "name": "stdout",
     "output_type": "stream",
     "text": [
      "    id  num_awards  prog  math\n",
      "0   45           0     3    41\n",
      "1  108           0     1    41\n",
      "2   15           0     3    44\n"
     ]
    }
   ],
   "source": [
    "awards_df = pd.read_csv(\"https://stats.idre.ucla.edu/stat/data/poisson_sim.csv\")\n",
    "print(awards_df.head(3))"
   ]
  },
  {
   "cell_type": "markdown",
   "metadata": {},
   "source": [
    "There are three type of programs enrolled by a student : 1 - \"General\", 2 - \"Academic\", 3 - \"Vocational\""
   ]
  },
  {
   "cell_type": "code",
   "execution_count": 18,
   "metadata": {},
   "outputs": [
    {
     "name": "stdout",
     "output_type": "stream",
     "text": [
      "Optimization terminated successfully.\n",
      "         Current function value: 0.913761\n",
      "         Iterations 6\n"
     ]
    },
    {
     "data": {
      "text/html": [
       "<table class=\"simpletable\">\n",
       "<caption>Poisson Regression Results</caption>\n",
       "<tr>\n",
       "  <th>Dep. Variable:</th>      <td>num_awards</td>    <th>  No. Observations:  </th>  <td>   200</td>  \n",
       "</tr>\n",
       "<tr>\n",
       "  <th>Model:</th>                <td>Poisson</td>     <th>  Df Residuals:      </th>  <td>   196</td>  \n",
       "</tr>\n",
       "<tr>\n",
       "  <th>Method:</th>                 <td>MLE</td>       <th>  Df Model:          </th>  <td>     3</td>  \n",
       "</tr>\n",
       "<tr>\n",
       "  <th>Date:</th>            <td>Tue, 28 Jul 2020</td> <th>  Pseudo R-squ.:     </th>  <td>0.2118</td>  \n",
       "</tr>\n",
       "<tr>\n",
       "  <th>Time:</th>                <td>16:57:13</td>     <th>  Log-Likelihood:    </th> <td> -182.75</td> \n",
       "</tr>\n",
       "<tr>\n",
       "  <th>converged:</th>             <td>True</td>       <th>  LL-Null:           </th> <td> -231.86</td> \n",
       "</tr>\n",
       "<tr>\n",
       "  <th>Covariance Type:</th>     <td>nonrobust</td>    <th>  LLR p-value:       </th> <td>3.747e-21</td>\n",
       "</tr>\n",
       "</table>\n",
       "<table class=\"simpletable\">\n",
       "<tr>\n",
       "        <td></td>          <th>coef</th>     <th>std err</th>      <th>z</th>      <th>P>|z|</th>  <th>[0.025</th>    <th>0.975]</th>  \n",
       "</tr>\n",
       "<tr>\n",
       "  <th>Intercept</th>    <td>   -5.2471</td> <td>    0.658</td> <td>   -7.969</td> <td> 0.000</td> <td>   -6.538</td> <td>   -3.957</td>\n",
       "</tr>\n",
       "<tr>\n",
       "  <th>C(prog)[T.2]</th> <td>    1.0839</td> <td>    0.358</td> <td>    3.025</td> <td> 0.002</td> <td>    0.382</td> <td>    1.786</td>\n",
       "</tr>\n",
       "<tr>\n",
       "  <th>C(prog)[T.3]</th> <td>    0.3698</td> <td>    0.441</td> <td>    0.838</td> <td> 0.402</td> <td>   -0.495</td> <td>    1.234</td>\n",
       "</tr>\n",
       "<tr>\n",
       "  <th>math</th>         <td>    0.0702</td> <td>    0.011</td> <td>    6.619</td> <td> 0.000</td> <td>    0.049</td> <td>    0.091</td>\n",
       "</tr>\n",
       "</table>"
      ],
      "text/plain": [
       "<class 'statsmodels.iolib.summary.Summary'>\n",
       "\"\"\"\n",
       "                          Poisson Regression Results                          \n",
       "==============================================================================\n",
       "Dep. Variable:             num_awards   No. Observations:                  200\n",
       "Model:                        Poisson   Df Residuals:                      196\n",
       "Method:                           MLE   Df Model:                            3\n",
       "Date:                Tue, 28 Jul 2020   Pseudo R-squ.:                  0.2118\n",
       "Time:                        16:57:13   Log-Likelihood:                -182.75\n",
       "converged:                       True   LL-Null:                       -231.86\n",
       "Covariance Type:            nonrobust   LLR p-value:                 3.747e-21\n",
       "================================================================================\n",
       "                   coef    std err          z      P>|z|      [0.025      0.975]\n",
       "--------------------------------------------------------------------------------\n",
       "Intercept       -5.2471      0.658     -7.969      0.000      -6.538      -3.957\n",
       "C(prog)[T.2]     1.0839      0.358      3.025      0.002       0.382       1.786\n",
       "C(prog)[T.3]     0.3698      0.441      0.838      0.402      -0.495       1.234\n",
       "math             0.0702      0.011      6.619      0.000       0.049       0.091\n",
       "================================================================================\n",
       "\"\"\""
      ]
     },
     "execution_count": 18,
     "metadata": {},
     "output_type": "execute_result"
    }
   ],
   "source": [
    "poisson_model = smf.poisson('num_awards ~ math + C(prog)', awards_df)\n",
    "poisson_model_result = poisson_model.fit()\n",
    "poisson_model_result.summary()"
   ]
  },
  {
   "cell_type": "markdown",
   "metadata": {},
   "source": [
    "The coefficient for math variable is 0.07, which means for every one unit increase in math, the log count increases by 0.07.\n",
    "\n",
    "Having enrolled for prog=2, i.e., \"Academic\", instead of \"Generic\" program, changes the log count by 1.08.\n",
    "\n",
    "Having enrolled for prog=3, i.e., \"Vocational\", instead of \"Generic\" program, changes the log count by 0.37."
   ]
  },
  {
   "cell_type": "code",
   "execution_count": 19,
   "metadata": {},
   "outputs": [
    {
     "name": "stdout",
     "output_type": "stream",
     "text": [
      "Optimization terminated successfully.\n",
      "         Current function value: 3.468160\n",
      "         Iterations 7\n",
      "0      5.224177\n",
      "1     -6.990384\n",
      "2    -19.554411\n",
      "3    -45.058842\n",
      "4     18.332705\n",
      "        ...    \n",
      "59    10.466602\n",
      "60    -0.949599\n",
      "61     2.084412\n",
      "62     2.287499\n",
      "63    12.369671\n",
      "Length: 64, dtype: float64\n"
     ]
    }
   ],
   "source": [
    "import statsmodels.api as sm\n",
    "import statsmodels.formula.api as smf\n",
    "import numpy as np\n",
    "import pandas as pd\n",
    "insurance_set = sm.datasets.get_rdataset('Insurance','MASS')\n",
    "insurance_set_data = insurance_set.data\n",
    "insurance_model = smf.poisson('Claims ~ np.log(Holders)', insurance_set_data)\n",
    "insurance_model_result = insurance_model.fit()\n",
    "print(insurance_model_result.resid)"
   ]
  },
  {
   "cell_type": "markdown",
   "metadata": {},
   "source": [
    "#### ANOVA Test"
   ]
  },
  {
   "cell_type": "code",
   "execution_count": 20,
   "metadata": {},
   "outputs": [
    {
     "name": "stdout",
     "output_type": "stream",
     "text": [
      "ANOVA Test for Model 1:\n",
      "             df    sum_sq   mean_sq         F        PR(>F)\n",
      "temp       1.0  0.075514  0.075514  42.27997  4.789215e-07\n",
      "Residual  28.0  0.050009  0.001786       NaN           NaN\n",
      "\n",
      "ANOVA Test for Model 2:\n",
      "             df    sum_sq   mean_sq          F        PR(>F)\n",
      "income     1.0  0.000288  0.000288   0.208231  6.518069e-01\n",
      "temp       1.0  0.087836  0.087836  63.413711  1.470071e-08\n",
      "Residual  27.0  0.037399  0.001385        NaN           NaN\n",
      "\n",
      "F-statistic:  7.959504548627583e-08\n"
     ]
    }
   ],
   "source": [
    "#### Perform ANOVA of a fitted regression model\n",
    "from statsmodels.stats import anova\n",
    "icecream = sm.datasets.get_rdataset(\"Icecream\", \"Ecdat\")\n",
    "icecream_data = icecream.data\n",
    "model1 = smf.ols('cons ~ temp', icecream_data).fit()\n",
    "# let's frame a null hypothesis: Value of B1, i.e., the coefficient of temp variable is zero.\n",
    "\n",
    "print(\"ANOVA Test for Model 1:\\n\", anova.anova_lm(model1))\n",
    "# The obtained F-statistic is 42.27 and has a very low probability.\n",
    "# Hence, the null hypothesis can be rejected. i.e., B1 is not equal to zero.\n",
    "\n",
    "# Now let's create a new model with two independent variables and one response variable.\n",
    "# With more that one independent variable, the null hypothesis is stated as Coefficients of all independent variables are zero. i.e B1 = 0, and B2 = 0.\n",
    "# The alternative hypothesis will be that atleast one of the parameters Bj != 0 where j takes the values 1, 2, ...\n",
    "\n",
    "model2 = smf.ols('cons ~ income + temp', icecream_data).fit()\n",
    "print(\"\\nANOVA Test for Model 2:\\n\", anova.anova_lm(model2))\n",
    "\n",
    "# F-statistic is defined as (Mean square of model/ Mean square of residuals).\n",
    "# Mean square of model is (sum of squares values of all variables/ degrees of freedom) i.e \n",
    "# (0.000288 + 0.087836)/2 = 0.044062.\n",
    "# Hence, the F-statistic of model is (0.044062 / 0.001385) = 31.813.\n",
    "# The probability of obtained F-statistic is 7.96*e-08 and is computed as shown below:\n",
    "\n",
    "print(\"\\nF-statistic: \", stats.f.sf(31.81, 2, 27))\n"
   ]
  },
  {
   "cell_type": "code",
   "execution_count": 21,
   "metadata": {},
   "outputs": [
    {
     "name": "stdout",
     "output_type": "stream",
     "text": [
      "   df_resid       ssr  df_diff   ss_diff         F    Pr(>F)\n",
      "0      28.0  0.050009      0.0       NaN       NaN       NaN\n",
      "1      27.0  0.037399      1.0  0.012611  9.104375  0.005506\n"
     ]
    },
    {
     "name": "stderr",
     "output_type": "stream",
     "text": [
      "/Users/smithkakar/anaconda3/envs/ds/lib/python3.7/site-packages/scipy/stats/_distn_infrastructure.py:1932: RuntimeWarning: invalid value encountered in less_equal\n",
      "  cond2 = cond0 & (x <= _a)\n"
     ]
    }
   ],
   "source": [
    "# ANOVA can also be used to compare two nested or related models.\n",
    "# model1 regresses consumption with temperature and model2 with temperature and income.\n",
    "# Below code verifies if the decrease in residuals sum of squares is significant or not.\n",
    "\n",
    "print(anova.anova_lm(model1, model2))\n",
    "# p-value i.e 0.005 from the table suggests the decrease in residual sum of squares in model2, compared to model1 is significant."
   ]
  },
  {
   "cell_type": "markdown",
   "metadata": {},
   "source": [
    "#### Notes\n",
    "    \n",
    "    The chi-square test is one of the most commonly used tests to do the goodness of fit tests and is used for discrete distributions like the binomial distribution and the Poisson distribution, whereas The Kolmogorov-Smirnov and Anderson-Darling goodness of fit tests are used for continuous distributions.\n",
    "    \n",
    "    Which function is used to test non-correlation between two variables? \n",
    "        - scipy.stats.pearsonr(x, y)"
   ]
  }
 ],
 "metadata": {
  "kernelspec": {
   "display_name": "Python 3",
   "language": "python",
   "name": "python3"
  },
  "language_info": {
   "codemirror_mode": {
    "name": "ipython",
    "version": 3
   },
   "file_extension": ".py",
   "mimetype": "text/x-python",
   "name": "python",
   "nbconvert_exporter": "python",
   "pygments_lexer": "ipython3",
   "version": "3.7.10"
  }
 },
 "nbformat": 4,
 "nbformat_minor": 4
}
