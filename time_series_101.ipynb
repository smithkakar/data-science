{
 "cells": [
  {
   "cell_type": "markdown",
   "metadata": {},
   "source": [
    "### Time Series \n",
    "\n",
    "- Values are indexed by time\n",
    "- Observations captured in constant time intervals\n",
    "    \n",
    "#### Uniqueness of Time Series\n",
    "\n",
    "The **same data** is captured over a **series of time intervals** and the models are also a bit **unique** to the data.\n",
    "\n",
    "Ideally, when we collect observations, we capture **multiple** data attributes, so we apply **multivariate models** in those situations.\n",
    "\n",
    "For time series data, the date-time attribute is the index. Date as an index provides flexibility to aggregate and disintegrate our data based on any time step."
   ]
  },
  {
   "cell_type": "code",
   "execution_count": 1,
   "metadata": {},
   "outputs": [],
   "source": [
    "import numpy as np\n",
    "import pandas as pd\n",
    "import matplotlib"
   ]
  },
  {
   "cell_type": "code",
   "execution_count": 2,
   "metadata": {},
   "outputs": [
    {
     "name": "stdout",
     "output_type": "stream",
     "text": [
      "2020-01-01    1.624345\n",
      "2020-01-02   -0.611756\n",
      "2020-01-03   -0.528172\n",
      "dtype: float64\n",
      "DatetimeIndex(['2020-01-01', '2020-01-02', '2020-01-03'], dtype='datetime64[ns]', freq=None)\n"
     ]
    }
   ],
   "source": [
    "np.random.seed(1)\n",
    "date = [pd.Timestamp(\"2020-01-01\"),\n",
    "        pd.Timestamp(\"2020-01-02\"),\n",
    "        pd.Timestamp(\"2020-01-03\")]\n",
    "timeSeries = pd.Series(np.random.randn(len(date)), index=date)\n",
    "print(timeSeries)\n",
    "print(timeSeries.index)"
   ]
  },
  {
   "cell_type": "code",
   "execution_count": 3,
   "metadata": {},
   "outputs": [
    {
     "data": {
      "text/plain": [
       "1.6243453636632417"
      ]
     },
     "execution_count": 3,
     "metadata": {},
     "output_type": "execute_result"
    }
   ],
   "source": [
    "timeSeries['2020-01-01']"
   ]
  },
  {
   "cell_type": "code",
   "execution_count": 4,
   "metadata": {},
   "outputs": [
    {
     "data": {
      "text/plain": [
       "2020-01-01    1.624345\n",
       "2020-01-02   -0.611756\n",
       "2020-01-03   -0.528172\n",
       "dtype: float64"
      ]
     },
     "execution_count": 4,
     "metadata": {},
     "output_type": "execute_result"
    }
   ],
   "source": [
    "timeSeries['2020-01-01':'2020-01-03']"
   ]
  },
  {
   "cell_type": "markdown",
   "metadata": {},
   "source": [
    "#### Generate Date Range (when the date values are missing)"
   ]
  },
  {
   "cell_type": "code",
   "execution_count": 5,
   "metadata": {},
   "outputs": [
    {
     "data": {
      "text/plain": [
       "DatetimeIndex(['2020-01-01', '2020-01-02', '2020-01-03', '2020-01-06',\n",
       "               '2020-01-07', '2020-01-08', '2020-01-09', '2020-01-10',\n",
       "               '2020-01-13', '2020-01-14', '2020-01-15'],\n",
       "              dtype='datetime64[ns]', freq='B')"
      ]
     },
     "execution_count": 5,
     "metadata": {},
     "output_type": "execute_result"
    }
   ],
   "source": [
    "# freq='B' implies business days\n",
    "pd.date_range(start='2020-01-01', end='2020-01-15', freq='B')"
   ]
  },
  {
   "cell_type": "markdown",
   "metadata": {},
   "source": [
    "#### Generate Date Range in Time Intervals\n",
    "\n",
    "Ref: https://pandas.pydata.org/pandas-docs/stable/user_guide/timeseries.html"
   ]
  },
  {
   "cell_type": "code",
   "execution_count": 6,
   "metadata": {},
   "outputs": [
    {
     "data": {
      "text/plain": [
       "DatetimeIndex(['2020-01-01 00:00:00', '2020-01-01 01:00:00',\n",
       "               '2020-01-01 02:00:00'],\n",
       "              dtype='datetime64[ns]', freq='H')"
      ]
     },
     "execution_count": 6,
     "metadata": {},
     "output_type": "execute_result"
    }
   ],
   "source": [
    "# Hourly Basis\n",
    "pd.date_range(start=\"2020-01-01\", periods=3, freq='H')"
   ]
  },
  {
   "cell_type": "code",
   "execution_count": 7,
   "metadata": {},
   "outputs": [
    {
     "data": {
      "text/plain": [
       "DatetimeIndex(['2020-01-01 00:00:00', '2020-01-01 00:01:00',\n",
       "               '2020-01-01 00:02:00'],\n",
       "              dtype='datetime64[ns]', freq='T')"
      ]
     },
     "execution_count": 7,
     "metadata": {},
     "output_type": "execute_result"
    }
   ],
   "source": [
    "# By Minutes \n",
    "pd.date_range(start=\"2020-01-01\", periods=3, freq='T')"
   ]
  },
  {
   "cell_type": "code",
   "execution_count": 8,
   "metadata": {},
   "outputs": [
    {
     "data": {
      "text/plain": [
       "DatetimeIndex(['2020-01-01 00:00:00', '2020-01-01 00:00:01',\n",
       "               '2020-01-01 00:00:02'],\n",
       "              dtype='datetime64[ns]', freq='S')"
      ]
     },
     "execution_count": 8,
     "metadata": {},
     "output_type": "execute_result"
    }
   ],
   "source": [
    "# By Seconds\n",
    "pd.date_range(start=\"2020-01-01\", periods=3, freq='S')"
   ]
  },
  {
   "cell_type": "code",
   "execution_count": 9,
   "metadata": {},
   "outputs": [
    {
     "data": {
      "text/plain": [
       "DatetimeIndex(['2020-01-01 00:00:00', '2020-01-02 05:10:20',\n",
       "               '2020-01-03 10:20:40', '2020-01-04 15:31:00',\n",
       "               '2020-01-05 20:41:20'],\n",
       "              dtype='datetime64[ns]', freq='105020S')"
      ]
     },
     "execution_count": 9,
     "metadata": {},
     "output_type": "execute_result"
    }
   ],
   "source": [
    "# Generate date-time values that are 1 day 5 hour 10 min 20 sec apart\n",
    "pd.date_range(start=\"2020-01-01\", periods=5, freq='1D5h10min20s')"
   ]
  },
  {
   "cell_type": "code",
   "execution_count": 10,
   "metadata": {},
   "outputs": [
    {
     "data": {
      "text/plain": [
       "DatetimeIndex(['2020-01-01', '2020-01-08', '2020-01-15', '2020-01-22',\n",
       "               '2020-01-29'],\n",
       "              dtype='datetime64[ns]', freq='W-WED')"
      ]
     },
     "execution_count": 10,
     "metadata": {},
     "output_type": "execute_result"
    }
   ],
   "source": [
    "# Every Wednesday \n",
    "# W means week\n",
    "pd.date_range(start=\"2020-01-01\", periods=5, freq='W-WED')"
   ]
  },
  {
   "cell_type": "markdown",
   "metadata": {},
   "source": [
    "#### Combining Indexes"
   ]
  },
  {
   "cell_type": "code",
   "execution_count": 11,
   "metadata": {},
   "outputs": [
    {
     "data": {
      "text/plain": [
       "DatetimeIndex(['2020-01-01', '2021-01-01', '2022-01-03', '2023-01-02',\n",
       "               '2024-01-01', '2025-01-01', '2026-01-01', '2027-01-01',\n",
       "               '2028-01-03', '2029-01-01'],\n",
       "              dtype='datetime64[ns]', freq='BAS-JAN')"
      ]
     },
     "execution_count": 11,
     "metadata": {},
     "output_type": "execute_result"
    }
   ],
   "source": [
    "# BAS - business year start frequency\n",
    "a = pd.date_range(start=\"2020-01-01\", periods=10, freq='BAS-JAN')\n",
    "a"
   ]
  },
  {
   "cell_type": "code",
   "execution_count": 12,
   "metadata": {},
   "outputs": [
    {
     "data": {
      "text/plain": [
       "DatetimeIndex(['2020-02-29', '2021-02-28', '2022-02-28', '2023-02-28',\n",
       "               '2024-02-29', '2025-02-28', '2026-02-28', '2027-02-28',\n",
       "               '2028-02-29', '2029-02-28'],\n",
       "              dtype='datetime64[ns]', freq='A-FEB')"
      ]
     },
     "execution_count": 12,
     "metadata": {},
     "output_type": "execute_result"
    }
   ],
   "source": [
    "# A - year end frequency\n",
    "b = pd.date_range(start=\"2020-01-01\", periods=10, freq='A-FEB')\n",
    "b"
   ]
  },
  {
   "cell_type": "code",
   "execution_count": 13,
   "metadata": {
    "scrolled": true
   },
   "outputs": [
    {
     "data": {
      "text/plain": [
       "DatetimeIndex(['2020-01-01', '2020-02-29', '2021-01-01', '2021-02-28',\n",
       "               '2022-01-03', '2022-02-28', '2023-01-02', '2023-02-28',\n",
       "               '2024-01-01', '2024-02-29', '2025-01-01', '2025-02-28',\n",
       "               '2026-01-01', '2026-02-28', '2027-01-01', '2027-02-28',\n",
       "               '2028-01-03', '2028-02-29', '2029-01-01', '2029-02-28'],\n",
       "              dtype='datetime64[ns]', freq=None)"
      ]
     },
     "execution_count": 13,
     "metadata": {},
     "output_type": "execute_result"
    }
   ],
   "source": [
    "a.union(b)"
   ]
  },
  {
   "cell_type": "markdown",
   "metadata": {},
   "source": [
    "### Resampling Time Series\n",
    "\n",
    "**Why?** - The collected time series data might not always be at uniform intervals. To study them, they have to be confined to regular time intervals.\n",
    "\n",
    "Resampling is the process of converting our time series data from a given frequency to the desired frequency.\n",
    "\n",
    "- Upsampling is converting the data from a low frequency to a high frequency.\n",
    "- Downsampling is converting the data from a high frequency to a low frequency."
   ]
  },
  {
   "cell_type": "code",
   "execution_count": 14,
   "metadata": {},
   "outputs": [
    {
     "data": {
      "text/plain": [
       "2020-01-01 09:00:00     9\n",
       "2020-01-01 09:01:00    15\n",
       "2020-01-01 09:02:00    64\n",
       "2020-01-01 09:03:00    28\n",
       "2020-01-01 09:04:00    89\n",
       "2020-01-01 09:05:00    93\n",
       "2020-01-01 09:06:00    29\n",
       "2020-01-01 09:07:00     8\n",
       "2020-01-01 09:08:00    73\n",
       "2020-01-01 09:09:00     0\n",
       "Freq: T, dtype: int64"
      ]
     },
     "execution_count": 14,
     "metadata": {},
     "output_type": "execute_result"
    }
   ],
   "source": [
    "# Example: Customers are visiting a supermarket.\n",
    "# Goal: Study customer incidence pattern at different time steps.\n",
    "np.random.seed(10)\n",
    "customerArrival = pd.date_range('01/01/2020 9:00', periods=600, freq='T')\n",
    "custArrivalTs = pd.Series(np.random.randint(0, 100, len(customerArrival)), index=customerArrival)\n",
    "custArrivalTs.head(10)"
   ]
  },
  {
   "cell_type": "code",
   "execution_count": 15,
   "metadata": {},
   "outputs": [
    {
     "data": {
      "text/plain": [
       "2020-01-01 09:00:00    40.8\n",
       "2020-01-01 09:10:00    49.0\n",
       "2020-01-01 09:20:00    52.9\n",
       "2020-01-01 09:30:00    39.5\n",
       "2020-01-01 09:40:00    51.9\n",
       "Freq: 10T, dtype: float64"
      ]
     },
     "execution_count": 15,
     "metadata": {},
     "output_type": "execute_result"
    }
   ],
   "source": [
    "# Downsample time-series data to get the mean customer incidence every 10 minutes\n",
    "# Default aggregation is arithmetic mean\n",
    "custArrivalTs.resample('10min').mean().head()"
   ]
  },
  {
   "cell_type": "code",
   "execution_count": 16,
   "metadata": {},
   "outputs": [
    {
     "data": {
      "text/plain": [
       "2020-01-01 09:00:00    408\n",
       "2020-01-01 09:10:00    490\n",
       "2020-01-01 09:20:00    529\n",
       "2020-01-01 09:30:00    395\n",
       "2020-01-01 09:40:00    519\n",
       "Freq: 10T, dtype: int64"
      ]
     },
     "execution_count": 16,
     "metadata": {},
     "output_type": "execute_result"
    }
   ],
   "source": [
    "custArrivalTs.resample('10min').sum().head()"
   ]
  },
  {
   "cell_type": "code",
   "execution_count": 17,
   "metadata": {},
   "outputs": [
    {
     "data": {
      "text/plain": [
       "2020-01-01 09:00:00    94\n",
       "2020-01-01 10:00:00    97\n",
       "2020-01-01 11:00:00    99\n",
       "2020-01-01 12:00:00    94\n",
       "2020-01-01 13:00:00    97\n",
       "Freq: H, dtype: int64"
      ]
     },
     "execution_count": 17,
     "metadata": {},
     "output_type": "execute_result"
    }
   ],
   "source": [
    "# Max. customer incidence at a given hour\n",
    "custArrivalTs.resample('1h').max().head()"
   ]
  },
  {
   "cell_type": "code",
   "execution_count": 18,
   "metadata": {},
   "outputs": [
    {
     "data": {
      "text/plain": [
       "2020-01-01 09:00:00    30\n",
       "2020-01-01 10:00:00    50\n",
       "2020-01-01 11:00:00    13\n",
       "2020-01-01 12:00:00    86\n",
       "2020-01-01 13:00:00    17\n",
       "Freq: H, dtype: int64"
      ]
     },
     "execution_count": 18,
     "metadata": {},
     "output_type": "execute_result"
    }
   ],
   "source": [
    "import random\n",
    "custArrivalTs.resample('1h').apply(lambda m: random.choice(m)).head()"
   ]
  },
  {
   "cell_type": "markdown",
   "metadata": {},
   "source": [
    "### Scenario: Finance Data Analysis"
   ]
  },
  {
   "cell_type": "code",
   "execution_count": 19,
   "metadata": {},
   "outputs": [
    {
     "data": {
      "text/html": [
       "<div>\n",
       "<style scoped>\n",
       "    .dataframe tbody tr th:only-of-type {\n",
       "        vertical-align: middle;\n",
       "    }\n",
       "\n",
       "    .dataframe tbody tr th {\n",
       "        vertical-align: top;\n",
       "    }\n",
       "\n",
       "    .dataframe thead th {\n",
       "        text-align: right;\n",
       "    }\n",
       "</style>\n",
       "<table border=\"1\" class=\"dataframe\">\n",
       "  <thead>\n",
       "    <tr style=\"text-align: right;\">\n",
       "      <th></th>\n",
       "      <th>open</th>\n",
       "      <th>high</th>\n",
       "      <th>low</th>\n",
       "      <th>close</th>\n",
       "    </tr>\n",
       "  </thead>\n",
       "  <tbody>\n",
       "    <tr>\n",
       "      <th>2020-01-01 09:00:00</th>\n",
       "      <td>9</td>\n",
       "      <td>94</td>\n",
       "      <td>0</td>\n",
       "      <td>75</td>\n",
       "    </tr>\n",
       "    <tr>\n",
       "      <th>2020-01-01 10:00:00</th>\n",
       "      <td>28</td>\n",
       "      <td>97</td>\n",
       "      <td>0</td>\n",
       "      <td>12</td>\n",
       "    </tr>\n",
       "    <tr>\n",
       "      <th>2020-01-01 11:00:00</th>\n",
       "      <td>30</td>\n",
       "      <td>99</td>\n",
       "      <td>0</td>\n",
       "      <td>22</td>\n",
       "    </tr>\n",
       "    <tr>\n",
       "      <th>2020-01-01 12:00:00</th>\n",
       "      <td>32</td>\n",
       "      <td>94</td>\n",
       "      <td>0</td>\n",
       "      <td>38</td>\n",
       "    </tr>\n",
       "    <tr>\n",
       "      <th>2020-01-01 13:00:00</th>\n",
       "      <td>20</td>\n",
       "      <td>97</td>\n",
       "      <td>0</td>\n",
       "      <td>67</td>\n",
       "    </tr>\n",
       "  </tbody>\n",
       "</table>\n",
       "</div>"
      ],
      "text/plain": [
       "                     open  high  low  close\n",
       "2020-01-01 09:00:00     9    94    0     75\n",
       "2020-01-01 10:00:00    28    97    0     12\n",
       "2020-01-01 11:00:00    30    99    0     22\n",
       "2020-01-01 12:00:00    32    94    0     38\n",
       "2020-01-01 13:00:00    20    97    0     67"
      ]
     },
     "execution_count": 19,
     "metadata": {},
     "output_type": "execute_result"
    }
   ],
   "source": [
    "# OHLC - Open High Low Close Chart\n",
    "custArrivalTs.resample('1h').ohlc().head()"
   ]
  },
  {
   "cell_type": "code",
   "execution_count": 20,
   "metadata": {},
   "outputs": [
    {
     "name": "stdout",
     "output_type": "stream",
     "text": [
      "2020-01-01 08:00:00     9\n",
      "2020-01-01 09:00:00    15\n",
      "2020-01-01 10:00:00    64\n",
      "2020-01-01 11:00:00    28\n",
      "2020-01-01 12:00:00    89\n",
      "2020-01-01 13:00:00    93\n",
      "2020-01-01 14:00:00    29\n",
      "2020-01-01 15:00:00     8\n",
      "2020-01-01 16:00:00    73\n",
      "2020-01-01 17:00:00     0\n",
      "Freq: H, dtype: int64\n"
     ]
    }
   ],
   "source": [
    "np.random.seed(10)\n",
    "sampleRng = pd.date_range('01/01/2020 8:00', periods=10, freq='H')\n",
    "sampleTs = pd.Series(np.random.randint(0, 100, len(sampleRng)), index=sampleRng)\n",
    "print(sampleTs)"
   ]
  },
  {
   "cell_type": "code",
   "execution_count": 21,
   "metadata": {},
   "outputs": [
    {
     "data": {
      "text/plain": [
       "2020-01-01 08:00:00     9.0\n",
       "2020-01-01 08:15:00     NaN\n",
       "2020-01-01 08:30:00     NaN\n",
       "2020-01-01 08:45:00     NaN\n",
       "2020-01-01 09:00:00    15.0\n",
       "2020-01-01 09:15:00     NaN\n",
       "2020-01-01 09:30:00     NaN\n",
       "2020-01-01 09:45:00     NaN\n",
       "2020-01-01 10:00:00    64.0\n",
       "2020-01-01 10:15:00     NaN\n",
       "Freq: 15T, dtype: float64"
      ]
     },
     "execution_count": 21,
     "metadata": {},
     "output_type": "execute_result"
    }
   ],
   "source": [
    "sampleTs.resample('15min').mean().head(10)"
   ]
  },
  {
   "cell_type": "markdown",
   "metadata": {},
   "source": [
    "#### How to resolve NaN issues in above example?\n",
    "\n",
    "Use **Forward** or **Backward** filling to fill missing values."
   ]
  },
  {
   "cell_type": "code",
   "execution_count": 22,
   "metadata": {},
   "outputs": [
    {
     "data": {
      "text/plain": [
       "2020-01-01 08:00:00     9\n",
       "2020-01-01 08:15:00     9\n",
       "2020-01-01 08:30:00     9\n",
       "2020-01-01 08:45:00     9\n",
       "2020-01-01 09:00:00    15\n",
       "2020-01-01 09:15:00    15\n",
       "2020-01-01 09:30:00    15\n",
       "2020-01-01 09:45:00    15\n",
       "2020-01-01 10:00:00    64\n",
       "2020-01-01 10:15:00    64\n",
       "Freq: 15T, dtype: int64"
      ]
     },
     "execution_count": 22,
     "metadata": {},
     "output_type": "execute_result"
    }
   ],
   "source": [
    "# Forward Filling\n",
    "sampleTs.resample('15min').ffill().head(10)"
   ]
  },
  {
   "cell_type": "code",
   "execution_count": 23,
   "metadata": {},
   "outputs": [
    {
     "data": {
      "text/plain": [
       "2020-01-01 08:00:00     9\n",
       "2020-01-01 08:15:00    15\n",
       "2020-01-01 08:30:00    15\n",
       "2020-01-01 08:45:00    15\n",
       "2020-01-01 09:00:00    15\n",
       "2020-01-01 09:15:00    64\n",
       "2020-01-01 09:30:00    64\n",
       "2020-01-01 09:45:00    64\n",
       "2020-01-01 10:00:00    64\n",
       "2020-01-01 10:15:00    28\n",
       "Freq: 15T, dtype: int64"
      ]
     },
     "execution_count": 23,
     "metadata": {},
     "output_type": "execute_result"
    }
   ],
   "source": [
    "# Backward filling\n",
    "sampleTs.resample('15min').bfill().head(10)"
   ]
  },
  {
   "cell_type": "code",
   "execution_count": 24,
   "metadata": {},
   "outputs": [
    {
     "data": {
      "text/plain": [
       "2020-01-01 08:00:00     9.0\n",
       "2020-01-01 08:15:00     9.0\n",
       "2020-01-01 08:30:00     9.0\n",
       "2020-01-01 08:45:00     NaN\n",
       "2020-01-01 09:00:00    15.0\n",
       "2020-01-01 09:15:00    15.0\n",
       "2020-01-01 09:30:00    15.0\n",
       "2020-01-01 09:45:00     NaN\n",
       "2020-01-01 10:00:00    64.0\n",
       "2020-01-01 10:15:00    64.0\n",
       "Freq: 15T, dtype: float64"
      ]
     },
     "execution_count": 24,
     "metadata": {},
     "output_type": "execute_result"
    }
   ],
   "source": [
    "# Forward Filling with Limited Values\n",
    "sampleTs.resample('15min').ffill(limit=2).head(10)"
   ]
  },
  {
   "cell_type": "markdown",
   "metadata": {},
   "source": [
    "Forward or Backward filling might not be accurate. The better approach would be to get **more accurate insights** from time-series data itself using **interpolation**."
   ]
  },
  {
   "cell_type": "code",
   "execution_count": 25,
   "metadata": {},
   "outputs": [
    {
     "name": "stdout",
     "output_type": "stream",
     "text": [
      "2020-01-01 08:00:00     9.0\n",
      "2020-01-01 08:15:00     NaN\n",
      "2020-01-01 08:30:00     NaN\n",
      "2020-01-01 08:45:00     NaN\n",
      "2020-01-01 09:00:00    15.0\n",
      "2020-01-01 09:15:00     NaN\n",
      "2020-01-01 09:30:00     NaN\n",
      "2020-01-01 09:45:00     NaN\n",
      "2020-01-01 10:00:00    64.0\n",
      "2020-01-01 10:15:00     NaN\n",
      "Freq: 15T, dtype: float64\n",
      "2020-01-01 08:00:00     9.00\n",
      "2020-01-01 08:15:00    10.50\n",
      "2020-01-01 08:30:00    12.00\n",
      "2020-01-01 08:45:00    13.50\n",
      "2020-01-01 09:00:00    15.00\n",
      "2020-01-01 09:15:00    27.25\n",
      "2020-01-01 09:30:00    39.50\n",
      "2020-01-01 09:45:00    51.75\n",
      "2020-01-01 10:00:00    64.00\n",
      "2020-01-01 10:15:00    55.00\n",
      "Freq: 15T, dtype: float64\n"
     ]
    }
   ],
   "source": [
    "interEx = sampleTs.resample('15min').mean()\n",
    "print(interEx.head(10))\n",
    "print(interEx.interpolate().head(10))"
   ]
  },
  {
   "cell_type": "markdown",
   "metadata": {},
   "source": [
    "### Time Zones"
   ]
  },
  {
   "cell_type": "code",
   "execution_count": 26,
   "metadata": {},
   "outputs": [
    {
     "data": {
      "text/plain": [
       "['US/Eastern', 'US/Hawaii', 'US/Mountain', 'US/Pacific', 'UTC']"
      ]
     },
     "execution_count": 26,
     "metadata": {},
     "output_type": "execute_result"
    }
   ],
   "source": [
    "import pytz \n",
    "pytz.common_timezones[-5:]"
   ]
  },
  {
   "cell_type": "markdown",
   "metadata": {},
   "source": [
    "Note: UTC is the coordinated universal timezone."
   ]
  },
  {
   "cell_type": "code",
   "execution_count": 27,
   "metadata": {},
   "outputs": [
    {
     "data": {
      "text/plain": [
       "<DstTzInfo 'US/Central' LMT-1 day, 18:09:00 STD>"
      ]
     },
     "execution_count": 27,
     "metadata": {},
     "output_type": "execute_result"
    }
   ],
   "source": [
    "usEastTz = pytz.timezone('US/Central')\n",
    "usEastTz"
   ]
  },
  {
   "cell_type": "markdown",
   "metadata": {},
   "source": [
    "Localization is the first step towards standardizing the time zone. Any specific time stamp is first localized to a given time zone."
   ]
  },
  {
   "cell_type": "code",
   "execution_count": 28,
   "metadata": {},
   "outputs": [
    {
     "name": "stdout",
     "output_type": "stream",
     "text": [
      "Timezone: UTC\n",
      "2020-01-01 09:30:00+00:00    1.331587\n",
      "2020-01-02 09:30:00+00:00    0.715279\n",
      "2020-01-03 09:30:00+00:00   -1.545400\n",
      "2020-01-04 09:30:00+00:00   -0.008384\n",
      "2020-01-05 09:30:00+00:00    0.621336\n",
      "2020-01-06 09:30:00+00:00   -0.720086\n",
      "Freq: D, dtype: float64\n"
     ]
    }
   ],
   "source": [
    "# Parameter tz is used for localization. Alternatively, use tz_localize() fn.\n",
    "\n",
    "np.random.seed(10)\n",
    "timeZoneRng = pd.date_range('01/01/2020 09:30', periods=6, freq='D', tz='UTC')\n",
    "timeZoneTs = pd.Series(np.random.randn(len(timeZoneRng)), index=timeZoneRng)\n",
    "print(\"Timezone: {}\".format(timeZoneTs.index.tz))\n",
    "print(timeZoneTs)"
   ]
  },
  {
   "cell_type": "code",
   "execution_count": 29,
   "metadata": {},
   "outputs": [
    {
     "data": {
      "text/plain": [
       "2020-01-01 04:30:00-05:00    1.331587\n",
       "2020-01-02 04:30:00-05:00    0.715279\n",
       "2020-01-03 04:30:00-05:00   -1.545400\n",
       "2020-01-04 04:30:00-05:00   -0.008384\n",
       "2020-01-05 04:30:00-05:00    0.621336\n",
       "2020-01-06 04:30:00-05:00   -0.720086\n",
       "Freq: D, dtype: float64"
      ]
     },
     "execution_count": 29,
     "metadata": {},
     "output_type": "execute_result"
    }
   ],
   "source": [
    "timeZoneTs.tz_convert('US/Eastern')"
   ]
  },
  {
   "cell_type": "code",
   "execution_count": 30,
   "metadata": {},
   "outputs": [
    {
     "name": "stdout",
     "output_type": "stream",
     "text": [
      "2020-04-01 04:00:00\n",
      "None\n",
      "2020-04-01 04:00:00+00:00\n",
      "2020-04-01 04:00:00+00:00\n",
      "2020-04-01 00:00:00-04:00\n",
      "2020-04-01 00:00:00-04:00\n"
     ]
    }
   ],
   "source": [
    "sampleTimeStamp =  pd.Timestamp('2020-04-01 04:00')\n",
    "print(sampleTimeStamp)\n",
    "print(sampleTimeStamp.tz)\n",
    "timeStamp_utc = sampleTimeStamp.tz_localize('UTC')\n",
    "print(timeStamp_utc)\n",
    "print(pd.Timestamp('2020-04-01 04:00:00+0000', tz='UTC'))\n",
    "print(timeStamp_utc.tz_convert('US/Eastern'))\n",
    "print(pd.Timestamp('2020-04-01 00:00:00-0400', tz='US/Eastern'))"
   ]
  },
  {
   "cell_type": "markdown",
   "metadata": {},
   "source": [
    "#### Daylight Savings\n",
    "\n",
    "To offset the time based on Daylight Savings, we can use the **DateOffset()** function."
   ]
  },
  {
   "cell_type": "code",
   "execution_count": 31,
   "metadata": {},
   "outputs": [
    {
     "name": "stdout",
     "output_type": "stream",
     "text": [
      "2012-03-12 01:30:00-04:00\n",
      "2012-03-12 02:30:00-04:00\n",
      "2012-11-04 00:30:00-04:00\n",
      "2012-11-04 01:30:00-05:00\n"
     ]
    }
   ],
   "source": [
    "from pandas.tseries.offsets import Hour\n",
    "# 30 minutes before DST transition\n",
    "# Transition happens at 2:00 A.M.\n",
    "stamp = pd.Timestamp('2012-03-12 01:30', tz='US/Eastern')\n",
    "print(stamp)\n",
    "print(stamp + Hour())\n",
    "# 90 minutes before DST transition\n",
    "stamp = pd.Timestamp('2012-11-04 00:30', tz='US/Eastern')\n",
    "print(stamp)\n",
    "print(stamp + 2 * Hour())"
   ]
  },
  {
   "cell_type": "markdown",
   "metadata": {},
   "source": [
    "### Plotting the Time-Series"
   ]
  },
  {
   "cell_type": "code",
   "execution_count": 32,
   "metadata": {},
   "outputs": [
    {
     "name": "stdout",
     "output_type": "stream",
     "text": [
      "2020-01-01   -7\n",
      "2020-02-01   -2\n",
      "2020-03-01   -3\n",
      "2020-04-01   -2\n",
      "2020-05-01   -5\n",
      "Freq: MS, dtype: int64\n"
     ]
    },
    {
     "data": {
      "text/plain": [
       "<matplotlib.axes._subplots.AxesSubplot at 0x7ff1b9a16b50>"
      ]
     },
     "execution_count": 32,
     "metadata": {},
     "output_type": "execute_result"
    },
    {
     "data": {
      "image/png": "[encoded data removed]",
      "text/plain": [
       "<Figure size 432x288 with 1 Axes>"
      ]
     },
     "metadata": {
      "needs_background": "light"
     },
     "output_type": "display_data"
    }
   ],
   "source": [
    "%matplotlib inline \n",
    "np.random.seed(20)\n",
    "sampleRng = pd.date_range(start='2020', periods=120, freq='MS')\n",
    "sampleTs = pd.Series(np.random.randint(-10, 10, size=len(sampleRng)), sampleRng).cumsum()\n",
    "print(sampleTs.head())\n",
    "sampleTs.plot(c='r', title='Sample Time Series')"
   ]
  },
  {
   "cell_type": "code",
   "execution_count": 33,
   "metadata": {},
   "outputs": [
    {
     "data": {
      "text/plain": [
       "2020-12-31    AxesSubplot(0.125,0.125;0.775x0.755)\n",
       "2022-12-31    AxesSubplot(0.125,0.125;0.775x0.755)\n",
       "2024-12-31    AxesSubplot(0.125,0.125;0.775x0.755)\n",
       "2026-12-31    AxesSubplot(0.125,0.125;0.775x0.755)\n",
       "2028-12-31    AxesSubplot(0.125,0.125;0.775x0.755)\n",
       "2030-12-31    AxesSubplot(0.125,0.125;0.775x0.755)\n",
       "Freq: 2A-DEC, dtype: object"
      ]
     },
     "execution_count": 33,
     "metadata": {},
     "output_type": "execute_result"
    },
    {
     "data": {
      "image/png": "[encoded data removed]",
      "text/plain": [
       "<Figure size 432x288 with 1 Axes>"
      ]
     },
     "metadata": {
      "needs_background": "light"
     },
     "output_type": "display_data"
    }
   ],
   "source": [
    "# Resample the time-series annually\n",
    "sampleTs.resample('2A').plot(c='b', ls='--')"
   ]
  },
  {
   "cell_type": "code",
   "execution_count": 34,
   "metadata": {},
   "outputs": [
    {
     "data": {
      "text/plain": [
       "2020-12-31    AxesSubplot(0.125,0.125;0.775x0.755)\n",
       "2025-12-31    AxesSubplot(0.125,0.125;0.775x0.755)\n",
       "2030-12-31    AxesSubplot(0.125,0.125;0.775x0.755)\n",
       "Freq: 5A-DEC, dtype: object"
      ]
     },
     "execution_count": 34,
     "metadata": {},
     "output_type": "execute_result"
    },
    {
     "data": {
      "image/png": "[encoded data removed]",
      "text/plain": [
       "<Figure size 432x288 with 1 Axes>"
      ]
     },
     "metadata": {
      "needs_background": "light"
     },
     "output_type": "display_data"
    }
   ],
   "source": [
    "sampleTs.resample('5A').plot(c='g', ls='-.')"
   ]
  },
  {
   "cell_type": "markdown",
   "metadata": {},
   "source": [
    "#### TODO: Plot the above plots in one single plot."
   ]
  },
  {
   "cell_type": "code",
   "execution_count": null,
   "metadata": {},
   "outputs": [],
   "source": []
  },
  {
   "cell_type": "markdown",
   "metadata": {},
   "source": [
    "#### Lag Plot\n",
    "\n",
    "- The Lag Plot is a very important and useful visualization for Time Series data.\n",
    "- Time Series is a Univariate data.\n",
    "\n",
    "    In the lag plot, we plot the actual data against the data with a time lag. This helps in determining how the current data is predicting the future data."
   ]
  },
  {
   "cell_type": "code",
   "execution_count": 35,
   "metadata": {},
   "outputs": [
    {
     "data": {
      "text/plain": [
       "<matplotlib.axes._subplots.AxesSubplot at 0x7ff1b9826850>"
      ]
     },
     "execution_count": 35,
     "metadata": {},
     "output_type": "execute_result"
    },
    {
     "data": {
      "image/png": "[encoded data removed]",
      "text/plain": [
       "<Figure size 432x288 with 1 Axes>"
      ]
     },
     "metadata": {
      "needs_background": "light"
     },
     "output_type": "display_data"
    }
   ],
   "source": [
    "from pandas.plotting import lag_plot\n",
    "lag_plot(sampleTs)"
   ]
  },
  {
   "cell_type": "markdown",
   "metadata": {},
   "source": [
    "#### Auto Correlation Plot\n",
    "\n",
    "    In the lag plot, we have just seen how the data is scattered when plotted against the one-time lag.\n",
    "\n",
    "    Auto Correlation refers to correlating the data with itself. Here, we are correlating the data with a one-time lag.\n",
    "\n",
    "    The plot gives a more accurate picture of how the data point is correlated among themselves."
   ]
  },
  {
   "cell_type": "code",
   "execution_count": 36,
   "metadata": {},
   "outputs": [
    {
     "data": {
      "text/plain": [
       "<matplotlib.axes._subplots.AxesSubplot at 0x7ff1b9efea90>"
      ]
     },
     "execution_count": 36,
     "metadata": {},
     "output_type": "execute_result"
    },
    {
     "data": {
      "image/png": "[encoded data removed]",
      "text/plain": [
       "<Figure size 432x288 with 1 Axes>"
      ]
     },
     "metadata": {
      "needs_background": "light"
     },
     "output_type": "display_data"
    }
   ],
   "source": [
    "from pandas.plotting import autocorrelation_plot\n",
    "autocorrelation_plot(sampleTs)"
   ]
  },
  {
   "cell_type": "markdown",
   "metadata": {},
   "source": [
    "#### Note: When the autocorrelation plot shows an exponential behavior, the time series is stationary."
   ]
  },
  {
   "cell_type": "markdown",
   "metadata": {},
   "source": [
    "**Stationarity**\n",
    "\n",
    "- Stationarity is a very significant property in Time Series Analysis. In Time series, data is collected at different time intervals. The data might behave in a deterministic or stochastic nature.\n",
    "- Models can be applied only when your data is deterministic. If the nature of the data is **stochastic**, then the model results will **not be interpretable**. Hence we have to check this property before applying the model.\n",
    "\n",
    "**What is Stationarity?**\n",
    "\n",
    "- In statistical terms, the mean, variance and the temporal correlation remain constant over time.\n",
    "- A simpler definition is that there are no seasonal or trend components in the time series.\n",
    "\n",
    "**How to Check for Stationarity?**\n",
    "\n",
    "- Data Visualization: You can look at your data and see if there are any trends or patterns. This is a very crude approach.\n",
    "- Summary Statistics: You can take some summary statistics at different time intervals and see how the data behaves.\n",
    "- Statistical Tests: You can apply certain specific statistical tests and check if your time series supports stationarity property.\n",
    "\n",
    "**Augmented Dickey-Fuller test**\n",
    "\n",
    "- ADF test is the best way to determine if the time series data is stationary or not.\n",
    "- This kind of test is known as Unit Root Test.\n",
    "- The main objective of this test is that it identifies how the trend component determines the time series.\n",
    "\n",
    "**Statistics Behind ADF Test**\n",
    "\n",
    "- ADF test makes use of an **autoregressive model** and optimizes its criteria across multiple lag values.\n",
    "- The Null Hypothesis supposes that the time series is non-stationary.\n",
    "- The alternate hypothesis is that the time series is stationary.\n",
    "\n",
    "**Interpreting the Results**\n",
    "\n",
    "- Null Hypothesis: H0 - If accepted then the time series data is non-stationary, and it has a unit root.\n",
    "- Alternate Hypothesis: H1 - The null hypothesis is rejected. The time series data is stationary and does not have any unit root.\n",
    "\n",
    "**Results**\n",
    "\n",
    "- p-value > 0.05: Accept the (H0), the data is non-stationary and has a unit root.\n",
    "- p-value <= 0.05: Reject the H0, the data is stationary and does not have a unit root.\n",
    "\n",
    "**Auto Correlation Function**\n",
    "\n",
    "- Another way of determining stationarity is Autocorrelation Function. Here, we find the correlation between two data points that are one time step away.\n",
    "- When you visualize this correlation, you can get insights on the stationarity of the time series.\n",
    "- If the ACF plot is having an exponential decay, it means the time series is stationary.\n",
    "\n",
    "**Interpreting ADF Test Results**\n",
    "\n",
    "- The more negative the ADF statistic value is, the more likely the data is stationary.\n",
    "- The ADF statistic should be compared to critical p-values that are at 1, 5, and 10%.\n",
    "- If the ADF statistic value is less than the critical value at 5% and the p-value is less than 0.05, then we can reject the null hypothesis that the data is non-stationary with 95% confidence level."
   ]
  },
  {
   "cell_type": "code",
   "execution_count": 37,
   "metadata": {},
   "outputs": [
    {
     "name": "stdout",
     "output_type": "stream",
     "text": [
      "(-0.867915592631002, 0.7983546110448015, 4, 115, {'1%': -3.4885349695076844, '5%': -2.887019521656941, '10%': -2.5803597920604915}, 649.5116230296519)\n"
     ]
    }
   ],
   "source": [
    "from statsmodels.tsa.stattools import adfuller\n",
    "tsResult = adfuller(sampleTs)\n",
    "print(tsResult)\n",
    "# Returns:\n",
    "# adffloat - the test statistic.\n",
    "# pvaluefloat - MacKinnon's approximate p-value based on MacKinnon (1994, 2010).\n",
    "# usedlagint - the number of lags used.\n",
    "# nobsint - the number of observations used for the ADF regression and calculation of the critical values.\n",
    "# critical valuesdict - critical values for the test statistic at the 1%, 5%, and 10% levels based on MacKinnon (2010).\n",
    "# icbestfloat - the maximized information criterion if autolag is not None.\n",
    "# resstoreResultStore, optional - a dummy class with results attached as attributes."
   ]
  },
  {
   "cell_type": "code",
   "execution_count": 38,
   "metadata": {},
   "outputs": [
    {
     "name": "stdout",
     "output_type": "stream",
     "text": [
      "ADF Statistic: -0.867916\n",
      "p-value: 0.798355\n",
      "\t1%: -3.489\n",
      "\t5%: -2.887\n",
      "\t10%: -2.580\n"
     ]
    }
   ],
   "source": [
    "print('ADF Statistic: %f' % tsResult[0])\n",
    "print('p-value: %f' % tsResult[1])\n",
    "for key, value in tsResult[4].items():\n",
    "    print('\\t%s: %.3f' % (key, value))"
   ]
  },
  {
   "cell_type": "markdown",
   "metadata": {},
   "source": [
    "The ADF Statistic value is -2.696700. It is negative but greater than the critical value at 5% level.\n",
    "\n",
    "The p-value: 0.074611 and is greater than 0.05, so we accept the null hypothesis, which means the data is non-stationary."
   ]
  },
  {
   "cell_type": "code",
   "execution_count": 39,
   "metadata": {},
   "outputs": [],
   "source": [
    "#! curl http://archive.ics.uci.edu/ml/machine-learning-databases/00312/dow_jones_index.zip > data.zip\n",
    "#! unzip data.zip"
   ]
  },
  {
   "cell_type": "code",
   "execution_count": 40,
   "metadata": {},
   "outputs": [],
   "source": [
    "dataFrame = pd.read_csv('./data/time_series_101/dow_jones_index.data', parse_dates=[\"date\"], index_col=\"date\")"
   ]
  },
  {
   "cell_type": "code",
   "execution_count": 41,
   "metadata": {},
   "outputs": [],
   "source": [
    "closeTS = dataFrame[(dataFrame.stock == 'AA')].close.str.replace('$',' ').astype(float)"
   ]
  },
  {
   "cell_type": "code",
   "execution_count": 42,
   "metadata": {},
   "outputs": [],
   "source": [
    "close_XOM_Ts = dataFrame[(dataFrame.stock == 'XOM')].close.str.replace('$',' ').astype(float)"
   ]
  },
  {
   "cell_type": "code",
   "execution_count": 43,
   "metadata": {},
   "outputs": [
    {
     "name": "stdout",
     "output_type": "stream",
     "text": [
      "ADF Statistic: 0.913251\n",
      "p-value: 0.993261\n",
      "\t1%: -3.964\n",
      "\t5%: -3.085\n",
      "\t10%: -2.682\n"
     ]
    }
   ],
   "source": [
    "tsResult = adfuller(close_XOM_Ts)\n",
    "print('ADF Statistic: %f' % tsResult[0])\n",
    "print('p-value: %f' % tsResult[1])\n",
    "for key, value in tsResult[4].items():\n",
    "    print('\\t%s: %.3f' % (key, value))"
   ]
  },
  {
   "cell_type": "markdown",
   "metadata": {},
   "source": [
    "### Trends and Patterns\n",
    "\n",
    "Time Series data have several components underlying it.\n",
    "\n",
    "    Trend: This component shows the overall series behavior - the slow change of values over time.\n",
    "    Season: This shows the changes that happen in cycles for less than a year.\n",
    "    Cycles: Changes that happen for more than a year.\n",
    "    Random: Anything that is not included in the above three components.\n",
    "\n",
    "The underlying assumption has to be that the time series data is stationary.\n",
    "\n",
    "**Steps in Time Series Analysis**\n",
    "\n",
    "Few steps to be followed while performing time series analysis:\n",
    "\n",
    "- Check for Stationarity.\n",
    "- Decompose the model into its various components.\n",
    "- Analyse the components.\n",
    "- Fit the time series forecasting model and predict future values.\n",
    "    \n",
    "**Time Series Difference**\n",
    "\n",
    "Apart from the decomposing the Time Series, there is another method, we can follow during analysis is the time difference.\n",
    "\n",
    "We take the difference between two time periods. The difference can have a shift of one time period or more. This process also helps in understanding the data better.\n",
    "\n",
    "**Decomposition**\n",
    "\n",
    "In Python, we can use statsmodels package **seasonal_decompose** method for time series decomposing. We can just pass the time series and call the respective decomposing function to get the results."
   ]
  },
  {
   "cell_type": "code",
   "execution_count": 44,
   "metadata": {},
   "outputs": [],
   "source": [
    "# Seasonal Decomposition\n",
    "from statsmodels.tsa.seasonal import seasonal_decompose\n",
    "sampleTs_decomp = seasonal_decompose(sampleTs, period=12) \n",
    "sampleTs_trend = sampleTs_decomp.trend \n",
    "sampleTs_seasonal = sampleTs_decomp.seasonal \n",
    "sampleTs_residual = sampleTs_decomp.resid"
   ]
  },
  {
   "cell_type": "code",
   "execution_count": 45,
   "metadata": {},
   "outputs": [
    {
     "data": {
      "image/png": "[encoded data removed]",
      "text/plain": [
       "<Figure size 432x288 with 4 Axes>"
      ]
     },
     "execution_count": 45,
     "metadata": {},
     "output_type": "execute_result"
    },
    {
     "data": {
      "image/png": "[encoded data removed]",
      "text/plain": [
       "<Figure size 432x288 with 4 Axes>"
      ]
     },
     "metadata": {
      "needs_background": "light"
     },
     "output_type": "display_data"
    }
   ],
   "source": [
    "sampleTs_decomp.plot()"
   ]
  },
  {
   "cell_type": "markdown",
   "metadata": {},
   "source": [
    "**Modeling Time Series**\n",
    "\n",
    "So far, we have seen how to slice and dice the time series data and how to check for stationarity. The next logical step in time series analysis is forecasting. Forecasting in time series can be done in several ways.\n",
    "\n",
    "    Autoregressive\n",
    "    Moving Average\n",
    "    Autoregressive Moving Average\n",
    "    Autoregressive Integrated Moving Average\n",
    "    \n",
    "General Case:\n",
    "    \n",
    "    ARIMA(p, q, r) \n",
    "        - p: no. of AR terms or lags\n",
    "        - q: no. of differentiation\n",
    "        - r: no. of MA terms\n",
    "\n",
    "    ARIMA (1,0,0) is equivalent to AR Model.\n",
    "    ARIMA (0,0,1) is equivalent to MA model.\n",
    "    ARIMA (1,0,1) is equivalent to ARMA model.\n",
    "    ARIMA (0,1,0) is equivalent to random walk model.\n",
    "    ARIMA (0,1,1) is equivalent to exponential smoothing model.\n",
    "    \n",
    "**Random Walk Model**: The coefficient of first lag is 1. In typical AR model, the coefficient is always less than 1.\n",
    "\n",
    "$$ \\hat{y}_t - y_{t-1} = \\mu (constant) $$ \n",
    "\n",
    "=> $$ \\hat{y}_t = y_{t-1} + \\mu (constant) $$\n",
    "    \n",
    "**Exponential Smoothing Model**: Takes the average of last few observations.\n",
    "\n",
    "The assumption is that the weight given to the recent observation will be higher than the old observations. \n",
    "    \n",
    "$$ \\hat{y}_t = \\hat{y}_{t-1} + \\alpha * \\epsilon_{t-1} $$\n",
    "\n",
    "where $$ \\epsilon_{t-1} = {y}_{t-1} - \\hat{y}_{t-1} $$\n",
    "        \n",
    "In AR model, there is no guarantee that the cofficient of \\begin{equation} y_{t-1} \\text{will be higher than} y_{t-2}, \\end{equation} however this is the constraint for the exponential smoothing model.\n",
    "    \n",
    "    "
   ]
  },
  {
   "cell_type": "markdown",
   "metadata": {},
   "source": [
    "**Autoregression**\n",
    "\n",
    "In Autoregression, we use the current value of the variable to predict its future values. Here, the current and past time stamp values of the time series are used to predict the future values."
   ]
  },
  {
   "cell_type": "code",
   "execution_count": 46,
   "metadata": {},
   "outputs": [
    {
     "data": {
      "text/plain": [
       "<statsmodels.tsa.arima_model.ARIMAResultsWrapper at 0x7ff1bc357ed0>"
      ]
     },
     "execution_count": 46,
     "metadata": {},
     "output_type": "execute_result"
    }
   ],
   "source": [
    "from statsmodels.tsa.arima_model import ARIMA \n",
    "# The parameter order = (...) is very important in calling the right function for forecasting.\n",
    "# differenced first-order autoregressive model (1, 1, 0)\n",
    "model = ARIMA(sampleTs, order=(1, 1, 0)) \n",
    "autoReg = model.fit()\n",
    "autoReg"
   ]
  },
  {
   "cell_type": "markdown",
   "metadata": {},
   "source": [
    "**Moving Average**\n",
    "\n",
    "Moving average is another way to predict the time series data. Here, the dependent variable is expressed as a function of the previous values along with an average component. Example: 3-day moving average where \n",
    "\n",
    "$$ y_4 = (y_1 + y_2 + y_3) / 3; $$\n",
    "$$ y_5 = (y_2 + y_3 + y_4) / 3 $$ and so on.\n",
    "\n",
    "Average component keeps moving along the time series."
   ]
  },
  {
   "cell_type": "code",
   "execution_count": 47,
   "metadata": {},
   "outputs": [],
   "source": [
    "model = ARIMA(sampleTs, order=(0, 1, 1)) \n",
    "movingAvgRes = model.fit()"
   ]
  },
  {
   "cell_type": "markdown",
   "metadata": {},
   "source": [
    "**Selecting p and q**\n",
    "\n",
    "The p and q are parameters of the Autoregressive and Moving Average models. These parameters have to be selected by how they fit the historical data.\n",
    "\n",
    "The AIC or BIC have to be validated among the results and the model which has the lowest value should be chosen.\n",
    "\n",
    "- AIC stands for Akaike Information Criterion.\n",
    "- BIC stands for Bayesian Information Criterion."
   ]
  },
  {
   "cell_type": "markdown",
   "metadata": {},
   "source": [
    "**ARIMA**\n",
    "\n",
    "    ARIMA is the combination of Autoregressive and Moving Average.\n",
    "    ARIMA stands for Autoregressive Integrated Moving Average.\n",
    "    It is another model used for forecasting in Time Series Analysis."
   ]
  },
  {
   "cell_type": "code",
   "execution_count": 48,
   "metadata": {},
   "outputs": [],
   "source": [
    "model = ARIMA(sampleTs, order=(1, 0, 1)) \n",
    "arimares = model.fit() "
   ]
  },
  {
   "cell_type": "markdown",
   "metadata": {},
   "source": [
    "**Steps in Time Series**\n",
    "\n",
    "The first step is to Visualize the time series.\n",
    "\n",
    "The second step is to make the data stationary. This can be accomplished by:\n",
    "\n",
    " - Detrending \n",
    " - Differencing\n",
    " - Seasonality\n",
    "\n",
    "Getting the optimal parameters through Auto Correlation and Partial Auto Correlation.\n",
    "\n",
    "Build Model (AR, MA, ARMA, ARIMA) using the parameters.\n",
    "\n",
    "Make Predictions."
   ]
  },
  {
   "cell_type": "code",
   "execution_count": null,
   "metadata": {},
   "outputs": [],
   "source": []
  }
 ],
 "metadata": {
  "kernelspec": {
   "display_name": "Python 3",
   "language": "python",
   "name": "python3"
  },
  "language_info": {
   "codemirror_mode": {
    "name": "ipython",
    "version": 3
   },
   "file_extension": ".py",
   "mimetype": "text/x-python",
   "name": "python",
   "nbconvert_exporter": "python",
   "pygments_lexer": "ipython3",
   "version": "3.7.7"
  }
 },
 "nbformat": 4,
 "nbformat_minor": 4
}
